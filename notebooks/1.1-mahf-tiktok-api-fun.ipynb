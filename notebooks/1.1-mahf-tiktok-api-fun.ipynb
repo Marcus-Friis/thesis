{
 "cells": [
  {
   "cell_type": "markdown",
   "metadata": {},
   "source": [
    "# Augmenting TikTok API data\n",
    "Expanding on our [initial API exploration](/notebooks/1.0-mahf-tiktok-api-fun.ipynb), this notebook explores how to access the content of TikTok videos. To this end, we will experiment with [`pyktok`](https://github.com/dfreelon/pyktok)."
   ]
  },
  {
   "cell_type": "code",
   "execution_count": 1,
   "metadata": {},
   "outputs": [
    {
     "name": "stdout",
     "output_type": "stream",
     "text": [
      "We strongly recommend you run 'specify_browser' first, which will allow you to run pyktok's functions without using the browser_name parameter every time. 'specify_browser' takes as its sole argument a string representing a browser installed on your system, e.g. \"chrome,\" \"firefox,\" \"edge,\" etc.\n"
     ]
    }
   ],
   "source": [
    "import pyktok as pyk\n",
    "pyk.specify_browser('firefox')\n",
    "\n",
    "from IPython.display import Video"
   ]
  },
  {
   "cell_type": "markdown",
   "metadata": {},
   "source": [
    "Videos can be downloaded with _pyktok_ using the `save_tiktok` function. This example is taken from _pyktok's_ documentation."
   ]
  },
  {
   "cell_type": "code",
   "execution_count": 2,
   "metadata": {},
   "outputs": [
    {
     "name": "stdout",
     "output_type": "stream",
     "text": [
      "Saved video\n",
      " https://v16-webapp-prime.tiktok.com/video/tos/maliva/tos-maliva-ve-0068c799-us/ba0aec3465404e68a34b59f36151646a/?a=1988&bti=ODszNWYuMDE6&ch=0&cr=3&dr=0&lr=tiktok_m&cd=0%7C0%7C1%7C&cv=1&br=2104&bt=1052&cs=0&ds=3&ft=4fUEKMFw8Zmo0hSQj-4jVfpurpWrKsd.&mime_type=video_mp4&qs=0&rc=Njc1OGhkNTo5Ojc8aWgzZUBpM3F2cjU6Zmx1ZDMzZzczNEAvMC9fNF4vX18xNWA0YTItYSNgYmFgcjQwMGNgLS1kMS9zcw%3D%3D&btag=e00088000&expire=1716134541&l=202405191001556C48708144069C99B525&ply_type=2&policy=2&signature=050e5e1df7a910b6e4ac7b23b302b237&tk=tt_chain_token \n",
      "to\n",
      " /home/mahf/Desktop/thesis/notebooks\n",
      "Saved metadata for video\n",
      " https://www.tiktok.com/@tiktok/video/7106594312292453675?is_copy_url=1&is_from_webapp=v1 \n",
      "to\n",
      " /home/mahf/Desktop/thesis/notebooks\n"
     ]
    }
   ],
   "source": [
    "pyk.save_tiktok(\n",
    "    'https://www.tiktok.com/@tiktok/video/7106594312292453675?is_copy_url=1&is_from_webapp=v1',\n",
    "    True,\n",
    "    'video_data.csv',\n",
    "    'firefox')"
   ]
  },
  {
   "cell_type": "code",
   "execution_count": 3,
   "metadata": {},
   "outputs": [
    {
     "data": {
      "text/html": [
       "<video src=\"@tiktok_video_7106594312292453675.mp4\" controls  >\n",
       "      Your browser does not support the <code>video</code> element.\n",
       "    </video>"
      ],
      "text/plain": [
       "<IPython.core.display.Video object>"
      ]
     },
     "execution_count": 3,
     "metadata": {},
     "output_type": "execute_result"
    }
   ],
   "source": [
    "Video('@tiktok_video_7106594312292453675.mp4')"
   ]
  },
  {
   "cell_type": "markdown",
   "metadata": {},
   "source": [
    "However, it doesn't seem to always work. When downloading Mads' beautiful TikTok video, it doesn't work."
   ]
  },
  {
   "cell_type": "code",
   "execution_count": 4,
   "metadata": {},
   "outputs": [
    {
     "name": "stdout",
     "output_type": "stream",
     "text": [
      "Saved video\n",
      " https://webapp-i18n.tiktok.com/cd23fa41c3db4a243ddc490f481baccd/664a2278/kmoat/mps/logo/v2/r/p/v0f044gc0000cotm5pvog65joet4a52g/eec07a497c46431b9948a8c03d53680a/2b52521c8b253b47800c46ef677cf3c7/mp4/main.mp4?a=1988&bti=ODszNWYuMDE6&ch=0&cr=3&dr=0&lr=tiktok_m&cd=0%7C0%7C0%7C&br=0&bt=0&cs=0&ds=3&ft=4YBg3MFw8Zmo0wSQj-4jVXM1upWrKsd.&mime_type=video_mp4&qs=0&rc=NXZpTGRTaFBnKXVmZXpud2xAKTM5ODZmZDc8NDc3Ojc6ZmhnKTVkd3I4ank4d2YzM2o3aXl5U2xrdmlxRDpqYmwrYitsaHFgXjUwYS01NTZfMDNgNl4tYjpjZDIxYmczbG1qbC0tYDEtLTo%3D&btag=e00088000&definition=720p&item_id=7366590348262395168&l=2024051910015766CFB41A571DEE9E1416&logo_type=tiktok&ply_type=2&policy=eyJ2bSI6MiwiY2siOiJ0dF9jaGFpbl90b2tlbiJ9&user_text=bobbobsen136 \n",
      "to\n",
      " /home/mahf/Desktop/thesis/notebooks\n",
      "Saved metadata for video\n",
      " https://www.tiktok.com/@bobbobsen136/video/7366590348262395168?is_copy_url=1&is_from_webapp=v1 \n",
      "to\n",
      " /home/mahf/Desktop/thesis/notebooks\n"
     ]
    }
   ],
   "source": [
    "pyk.save_tiktok(\n",
    "    'https://www.tiktok.com/@bobbobsen136/video/7366590348262395168?is_copy_url=1&is_from_webapp=v1',\n",
    "    True,\n",
    "    'video_data.csv',\n",
    "    'firefox')"
   ]
  },
  {
   "cell_type": "code",
   "execution_count": 5,
   "metadata": {},
   "outputs": [
    {
     "data": {
      "text/html": [
       "<video src=\"@bobbobsen136_video_7366590348262395168.mp4\" controls  >\n",
       "      Your browser does not support the <code>video</code> element.\n",
       "    </video>"
      ],
      "text/plain": [
       "<IPython.core.display.Video object>"
      ]
     },
     "execution_count": 5,
     "metadata": {},
     "output_type": "execute_result"
    }
   ],
   "source": [
    "Video('@bobbobsen136_video_7366590348262395168.mp4')"
   ]
  }
 ],
 "metadata": {
  "kernelspec": {
   "display_name": "Python 3",
   "language": "python",
   "name": "python3"
  },
  "language_info": {
   "codemirror_mode": {
    "name": "ipython",
    "version": 3
   },
   "file_extension": ".py",
   "mimetype": "text/x-python",
   "name": "python",
   "nbconvert_exporter": "python",
   "pygments_lexer": "ipython3",
   "version": "3.10.12"
  }
 },
 "nbformat": 4,
 "nbformat_minor": 2
}
