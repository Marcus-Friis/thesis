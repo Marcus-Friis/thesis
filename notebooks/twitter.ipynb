{
 "cells": [
  {
   "cell_type": "code",
   "execution_count": null,
   "metadata": {},
   "outputs": [],
   "source": [
    "import pandas as pd\n",
    "import re\n",
    "import igraph as ig\n",
    "import numpy as np\n",
    "import matplotlib.pyplot as plt\n",
    "plt.style.use('ggplot')\n",
    "import os  \n",
    "from sys import argv"
   ]
  },
  {
   "cell_type": "code",
   "execution_count": null,
   "metadata": {},
   "outputs": [],
   "source": [
    "if len(argv) < 1:\n",
    "    raise ValueError('Hashtag must be provided as argument')\n",
    "hashtag = argv[1]\n",
    "\n",
    "data = pd.read_csv('../data/twitter/talk.csv')\n",
    "\n",
    "#create edgelist to create a graph with actor.preferredUsername connecting to the user_mentions of each tweet\n",
    "edgelist = []\n",
    "for i in range(len(data)):\n",
    "    if i % 10000 == 0:\n",
    "        print(i, len(data))\n",
    "        print(len(edgelist))\n",
    "    if f\"#{hashtag} \" in data.iloc[i]['body']:\n",
    "        user = data.iloc[i]['actor.preferredUsername']\n",
    "        mentions = data.iloc[i]['twitter_entities.user_mentions']\n",
    "        if mentions != '[]':\n",
    "            mentions = re.findall(r'\"screen_name\"\\s*:\\s*\"([^\"]+)\"', mentions)\n",
    "            for mention in mentions:\n",
    "                edgelist.append((user, mention))\n",
    "\n",
    "dir_path = f'../data/twitter'\n",
    "file_path = os.path.join(dir_path, f'{hashtag}.txt')\n",
    "\n",
    "with open(file_path, 'a', encoding='utf-8') as f:\n",
    "    for edge in edgelist:\n",
    "        f.write(f\"{edge}\\n\")"
   ]
  }
 ],
 "metadata": {
  "kernelspec": {
   "display_name": "rp",
   "language": "python",
   "name": "python3"
  },
  "language_info": {
   "name": "python",
   "version": "3.12.0"
  }
 },
 "nbformat": 4,
 "nbformat_minor": 2
}
