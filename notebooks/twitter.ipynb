{
 "cells": [
  {
   "cell_type": "code",
   "execution_count": 2,
   "metadata": {},
   "outputs": [],
   "source": [
    "import pandas as pd\n",
    "import re\n",
    "import igraph as ig\n",
    "import numpy as np\n",
    "import matplotlib.pyplot as plt\n",
    "plt.style.use('ggplot')\n",
    "import os  \n",
    "from sys import argv"
   ]
  },
  {
   "cell_type": "code",
   "execution_count": null,
   "metadata": {},
   "outputs": [],
   "source": [
    "#For old twitter data\n",
    "if len(argv) < 1:\n",
    "    raise ValueError('Hashtag must be provided as argument')\n",
    "hashtag = argv[1]\n",
    "\n",
    "data = pd.read_csv('../data/twitter/talk.csv')\n",
    "\n",
    "#create edgelist to create a graph with actor.preferredUsername connecting to the user_mentions of each tweet\n",
    "edgelist = []\n",
    "for i in range(len(data)):\n",
    "    if i % 10000 == 0:\n",
    "        print(i, len(data))\n",
    "        print(len(edgelist))\n",
    "    if f\"#{hashtag} \" in data.iloc[i]['body']:\n",
    "        user = data.iloc[i]['actor.preferredUsername']\n",
    "        mentions = data.iloc[i]['twitter_entities.user_mentions']\n",
    "        if mentions != '[]':\n",
    "            mentions = re.findall(r'\"screen_name\"\\s*:\\s*\"([^\"]+)\"', mentions)\n",
    "            for mention in mentions:\n",
    "                edgelist.append((user, mention))\n",
    "\n",
    "dir_path = f'../data/twitter'\n",
    "file_path = os.path.join(dir_path, f'{hashtag}.txt')\n",
    "\n",
    "with open(file_path, 'a', encoding='utf-8') as f:\n",
    "    for edge in edgelist:\n",
    "        f.write(f\"{edge}\\n\")"
   ]
  },
  {
   "cell_type": "markdown",
   "metadata": {},
   "source": [
    "New Twitter data"
   ]
  },
  {
   "cell_type": "code",
   "execution_count": 3,
   "metadata": {},
   "outputs": [],
   "source": [
    "filename = 'election'\n",
    "\n",
    "data = pd.read_pickle(f'../data/twitter/{filename}_tweets')"
   ]
  },
  {
   "cell_type": "code",
   "execution_count": 4,
   "metadata": {},
   "outputs": [
    {
     "data": {
      "text/plain": [
       "{'created_at': 'Tue Jul 16 17:47:33 +0000 2019',\n",
       " 'id': 1151186622597255168,\n",
       " 'id_str': '1151186622597255168',\n",
       " 'text': \"@GOP Looks like there's some rebranding going on for #Election2020.\\n\\n#WestVirginia #wvpol #2020Elections \\n\\nhttps://t.co/hG4gWXWo8q\",\n",
       " 'truncated': False,\n",
       " 'entities': {'hashtags': [{'text': 'Election2020', 'indices': [53, 66]},\n",
       "   {'text': 'WestVirginia', 'indices': [69, 82]},\n",
       "   {'text': 'wvpol', 'indices': [83, 89]},\n",
       "   {'text': '2020Elections', 'indices': [90, 104]}],\n",
       "  'symbols': [],\n",
       "  'user_mentions': [{'screen_name': 'GOP',\n",
       "    'name': 'GOP',\n",
       "    'id': 11134252,\n",
       "    'id_str': '11134252',\n",
       "    'indices': [0, 4]}],\n",
       "  'urls': [{'url': 'https://t.co/hG4gWXWo8q',\n",
       "    'expanded_url': 'https://jacobinmag.com/2019/07/west-virginia-stephen-smith-governor-2020-election/',\n",
       "    'display_url': 'jacobinmag.com/2019/07/west-v…',\n",
       "    'indices': [107, 130]}]},\n",
       " 'source': '<a href=\"https://mobile.twitter.com\" rel=\"nofollow\">Twitter Web App</a>',\n",
       " 'in_reply_to_status_id': None,\n",
       " 'in_reply_to_status_id_str': None,\n",
       " 'in_reply_to_user_id': 11134252,\n",
       " 'in_reply_to_user_id_str': '11134252',\n",
       " 'in_reply_to_screen_name': 'GOP',\n",
       " 'user': {'id': 257039606,\n",
       "  'id_str': '257039606',\n",
       "  'name': 'AtlanticVamp',\n",
       "  'screen_name': 'TheAtlanticVamp',\n",
       "  'location': '',\n",
       "  'description': \"DON'T POST YOUR PERSONAL INFO. \\n\\n$atlanticvamp\",\n",
       "  'url': 'https://t.co/i0tqp4mvtq',\n",
       "  'entities': {'url': {'urls': [{'url': 'https://t.co/i0tqp4mvtq',\n",
       "      'expanded_url': 'https://fightfor15.org/',\n",
       "      'display_url': 'fightfor15.org',\n",
       "      'indices': [0, 23]}]},\n",
       "   'description': {'urls': []}},\n",
       "  'protected': False,\n",
       "  'followers_count': 756,\n",
       "  'friends_count': 109,\n",
       "  'listed_count': 19,\n",
       "  'created_at': 'Thu Feb 24 16:03:09 +0000 2011',\n",
       "  'favourites_count': 145112,\n",
       "  'utc_offset': None,\n",
       "  'time_zone': None,\n",
       "  'geo_enabled': True,\n",
       "  'verified': False,\n",
       "  'statuses_count': 84580,\n",
       "  'lang': None,\n",
       "  'contributors_enabled': False,\n",
       "  'is_translator': False,\n",
       "  'is_translation_enabled': False,\n",
       "  'profile_background_color': 'DD2E44',\n",
       "  'profile_background_image_url': 'http://abs.twimg.com/images/themes/theme9/bg.gif',\n",
       "  'profile_background_image_url_https': 'https://abs.twimg.com/images/themes/theme9/bg.gif',\n",
       "  'profile_background_tile': True,\n",
       "  'profile_image_url': 'http://pbs.twimg.com/profile_images/1455033569605267461/vJzM2xlP_normal.jpg',\n",
       "  'profile_image_url_https': 'https://pbs.twimg.com/profile_images/1455033569605267461/vJzM2xlP_normal.jpg',\n",
       "  'profile_banner_url': 'https://pbs.twimg.com/profile_banners/257039606/1635742011',\n",
       "  'profile_link_color': '19CF86',\n",
       "  'profile_sidebar_border_color': 'FFFFFF',\n",
       "  'profile_sidebar_fill_color': '252429',\n",
       "  'profile_text_color': '666666',\n",
       "  'profile_use_background_image': True,\n",
       "  'has_extended_profile': False,\n",
       "  'default_profile': False,\n",
       "  'default_profile_image': False,\n",
       "  'following': False,\n",
       "  'follow_request_sent': False,\n",
       "  'notifications': False,\n",
       "  'translator_type': 'none',\n",
       "  'withheld_in_countries': []},\n",
       " 'geo': None,\n",
       " 'coordinates': None,\n",
       " 'place': None,\n",
       " 'contributors': None,\n",
       " 'is_quote_status': False,\n",
       " 'retweet_count': 0,\n",
       " 'favorite_count': 2,\n",
       " 'favorited': False,\n",
       " 'retweeted': False,\n",
       " 'possibly_sensitive': False,\n",
       " 'lang': 'en'}"
      ]
     },
     "execution_count": 4,
     "metadata": {},
     "output_type": "execute_result"
    }
   ],
   "source": [
    "data[0]"
   ]
  },
  {
   "cell_type": "code",
   "execution_count": 5,
   "metadata": {},
   "outputs": [
    {
     "name": "stdout",
     "output_type": "stream",
     "text": [
      "49159\n",
      "2266\n"
     ]
    }
   ],
   "source": [
    "# Convert the list to a DataFrame\n",
    "df = pd.DataFrame(data)\n",
    "\n",
    "# Count how many have a in_reply_to_user_id and not\n",
    "print(df['in_reply_to_user_id'].isna().sum())\n",
    "print(df['in_reply_to_user_id'].notna().sum())"
   ]
  },
  {
   "cell_type": "code",
   "execution_count": 6,
   "metadata": {},
   "outputs": [],
   "source": [
    "#create edgelist using in_reply_to_user_id and user id\n",
    "edgelist = []\n",
    "for i in range(len(df)):\n",
    "    edgelist.append((df.iloc[i]['user']['id'], df.iloc[i]['in_reply_to_user_id']))\n",
    "#remove nans\n",
    "edgelist = [edge for edge in edgelist if str(edge[1]) != 'nan']\n",
    "#make int\n",
    "edgelist = [(int(edge[0]), int(edge[1])) for edge in edgelist]"
   ]
  },
  {
   "cell_type": "code",
   "execution_count": 7,
   "metadata": {},
   "outputs": [],
   "source": [
    "#save edgelist to file\n",
    "dir_path = f'../data/twitter'\n",
    "file_path = os.path.join(dir_path, f'{filename}_edges.txt')\n",
    "\n",
    "with open(file_path, 'a', encoding='utf-8') as f:\n",
    "    for edge in edgelist:\n",
    "        f.write(f\"{edge[0]},{edge[1]}\\n\")\n"
   ]
  },
  {
   "cell_type": "code",
   "execution_count": null,
   "metadata": {},
   "outputs": [],
   "source": []
  }
 ],
 "metadata": {
  "kernelspec": {
   "display_name": "rp",
   "language": "python",
   "name": "python3"
  },
  "language_info": {
   "codemirror_mode": {
    "name": "ipython",
    "version": 3
   },
   "file_extension": ".py",
   "mimetype": "text/x-python",
   "name": "python",
   "nbconvert_exporter": "python",
   "pygments_lexer": "ipython3",
   "version": "3.12.0"
  }
 },
 "nbformat": 4,
 "nbformat_minor": 2
}
