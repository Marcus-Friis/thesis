{
 "cells": [
  {
   "cell_type": "code",
   "execution_count": 2,
   "metadata": {},
   "outputs": [],
   "source": [
    "import igraph as ig\n",
    "import os"
   ]
  },
  {
   "cell_type": "code",
   "execution_count": 11,
   "metadata": {},
   "outputs": [],
   "source": [
    "data_path = '../data/hashtags/edges/'\n",
    "edge_files = [file for file in os.listdir(data_path) if file.endswith('.txt')]"
   ]
  },
  {
   "cell_type": "code",
   "execution_count": 12,
   "metadata": {},
   "outputs": [],
   "source": [
    "def format_edgelist(edge_list):\n",
    "    pass"
   ]
  },
  {
   "cell_type": "code",
   "execution_count": 36,
   "metadata": {},
   "outputs": [],
   "source": [
    "output_string = ''\n",
    "for i, edge_file in enumerate(edge_files):\n",
    "    edge_file_path = os.path.join(data_path, edge_file)\n",
    "    with open(edge_file_path, 'r') as f:\n",
    "        edges = f.readlines()\n",
    "    users = []\n",
    "    for edge in edges:\n",
    "        u, v = edge.strip().split(',')\n",
    "        if 'None' in v:\n",
    "            continue\n",
    "        u_user = u.split('/')[-3]\n",
    "        v_user = v.split('/')[-3]\n",
    "        users.append((u_user, v_user))\n",
    "\n",
    "    g = ig.Graph.TupleList(users, directed=True)\n",
    "\n",
    "    output_string += f't # {i}\\n'\n",
    "    for v in g.vs:\n",
    "        output_string += f'v {v.index} 0\\n'\n",
    "    for e in g.es:\n",
    "        output_string += f'e {e.source} {e.target} 0\\n'\n",
    "    output_string += '\\n'\n"
   ]
  },
  {
   "cell_type": "code",
   "execution_count": 30,
   "metadata": {},
   "outputs": [],
   "source": [
    "with open('lol.txt', 'w') as f:\n",
    "    f.write(output_string)"
   ]
  }
 ],
 "metadata": {
  "kernelspec": {
   "display_name": "Python 3",
   "language": "python",
   "name": "python3"
  },
  "language_info": {
   "codemirror_mode": {
    "name": "ipython",
    "version": 3
   },
   "file_extension": ".py",
   "mimetype": "text/x-python",
   "name": "python",
   "nbconvert_exporter": "python",
   "pygments_lexer": "ipython3",
   "version": "3.10.12"
  }
 },
 "nbformat": 4,
 "nbformat_minor": 2
}
