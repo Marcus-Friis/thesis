{
 "cells": [
  {
   "cell_type": "code",
   "execution_count": 1,
   "metadata": {},
   "outputs": [],
   "source": [
    "import igraph as ig\n",
    "import networkx as nx\n",
    "import matplotlib.pyplot as plt\n",
    "import os\n",
    "from network2tikz import plot"
   ]
  },
  {
   "cell_type": "code",
   "execution_count": 2,
   "metadata": {},
   "outputs": [],
   "source": [
    "data_path = '../data/hashtags/edges/'\n",
    "edge_files = [file for file in os.listdir(data_path) if file.endswith('.txt')]"
   ]
  },
  {
   "cell_type": "markdown",
   "metadata": {},
   "source": [
    "### Generate gSpan format\n",
    "```\n",
    "t # 0\n",
    "v 1 a\n",
    "v 2 b\n",
    "e 1 2 a\n",
    "```"
   ]
  },
  {
   "cell_type": "code",
   "execution_count": 3,
   "metadata": {},
   "outputs": [],
   "source": [
    "output_string = ''\n",
    "for i, edge_file in enumerate(edge_files):\n",
    "    edge_file_path = os.path.join(data_path, edge_file)\n",
    "    with open(edge_file_path, 'r') as f:\n",
    "        edges = f.readlines()\n",
    "    users = []\n",
    "    for edge in edges:\n",
    "        u, v = edge.strip().split(',')\n",
    "        if 'None' in v:\n",
    "            continue\n",
    "        u_user = u.split('/')[-3]\n",
    "        v_user = v.split('/')[-3]\n",
    "        users.append((u_user, v_user))\n",
    "\n",
    "    g = ig.Graph.TupleList(users, directed=False)\n",
    "    g = g.components().giant()\n",
    "\n",
    "    output_string += f't # {i}\\n'\n",
    "    for v in g.vs:\n",
    "        output_string += f'v {v.index} 0\\n'\n",
    "    for e in g.es:\n",
    "        output_string += f'e {e.source} {e.target} 0\\n'"
   ]
  },
  {
   "cell_type": "code",
   "execution_count": 4,
   "metadata": {},
   "outputs": [],
   "source": [
    "with open('lcc.txt', 'w') as f:\n",
    "    f.write(output_string)"
   ]
  },
  {
   "cell_type": "markdown",
   "metadata": {},
   "source": [
    "#### Repeat but for the 5 largest components"
   ]
  },
  {
   "cell_type": "code",
   "execution_count": 46,
   "metadata": {},
   "outputs": [],
   "source": [
    "output_string = ''\n",
    "for i, edge_file in enumerate(edge_files):\n",
    "    edge_file_path = os.path.join(data_path, edge_file)\n",
    "    with open(edge_file_path, 'r') as f:\n",
    "        edges = f.readlines()\n",
    "    users = []\n",
    "    for edge in edges:\n",
    "        u, v = edge.strip().split(',')\n",
    "        if 'None' in v:\n",
    "            continue\n",
    "        u_user = u.split('/')[-3]\n",
    "        v_user = v.split('/')[-3]\n",
    "        users.append((u_user, v_user))\n",
    "\n",
    "    components = g.components()\n",
    "    largest_components = sorted(components, key=len, reverse=True)[:5]\n",
    "    largest_components_nodes = [v for c in largest_components for v in c]\n",
    "    g_sub = g.subgraph(g.vs[largest_components_nodes])\n",
    "\n",
    "    output_string += f't # {i}\\n'\n",
    "    for v in g.vs:\n",
    "        output_string += f'v {v.index} 0\\n'\n",
    "    for e in g.es:\n",
    "        output_string += f'e {e.source} {e.target} 0\\n'"
   ]
  },
  {
   "cell_type": "code",
   "execution_count": 48,
   "metadata": {},
   "outputs": [],
   "source": [
    "with open('lcc_top5.txt', 'w') as f:\n",
    "    f.write(output_string)"
   ]
  },
  {
   "cell_type": "markdown",
   "metadata": {},
   "source": [
    "#### Plot frequent subgraphs"
   ]
  },
  {
   "cell_type": "code",
   "execution_count": 5,
   "metadata": {},
   "outputs": [],
   "source": [
    "with open('lcc.txt.fp', 'r') as f:\n",
    "    subgraph_string = f.read()\n",
    "\n",
    "# Split into lines for parsing\n",
    "lines = subgraph_string.strip().split('\\n')\n",
    "\n",
    "# Initialize variables\n",
    "graphs = []\n",
    "vertices_set = set()\n",
    "edges = []\n",
    "current_support = None\n",
    "\n",
    "# Iterate through lines and parse the subgraphs\n",
    "for line in lines:\n",
    "    if line == '':  # Skip empty lines\n",
    "        continue\n",
    "    parts = line.split()\n",
    "    \n",
    "    if parts[0] == 't':  # Start of a new subgraph\n",
    "        if vertices_set or edges:\n",
    "            # If we have collected vertices and edges, create a graph\n",
    "            g = ig.Graph(directed=False)\n",
    "            g.add_vertices(len(vertices_set))\n",
    "            for edge in edges:\n",
    "                g.add_edge(edge[0], edge[1])\n",
    "            \n",
    "            g[\"support\"] = current_support  # Store the support of the subgraph\n",
    "            graphs.append(g)\n",
    "        \n",
    "        # Reset for the new graph\n",
    "        vertices_set = set()\n",
    "        edges = []\n",
    "        current_support = int(parts[4])  # Support of the current graph\n",
    "\n",
    "    elif parts[0] == 'v':  # Vertex line\n",
    "        vertex_id = int(parts[1])\n",
    "        vertices_set.add(vertex_id)\n",
    "\n",
    "    elif parts[0] == 'e':  # Edge line\n",
    "        source = int(parts[1])\n",
    "        target = int(parts[2])\n",
    "        edges.append((source, target))\n",
    "\n",
    "# Add the last graph after loop\n",
    "if vertices_set or edges:\n",
    "    g = ig.Graph(directed=False)\n",
    "    g.add_vertices(len(vertices_set))\n",
    "    for edge in edges:\n",
    "        g.add_edge(edge[0], edge[1])\n",
    "    \n",
    "    g[\"support\"] = current_support\n",
    "    graphs.append(g)"
   ]
  },
  {
   "cell_type": "code",
   "execution_count": 12,
   "metadata": {},
   "outputs": [
    {
     "name": "stderr",
     "output_type": "stream",
     "text": [
      "No LaTex compiler was found! Either specify a LaTex compiler or make sure you have latexmk or pdfLaTex installed.\n"
     ]
    },
    {
     "ename": "CnetError",
     "evalue": "",
     "output_type": "error",
     "traceback": [
      "\u001b[0;31m---------------------------------------------------------------------------\u001b[0m",
      "\u001b[0;31mCnetError\u001b[0m                                 Traceback (most recent call last)",
      "Cell \u001b[0;32mIn[12], line 5\u001b[0m\n\u001b[1;32m      3\u001b[0m     \u001b[38;5;28;01mif\u001b[39;00m g[\u001b[38;5;124m'\u001b[39m\u001b[38;5;124msupport\u001b[39m\u001b[38;5;124m'\u001b[39m] \u001b[38;5;241m>\u001b[39m \u001b[38;5;241m20\u001b[39m:\n\u001b[1;32m      4\u001b[0m         g_nx \u001b[38;5;241m=\u001b[39m g\u001b[38;5;241m.\u001b[39mto_networkx()\n\u001b[0;32m----> 5\u001b[0m         \u001b[43mplot\u001b[49m\u001b[43m(\u001b[49m\u001b[43mg_nx\u001b[49m\u001b[43m)\u001b[49m\n\u001b[1;32m      7\u001b[0m \u001b[38;5;66;03m#         ig.plot(g, f'graph_{i}_{g[\"support\"]}.png', bbox=(0, 0, 300, 300))\u001b[39;00m\n",
      "File \u001b[0;32m~/Desktop/thesis/karateclub/lib/python3.10/site-packages/network2tikz/plot.py:566\u001b[0m, in \u001b[0;36m__call__\u001b[0;34m(self, network, filename, type, **kwds)\u001b[0m\n",
      "File \u001b[0;32m~/Desktop/thesis/karateclub/lib/python3.10/site-packages/network2tikz/plot.py:655\u001b[0m, in \u001b[0;36msave\u001b[0;34m(self, filename, type, **kwds)\u001b[0m\n",
      "File \u001b[0;32m~/Desktop/thesis/karateclub/lib/python3.10/site-packages/network2tikz/plot.py:879\u001b[0m, in \u001b[0;36msave_pdf\u001b[0;34m(self, filename, clean, clean_tex, compiler, compiler_args, silent)\u001b[0m\n",
      "\u001b[0;31mCnetError\u001b[0m: "
     ]
    }
   ],
   "source": [
    "# plot first 10 graphs\n",
    "for i, g in enumerate(graphs):\n",
    "    if g['support'] > 20:\n",
    "        g_nx = g.to_networkx()\n",
    "        plot(g_nx)\n",
    "        \n",
    "#         ig.plot(g, f'graph_{i}_{g[\"support\"]}.png', bbox=(0, 0, 300, 300))"
   ]
  },
  {
   "cell_type": "markdown",
   "metadata": {},
   "source": [
    "### Generate nel format\n",
    "```\n",
    "v 1\n",
    "v 2\n",
    "e 1 2\n",
    "g graph 1\n",
    "x 0\n",
    "```"
   ]
  },
  {
   "cell_type": "code",
   "execution_count": 43,
   "metadata": {},
   "outputs": [],
   "source": [
    "output_string = ''\n",
    "for i, edge_file in enumerate(edge_files):\n",
    "    edge_file_path = os.path.join(data_path, edge_file)\n",
    "    with open(edge_file_path, 'r') as f:\n",
    "        edges = f.readlines()\n",
    "    users = []\n",
    "    for edge in edges:\n",
    "        u, v = edge.strip().split(',')\n",
    "        if 'None' in v:\n",
    "            continue\n",
    "        u_user = u.split('/')[-3]\n",
    "        v_user = v.split('/')[-3]\n",
    "        users.append((u_user, v_user))\n",
    "\n",
    "    g = ig.Graph.TupleList(users, directed=False)\n",
    "    # get largest connected component\n",
    "    g = g.components().giant()\n",
    "\n",
    "    for v in g.vs:\n",
    "        output_string += f'v {v.index + 1}\\n'\n",
    "    for e in g.es:\n",
    "        output_string += f'e {e.source + 1} {e.target + 1}\\n'\n",
    "    output_string += f'g {edge_file.split(\"_\")[0]} {i+1}\\n'\n",
    "    output_string += 'x 0\\n\\n'\n",
    "    # if i == 3:\n",
    "    #     break\n",
    "\n",
    "output_string = output_string.strip() + '\\n'\n"
   ]
  },
  {
   "cell_type": "code",
   "execution_count": 44,
   "metadata": {},
   "outputs": [],
   "source": [
    "with open('lolxd.nel', 'w') as f:\n",
    "    f.write(output_string)"
   ]
  }
 ],
 "metadata": {
  "kernelspec": {
   "display_name": "Python 3",
   "language": "python",
   "name": "python3"
  },
  "language_info": {
   "codemirror_mode": {
    "name": "ipython",
    "version": 3
   },
   "file_extension": ".py",
   "mimetype": "text/x-python",
   "name": "python",
   "nbconvert_exporter": "python",
   "pygments_lexer": "ipython3",
   "version": "3.10.12"
  }
 },
 "nbformat": 4,
 "nbformat_minor": 2
}
