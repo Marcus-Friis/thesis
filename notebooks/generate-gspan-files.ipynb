{
 "cells": [
  {
   "cell_type": "code",
   "execution_count": 2,
   "metadata": {},
   "outputs": [],
   "source": [
    "import igraph as ig\n",
    "import os"
   ]
  },
  {
   "cell_type": "code",
   "execution_count": 11,
   "metadata": {},
   "outputs": [],
   "source": [
    "data_path = '../data/hashtags/edges/'\n",
    "edge_files = [file for file in os.listdir(data_path) if file.endswith('.txt')]"
   ]
  },
  {
   "cell_type": "code",
   "execution_count": 12,
   "metadata": {},
   "outputs": [],
   "source": [
    "def format_edgelist(edge_list):\n",
    "    pass"
   ]
  },
  {
   "cell_type": "code",
   "execution_count": null,
   "metadata": {},
   "outputs": [],
   "source": [
    "for edge_file in edge_files:\n",
    "    edge_file_path = os.path.join(data_path, edge_file)\n",
    "    with open(edge_file_path, 'r') as f:\n",
    "        edges = f.readlines()\n",
    "    vids = []\n",
    "    users = []\n",
    "    for edge in edges:\n",
    "        u, v = edge.strip().split(',')\n",
    "        if 'None' in v:\n",
    "            continue\n",
    "        u_id = str(u.split('/')[-1])\n",
    "        v_id = str(v.split('/')[-1])\n",
    "        u_user = u.split('/')[-3]\n",
    "        v_user = v.split('/')[-3]\n",
    "        vids.append((u_id, v_id))\n",
    "        users.append((u_user, v_user))\n",
    "\n",
    "    sources = [x[0] for x in vids]\n",
    "    targets = [x[1] for x in vids]"
   ]
  }
 ],
 "metadata": {
  "kernelspec": {
   "display_name": "Python 3",
   "language": "python",
   "name": "python3"
  },
  "language_info": {
   "codemirror_mode": {
    "name": "ipython",
    "version": 3
   },
   "file_extension": ".py",
   "mimetype": "text/x-python",
   "name": "python",
   "nbconvert_exporter": "python",
   "pygments_lexer": "ipython3",
   "version": "3.10.12"
  }
 },
 "nbformat": 4,
 "nbformat_minor": 2
}
