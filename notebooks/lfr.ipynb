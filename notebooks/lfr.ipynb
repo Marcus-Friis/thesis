{
 "cells": [
  {
   "cell_type": "code",
   "execution_count": 21,
   "metadata": {},
   "outputs": [],
   "source": [
    "import networkx as nx\n",
    "from networkx.generators import community as comm\n",
    "import igraph as ig\n",
    "import powerlaw\n",
    "import numpy as np\n",
    "import matplotlib.pyplot as plt"
   ]
  },
  {
   "cell_type": "code",
   "execution_count": 22,
   "metadata": {},
   "outputs": [],
   "source": [
    "def import_nx_network(net):\n",
    "    graph = ig.Graph(n=net.number_of_nodes(), directed=False)\n",
    "    graph.add_edges(net.edges())\n",
    "\n",
    "    return graph\n",
    "\n",
    "def LFR_graph(N, τ1, τ2, μ, **kwargs):\n",
    "     net = comm.LFR_benchmark_graph(N, τ1, τ2, μ, **kwargs)\n",
    "     graph = import_nx_network(net)\n",
    "\n",
    "     return graph"
   ]
  },
  {
   "cell_type": "code",
   "execution_count": 23,
   "metadata": {},
   "outputs": [],
   "source": [
    "G = nx.DiGraph()"
   ]
  },
  {
   "cell_type": "code",
   "execution_count": 24,
   "metadata": {},
   "outputs": [],
   "source": [
    "# get edgelist from this file as string '../data/hashtags/edges/lgbt_edges.txt'\n",
    "edgelist = open('../data/hashtags/edges/lgbt_edges.txt').read()"
   ]
  },
  {
   "cell_type": "code",
   "execution_count": 25,
   "metadata": {},
   "outputs": [],
   "source": [
    "for line in edgelist.strip().split('\\n'):\n",
    "    node1, node2 = line.split(',')\n",
    "    if node2 != 'None':  # Ignore edges where the second node is 'None'\n",
    "        G.add_edge(node1, node2)"
   ]
  },
  {
   "cell_type": "code",
   "execution_count": 26,
   "metadata": {},
   "outputs": [],
   "source": [
    "degree_sequence = sorted((d for n, d in G.in_degree()), reverse=True)"
   ]
  },
  {
   "cell_type": "code",
   "execution_count": 27,
   "metadata": {},
   "outputs": [
    {
     "name": "stdout",
     "output_type": "stream",
     "text": [
      "Calculating best minimal value for power law fit\n",
      "xmin progress: 92%\r"
     ]
    },
    {
     "name": "stderr",
     "output_type": "stream",
     "text": [
      "Values less than or equal to 0 in data. Throwing out 0 or negative values\n"
     ]
    }
   ],
   "source": [
    "fit = powerlaw.Fit(degree_sequence)"
   ]
  },
  {
   "cell_type": "code",
   "execution_count": 28,
   "metadata": {},
   "outputs": [],
   "source": [
    "tau1 = fit.power_law.alpha"
   ]
  },
  {
   "cell_type": "code",
   "execution_count": 29,
   "metadata": {},
   "outputs": [
    {
     "data": {
      "text/plain": [
       "11.03843762418175"
      ]
     },
     "execution_count": 29,
     "metadata": {},
     "output_type": "execute_result"
    }
   ],
   "source": [
    "tau1"
   ]
  },
  {
   "cell_type": "code",
   "execution_count": 30,
   "metadata": {},
   "outputs": [
    {
     "data": {
      "text/plain": [
       "0.4396020843202274"
      ]
     },
     "execution_count": 30,
     "metadata": {},
     "output_type": "execute_result"
    }
   ],
   "source": [
    "from networkx.algorithms import community as community\n",
    "communities = community.greedy_modularity_communities(G)\n",
    "partition = {}\n",
    "for i, comm in enumerate(communities):\n",
    "    for node in comm:\n",
    "        partition[node] = i\n",
    "total_mu = 0\n",
    "for node in G.nodes():\n",
    "    # Get the community of the current node\n",
    "    community_of_node = partition[node]\n",
    "    \n",
    "    # Count intra-community edges (within the same community)\n",
    "    intra_community_edges = sum(1 for neighbor in G.neighbors(node) if partition[neighbor] == community_of_node)\n",
    "    \n",
    "    # Total number of edges for this node (degree)\n",
    "    total_edges = G.degree[node]\n",
    "    \n",
    "    # Compute inter-community edges\n",
    "    inter_community_edges = total_edges - intra_community_edges\n",
    "    \n",
    "    # Compute mu for this node\n",
    "    if total_edges > 0:\n",
    "        mu_node = inter_community_edges / total_edges\n",
    "    else:\n",
    "        mu_node = 0  # Handle isolated nodes\n",
    "    \n",
    "    # Accumulate mu\n",
    "    total_mu += mu_node\n",
    "\n",
    "# Compute the average mu for the graph\n",
    "mu = total_mu / G.number_of_nodes()\n",
    "mu"
   ]
  },
  {
   "cell_type": "code",
   "execution_count": 31,
   "metadata": {},
   "outputs": [],
   "source": [
    "community_sizes = [list(partition.values()).count(c) for c in set(partition.values())]"
   ]
  },
  {
   "cell_type": "code",
   "execution_count": 32,
   "metadata": {},
   "outputs": [
    {
     "name": "stdout",
     "output_type": "stream",
     "text": [
      "Calculating best minimal value for power law fit\n",
      "xmin progress: 92%\r"
     ]
    },
    {
     "data": {
      "text/plain": [
       "16.199971734892827"
      ]
     },
     "execution_count": 32,
     "metadata": {},
     "output_type": "execute_result"
    }
   ],
   "source": [
    "fit_community = powerlaw.Fit(community_sizes)\n",
    "tau2 = fit_community.power_law.alpha\n",
    "tau2"
   ]
  },
  {
   "cell_type": "code",
   "execution_count": 35,
   "metadata": {},
   "outputs": [
    {
     "ename": "ExceededMaxIterations",
     "evalue": "Could not match average_degree",
     "output_type": "error",
     "traceback": [
      "\u001b[1;31m---------------------------------------------------------------------------\u001b[0m",
      "\u001b[1;31mExceededMaxIterations\u001b[0m                     Traceback (most recent call last)",
      "Cell \u001b[1;32mIn[35], line 7\u001b[0m\n\u001b[0;32m      5\u001b[0m tau2 \u001b[38;5;241m=\u001b[39m \u001b[38;5;241m16.199971734892827\u001b[39m\n\u001b[0;32m      6\u001b[0m mu \u001b[38;5;241m=\u001b[39m \u001b[38;5;241m0.4396020843202274\u001b[39m\n\u001b[1;32m----> 7\u001b[0m G \u001b[38;5;241m=\u001b[39m \u001b[43mcomm\u001b[49m\u001b[38;5;241;43m.\u001b[39;49m\u001b[43mLFR_benchmark_graph\u001b[49m\u001b[43m(\u001b[49m\n\u001b[0;32m      8\u001b[0m \u001b[43m    \u001b[49m\u001b[43mn\u001b[49m\u001b[43m,\u001b[49m\u001b[43m \u001b[49m\u001b[43mtau1\u001b[49m\u001b[43m,\u001b[49m\u001b[43m \u001b[49m\u001b[43mtau2\u001b[49m\u001b[43m,\u001b[49m\u001b[43m \u001b[49m\u001b[43mmu\u001b[49m\u001b[43m,\u001b[49m\u001b[43m \u001b[49m\u001b[43maverage_degree\u001b[49m\u001b[38;5;241;43m=\u001b[39;49m\u001b[43maverage_degree\u001b[49m\u001b[43m,\u001b[49m\u001b[43m \u001b[49m\u001b[43mseed\u001b[49m\u001b[38;5;241;43m=\u001b[39;49m\u001b[38;5;241;43m10\u001b[39;49m\n\u001b[0;32m      9\u001b[0m \u001b[43m)\u001b[49m\n",
      "File \u001b[1;32m<class 'networkx.utils.decorators.argmap'> compilation 9:4\u001b[0m, in \u001b[0;36margmap_LFR_benchmark_graph_5\u001b[1;34m(n, tau1, tau2, mu, average_degree, min_degree, max_degree, min_community, max_community, tol, max_iters, seed, backend, **backend_kwargs)\u001b[0m\n\u001b[0;32m      2\u001b[0m \u001b[38;5;28;01mimport\u001b[39;00m \u001b[38;5;21;01mcollections\u001b[39;00m\n\u001b[0;32m      3\u001b[0m \u001b[38;5;28;01mimport\u001b[39;00m \u001b[38;5;21;01mgzip\u001b[39;00m\n\u001b[1;32m----> 4\u001b[0m \u001b[38;5;28;01mimport\u001b[39;00m \u001b[38;5;21;01minspect\u001b[39;00m\n\u001b[0;32m      5\u001b[0m \u001b[38;5;28;01mimport\u001b[39;00m \u001b[38;5;21;01mitertools\u001b[39;00m\n\u001b[0;32m      6\u001b[0m \u001b[38;5;28;01mimport\u001b[39;00m \u001b[38;5;21;01mre\u001b[39;00m\n",
      "File \u001b[1;32mc:\\Users\\morte\\Anaconda3\\envs\\rp\\Lib\\site-packages\\networkx\\utils\\backends.py:967\u001b[0m, in \u001b[0;36m_dispatchable.__call__\u001b[1;34m(self, backend, *args, **kwargs)\u001b[0m\n\u001b[0;32m    965\u001b[0m     \u001b[38;5;28;01mif\u001b[39;00m backend \u001b[38;5;129;01mis\u001b[39;00m \u001b[38;5;129;01mnot\u001b[39;00m \u001b[38;5;28;01mNone\u001b[39;00m \u001b[38;5;129;01mand\u001b[39;00m backend \u001b[38;5;241m!=\u001b[39m \u001b[38;5;124m\"\u001b[39m\u001b[38;5;124mnetworkx\u001b[39m\u001b[38;5;124m\"\u001b[39m:\n\u001b[0;32m    966\u001b[0m         \u001b[38;5;28;01mraise\u001b[39;00m \u001b[38;5;167;01mImportError\u001b[39;00m(\u001b[38;5;124mf\u001b[39m\u001b[38;5;124m\"\u001b[39m\u001b[38;5;124m'\u001b[39m\u001b[38;5;132;01m{\u001b[39;00mbackend\u001b[38;5;132;01m}\u001b[39;00m\u001b[38;5;124m'\u001b[39m\u001b[38;5;124m backend is not installed\u001b[39m\u001b[38;5;124m\"\u001b[39m)\n\u001b[1;32m--> 967\u001b[0m     \u001b[38;5;28;01mreturn\u001b[39;00m \u001b[38;5;28;43mself\u001b[39;49m\u001b[38;5;241;43m.\u001b[39;49m\u001b[43morig_func\u001b[49m\u001b[43m(\u001b[49m\u001b[38;5;241;43m*\u001b[39;49m\u001b[43margs\u001b[49m\u001b[43m,\u001b[49m\u001b[43m \u001b[49m\u001b[38;5;241;43m*\u001b[39;49m\u001b[38;5;241;43m*\u001b[39;49m\u001b[43mkwargs\u001b[49m\u001b[43m)\u001b[49m\n\u001b[0;32m    969\u001b[0m \u001b[38;5;66;03m# Use `backend_name` in this function instead of `backend`.\u001b[39;00m\n\u001b[0;32m    970\u001b[0m \u001b[38;5;66;03m# This is purely for aesthetics and to make it easier to search for this\u001b[39;00m\n\u001b[0;32m    971\u001b[0m \u001b[38;5;66;03m# variable since \"backend\" is used in many comments and log/error messages.\u001b[39;00m\n\u001b[0;32m    972\u001b[0m backend_name \u001b[38;5;241m=\u001b[39m backend\n",
      "File \u001b[1;32mc:\\Users\\morte\\Anaconda3\\envs\\rp\\Lib\\site-packages\\networkx\\generators\\community.py:1011\u001b[0m, in \u001b[0;36mLFR_benchmark_graph\u001b[1;34m(n, tau1, tau2, mu, average_degree, min_degree, max_degree, min_community, max_community, tol, max_iters, seed)\u001b[0m\n\u001b[0;32m   1007\u001b[0m     \u001b[38;5;28;01mraise\u001b[39;00m nx\u001b[38;5;241m.\u001b[39mNetworkXError(\n\u001b[0;32m   1008\u001b[0m         \u001b[38;5;124m\"\u001b[39m\u001b[38;5;124mMust assign exactly one of min_degree and average_degree\u001b[39m\u001b[38;5;124m\"\u001b[39m\n\u001b[0;32m   1009\u001b[0m     )\n\u001b[0;32m   1010\u001b[0m \u001b[38;5;28;01mif\u001b[39;00m min_degree \u001b[38;5;129;01mis\u001b[39;00m \u001b[38;5;28;01mNone\u001b[39;00m:\n\u001b[1;32m-> 1011\u001b[0m     min_degree \u001b[38;5;241m=\u001b[39m \u001b[43m_generate_min_degree\u001b[49m\u001b[43m(\u001b[49m\n\u001b[0;32m   1012\u001b[0m \u001b[43m        \u001b[49m\u001b[43mtau1\u001b[49m\u001b[43m,\u001b[49m\u001b[43m \u001b[49m\u001b[43maverage_degree\u001b[49m\u001b[43m,\u001b[49m\u001b[43m \u001b[49m\u001b[43mmax_degree\u001b[49m\u001b[43m,\u001b[49m\u001b[43m \u001b[49m\u001b[43mtol\u001b[49m\u001b[43m,\u001b[49m\u001b[43m \u001b[49m\u001b[43mmax_iters\u001b[49m\n\u001b[0;32m   1013\u001b[0m \u001b[43m    \u001b[49m\u001b[43m)\u001b[49m\n\u001b[0;32m   1015\u001b[0m \u001b[38;5;66;03m# Generate a degree sequence with a power law distribution.\u001b[39;00m\n\u001b[0;32m   1016\u001b[0m low, high \u001b[38;5;241m=\u001b[39m min_degree, max_degree\n",
      "File \u001b[1;32mc:\\Users\\morte\\Anaconda3\\envs\\rp\\Lib\\site-packages\\networkx\\generators\\community.py:743\u001b[0m, in \u001b[0;36m_generate_min_degree\u001b[1;34m(gamma, average_degree, max_degree, tolerance, max_iters)\u001b[0m\n\u001b[0;32m    741\u001b[0m \u001b[38;5;28;01mwhile\u001b[39;00m \u001b[38;5;28mabs\u001b[39m(mid_avg_deg \u001b[38;5;241m-\u001b[39m average_degree) \u001b[38;5;241m>\u001b[39m tolerance:\n\u001b[0;32m    742\u001b[0m     \u001b[38;5;28;01mif\u001b[39;00m itrs \u001b[38;5;241m>\u001b[39m max_iters:\n\u001b[1;32m--> 743\u001b[0m         \u001b[38;5;28;01mraise\u001b[39;00m nx\u001b[38;5;241m.\u001b[39mExceededMaxIterations(\u001b[38;5;124m\"\u001b[39m\u001b[38;5;124mCould not match average_degree\u001b[39m\u001b[38;5;124m\"\u001b[39m)\n\u001b[0;32m    744\u001b[0m     mid_avg_deg \u001b[38;5;241m=\u001b[39m \u001b[38;5;241m0\u001b[39m\n\u001b[0;32m    745\u001b[0m     \u001b[38;5;28;01mfor\u001b[39;00m x \u001b[38;5;129;01min\u001b[39;00m \u001b[38;5;28mrange\u001b[39m(\u001b[38;5;28mint\u001b[39m(min_deg_mid), max_degree \u001b[38;5;241m+\u001b[39m \u001b[38;5;241m1\u001b[39m):\n",
      "\u001b[1;31mExceededMaxIterations\u001b[0m: Could not match average_degree"
     ]
    }
   ],
   "source": [
    "from networkx.generators import community as comm\n",
    "n = 1685\n",
    "average_degree = 1170/1685\n",
    "tau1 = 11.03843762418175\n",
    "tau2 = 16.199971734892827\n",
    "mu = 0.4396020843202274\n",
    "G = comm.LFR_benchmark_graph(\n",
    "    n, tau1, tau2, mu, average_degree=average_degree, seed=10, max_iters=1000\n",
    ")"
   ]
  },
  {
   "cell_type": "code",
   "execution_count": null,
   "metadata": {},
   "outputs": [],
   "source": []
  }
 ],
 "metadata": {
  "kernelspec": {
   "display_name": "rp",
   "language": "python",
   "name": "python3"
  },
  "language_info": {
   "codemirror_mode": {
    "name": "ipython",
    "version": 3
   },
   "file_extension": ".py",
   "mimetype": "text/x-python",
   "name": "python",
   "nbconvert_exporter": "python",
   "pygments_lexer": "ipython3",
   "version": "3.12.0"
  }
 },
 "nbformat": 4,
 "nbformat_minor": 2
}
