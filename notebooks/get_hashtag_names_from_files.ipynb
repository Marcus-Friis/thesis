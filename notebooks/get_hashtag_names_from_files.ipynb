{
 "cells": [
  {
   "cell_type": "code",
   "execution_count": 1,
   "metadata": {},
   "outputs": [],
   "source": [
    "import os"
   ]
  },
  {
   "cell_type": "code",
   "execution_count": 7,
   "metadata": {},
   "outputs": [
    {
     "name": "stdout",
     "output_type": "stream",
     "text": [
      "anime asmr biden2024 blacklivesmatter booktok challenge climatechange comedy conspiracy election football gaza gym israel jazz kpop learnontiktok lgbt maga makeup minecraft movie news palestine plantsoftiktok science storytime tiktoknews trump2024 watermelon\n",
      "Files in folder: 30\n",
      "Hashtags found: 30\n"
     ]
    }
   ],
   "source": [
    "path = r\"..\\data\\hashtags\\stitch\\vertices\"\n",
    "json_files = [f[:-5] for f in os.listdir(path) if f.endswith('.json')]\n",
    "output = ' '.join(json_files)\n",
    "\n",
    "\n",
    "\n",
    "print(output)\n",
    "print(f'Files in folder: {len(json_files)}')\n",
    "print(f'Hashtags found: {len(output.split(' '))}')"
   ]
  }
 ],
 "metadata": {
  "kernelspec": {
   "display_name": "bsm2",
   "language": "python",
   "name": "python3"
  },
  "language_info": {
   "codemirror_mode": {
    "name": "ipython",
    "version": 3
   },
   "file_extension": ".py",
   "mimetype": "text/x-python",
   "name": "python",
   "nbconvert_exporter": "python",
   "pygments_lexer": "ipython3",
   "version": "3.12.0"
  }
 },
 "nbformat": 4,
 "nbformat_minor": 2
}
