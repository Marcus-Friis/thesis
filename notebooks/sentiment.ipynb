{
 "cells": [
  {
   "cell_type": "code",
   "execution_count": 1,
   "metadata": {},
   "outputs": [],
   "source": [
    "from vaderSentiment.vaderSentiment import SentimentIntensityAnalyzer"
   ]
  },
  {
   "cell_type": "code",
   "execution_count": 28,
   "metadata": {},
   "outputs": [],
   "source": [
    "#load in transcript data\n",
    "hashtag = 'lgbt'\n",
    "transcript = open('../data/hashtags/videos/transcriptions/' + hashtag + '.txt', 'r')"
   ]
  },
  {
   "cell_type": "code",
   "execution_count": 29,
   "metadata": {},
   "outputs": [],
   "source": [
    "transcriptions = []\n",
    "i = 0\n",
    "for line in transcript:\n",
    "    i += 1\n",
    "    if i % 4 == 3:\n",
    "        transcriptions.append(line)"
   ]
  },
  {
   "cell_type": "code",
   "execution_count": 30,
   "metadata": {},
   "outputs": [
    {
     "data": {
      "text/plain": [
       "[\" I'm curious what do other girls put on the walls of their bedroom? Hmm. Booz-door. K-pop Spider-Man. Origami. Anime quote. Anime. Video game. Wanna me. More Origami. On a string. Strawberry bags. Thanks for coming to my... wall tour.\\n\",\n",
       " \" What up? Little spoon. Zero idea with these individuals. I was checking my letters on Harry's and my grades off. Could you change it, please, Brooke? Not trying to have Mr. P as an op. Over all, overall no idea what this email means. I need you to please, Fox. My grade broke. Can you slide for me like he won? I give you a date. Once again, baby. Good evening. It's my grade, or I'm left at Alpha, or in Week. I'm right. I'm right. So with this in mind, oh, you're a partner. Price it through. I wrote my essay and you haven't rated it yet. Bro, there's broken. What is wrong? My mom said that if I don't give this age, she's taking my... Please. So please read my essay. A dollar sign, F. No. Thanks, bro. Stay real. Subject, come on in the name.\\n\",\n",
       " \" Nobody's there like shit! I'm going to a convention today and if I find one of these people, I will be restitching this with my reaction because...\\n\",\n",
       " ' Do you ever think about how boring it must be to not be in the Taylor Swift fandom? Like what are normal people?\\n',\n",
       " \" Who is an anime character that you cannot stand? I don't care because I don't everyone watches now or so. I hate socks. Endeavor. I don't care. I don't care about no redemption arc. I can't stand that man.\\n\"]"
      ]
     },
     "execution_count": 30,
     "metadata": {},
     "output_type": "execute_result"
    }
   ],
   "source": [
    "transcriptions"
   ]
  },
  {
   "cell_type": "code",
   "execution_count": 31,
   "metadata": {},
   "outputs": [],
   "source": [
    "#initialize sentiment analyzer\n",
    "analyzer = SentimentIntensityAnalyzer()"
   ]
  },
  {
   "cell_type": "code",
   "execution_count": 32,
   "metadata": {},
   "outputs": [],
   "source": [
    "#analyze sentiment of each transcription\n",
    "sentiments = []\n",
    "for transcription in transcriptions:\n",
    "    sentiment = analyzer.polarity_scores(transcription)\n",
    "    sentiments.append(sentiment)\n"
   ]
  },
  {
   "cell_type": "code",
   "execution_count": 33,
   "metadata": {},
   "outputs": [],
   "source": [
    "#compund sentiment score\n",
    "compound_sentiments = []\n",
    "for sentiment in sentiments:\n",
    "    compound_sentiments.append(sentiment['compound'])"
   ]
  },
  {
   "cell_type": "code",
   "execution_count": 34,
   "metadata": {},
   "outputs": [
    {
     "data": {
      "text/plain": [
       "[0.6369, 0.8922, -0.3382, 0.3313, -0.8656]"
      ]
     },
     "execution_count": 34,
     "metadata": {},
     "output_type": "execute_result"
    }
   ],
   "source": [
    "compound_sentiments"
   ]
  },
  {
   "cell_type": "code",
   "execution_count": 35,
   "metadata": {},
   "outputs": [],
   "source": [
    "#convert to categorical\n",
    "categorical_sentiments = []\n",
    "for sentiment in compound_sentiments:\n",
    "    if sentiment > 0.05:\n",
    "        categorical_sentiments.append('positive')\n",
    "    elif sentiment < -0.05:\n",
    "        categorical_sentiments.append('negative')\n",
    "    else:\n",
    "        categorical_sentiments.append('neutral')"
   ]
  },
  {
   "cell_type": "code",
   "execution_count": 36,
   "metadata": {},
   "outputs": [
    {
     "data": {
      "text/plain": [
       "['positive', 'positive', 'negative', 'positive', 'negative']"
      ]
     },
     "execution_count": 36,
     "metadata": {},
     "output_type": "execute_result"
    }
   ],
   "source": [
    "categorical_sentiments"
   ]
  },
  {
   "cell_type": "code",
   "execution_count": 37,
   "metadata": {},
   "outputs": [],
   "source": [
    "#save to file 'hashtag'.txt with video id and sentiment\n",
    "video_ids = []\n",
    "i = 0\n",
    "for line in transcript:\n",
    "    i += 1\n",
    "    if i % 4 == 2:\n",
    "        video_ids.append(line)\n",
    "\n",
    "output = open('../data/hashtags/videos/sentiments/' + hashtag + '_sentiment.txt', 'w')\n",
    "i = 0\n",
    "for sentiment in categorical_sentiments:\n",
    "    output.write(str(i) + ' ' + sentiment + '\\n')\n",
    "    i += 1\n"
   ]
  },
  {
   "cell_type": "code",
   "execution_count": 38,
   "metadata": {},
   "outputs": [],
   "source": [
    "output.close()"
   ]
  },
  {
   "cell_type": "code",
   "execution_count": null,
   "metadata": {},
   "outputs": [],
   "source": []
  }
 ],
 "metadata": {
  "kernelspec": {
   "display_name": "rp",
   "language": "python",
   "name": "python3"
  },
  "language_info": {
   "codemirror_mode": {
    "name": "ipython",
    "version": 3
   },
   "file_extension": ".py",
   "mimetype": "text/x-python",
   "name": "python",
   "nbconvert_exporter": "python",
   "pygments_lexer": "ipython3",
   "version": "3.12.0"
  }
 },
 "nbformat": 4,
 "nbformat_minor": 2
}
