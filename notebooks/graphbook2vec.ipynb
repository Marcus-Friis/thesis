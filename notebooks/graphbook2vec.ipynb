{
 "cells": [
  {
   "cell_type": "code",
   "execution_count": 2,
   "metadata": {},
   "outputs": [
    {
     "name": "stderr",
     "output_type": "stream",
     "text": [
      "/home/mahf/Desktop/thesis/karateclub/lib/python3.10/site-packages/tqdm/auto.py:21: TqdmWarning: IProgress not found. Please update jupyter and ipywidgets. See https://ipywidgets.readthedocs.io/en/stable/user_install.html\n",
      "  from .autonotebook import tqdm as notebook_tqdm\n"
     ]
    }
   ],
   "source": [
    "from karateclub import Graph2Vec, NetLSD, FeatherGraph, WaveletCharacteristic\n",
    "import networkx as nx\n",
    "import matplotlib.pyplot as plt\n",
    "from sklearn.manifold import TSNE\n",
    "from sklearn.decomposition import PCA\n",
    "import os"
   ]
  },
  {
   "cell_type": "code",
   "execution_count": 3,
   "metadata": {},
   "outputs": [],
   "source": [
    "path = \"../data/hashtags/vertices\"\n",
    "hashtag_args = [f[:-5] for f in os.listdir(path) if f.endswith('.json')]\n",
    "\n",
    "graphs = []\n",
    "names = []\n",
    "\n",
    "for hashtag in hashtag_args:\n",
    "    names.append(hashtag)\n",
    "    with open(f'../data/hashtags/edges/{hashtag}_edges.txt', 'r') as f:\n",
    "        edges = f.readlines()\n",
    "        \n",
    "    users = []\n",
    "    for edge in edges:\n",
    "        u, v = edge.strip().split(',')\n",
    "        if 'None' in v:\n",
    "            continue\n",
    "        u_user = u.split('/')[-3]\n",
    "        v_user = v.split('/')[-3]\n",
    "        users.append((u_user, v_user))\n",
    "        # if (v_user, u_user) not in users:\n",
    "        #     users.append((v_user, u_user))\n",
    "\n",
    "    all_users = set([user for edge in users for user in edge])\n",
    "    user_to_id = {user: i for i, user in enumerate(all_users)}\n",
    "\n",
    "    users = [(user_to_id[src], user_to_id[dst]) for src, dst in users]\n",
    "\n",
    "    G = nx.Graph()\n",
    "    G.add_edges_from(users)\n",
    "    G = nx.DiGraph(G)\n",
    "\n",
    "    graphs.append(G)\n"
   ]
  },
  {
   "cell_type": "code",
   "execution_count": 4,
   "metadata": {},
   "outputs": [],
   "source": [
    "#model = Graph2Vec()\n",
    "model = FeatherGraph()"
   ]
  },
  {
   "cell_type": "code",
   "execution_count": 5,
   "metadata": {},
   "outputs": [],
   "source": [
    "#graphs = [nx.erdos_renyi_graph(100, i/10) for i in range(11) for _ in range(10)] + [nx.watts_strogatz_graph(100, 6, i/10) for i in range(11) for _ in range(10)]\n",
    "model.fit(graphs)\n",
    "#params = [i for i in range(11) for _ in range(10)] + [i for i in range(11) for _ in range(10)]\n",
    "# graph_types = ['Erdos-Renyi' for _ in range(110)] + ['Watts-Strogatz' for _ in range(110)]"
   ]
  },
  {
   "cell_type": "code",
   "execution_count": 6,
   "metadata": {},
   "outputs": [],
   "source": [
    "x = model.get_embedding()"
   ]
  },
  {
   "cell_type": "code",
   "execution_count": 7,
   "metadata": {},
   "outputs": [],
   "source": [
    "tsne = TSNE(n_components=2, perplexity=15)\n",
    "x2d = tsne.fit_transform(x)\n",
    "\n",
    "#pca = PCA(n_components=2)\n",
    "#x2d = pca.fit_transform(x)"
   ]
  },
  {
   "cell_type": "code",
   "execution_count": 8,
   "metadata": {},
   "outputs": [
    {
     "data": {
      "text/plain": [
       "<matplotlib.collections.PathCollection at 0x719bab63f130>"
      ]
     },
     "execution_count": 8,
     "metadata": {},
     "output_type": "execute_result"
    },
    {
     "data": {
      "image/png": "[encoded data removed]",
      "text/plain": [
       "<Figure size 640x480 with 1 Axes>"
      ]
     },
     "metadata": {},
     "output_type": "display_data"
    }
   ],
   "source": [
    "fig, ax = plt.subplots()\n",
    "ax.scatter(x2d[:, 0], x2d[:, 1], s=10)"
   ]
  }
 ],
 "metadata": {
  "kernelspec": {
   "display_name": "Python 3",
   "language": "python",
   "name": "python3"
  },
  "language_info": {
   "codemirror_mode": {
    "name": "ipython",
    "version": 3
   },
   "file_extension": ".py",
   "mimetype": "text/x-python",
   "name": "python",
   "nbconvert_exporter": "python",
   "pygments_lexer": "ipython3",
   "version": "3.10.12"
  }
 },
 "nbformat": 4,
 "nbformat_minor": 2
}
