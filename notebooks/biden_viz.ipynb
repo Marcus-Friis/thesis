{
 "cells": [
  {
   "cell_type": "code",
   "execution_count": 64,
   "metadata": {},
   "outputs": [],
   "source": [
    "import networkx as nx\n",
    "import igraph as ig\n",
    "import numpy as np\n",
    "import matplotlib.pyplot as plt\n",
    "import pandas as pd\n",
    "\n",
    "import sys\n",
    "sys.path.append('../src')\n",
    "from graph_utils import load_edges, get_video_graph, get_user_graph\n",
    "from fsm_viz import graph_to_tikz"
   ]
  },
  {
   "cell_type": "code",
   "execution_count": 305,
   "metadata": {},
   "outputs": [],
   "source": [
    "edges = load_edges('../data/hashtags/edges/biden2024_edges.txt')\n",
    "edges = edges[edges.stitchee_user != '@meidastouch']\n",
    "nogolist = ['@thebluntprogressive', '@6twistedgirl66', '@mr_rational_debater', '@newsweek', '@mrwilliams550', '@theoldermillennial.1']\n",
    "edges = edges[~edges.stitcher_user.isin(nogolist)]"
   ]
  },
  {
   "cell_type": "code",
   "execution_count": 306,
   "metadata": {},
   "outputs": [],
   "source": [
    "ug = get_user_graph(edges)\n",
    "lcc_users = ug.components(mode='weak').giant().vs['name']\n",
    "edges_filtered = edges[(edges.stitcher_user.isin(lcc_users)) | (edges.stitchee_user.isin(lcc_users))]\n",
    "#user_counts = pd.concat((edges_filtered.stitcher_user, edges_filtered.stitchee_user)).value_counts()\n",
    "#frequent_users = user_counts[user_counts > 1].index\n",
    "#edges_filtered = edges_filtered[(edges_filtered.stitcher_user.isin(frequent_users)) | (edges_filtered.stitchee_user.isin(frequent_users))]"
   ]
  },
  {
   "cell_type": "code",
   "execution_count": 336,
   "metadata": {},
   "outputs": [],
   "source": [
    "alphabet_map = {user: chr(65 + i) for i, user in enumerate(lcc_users)}\n",
    "vid_dict = pd.concat((edges_filtered[['stitchee', 'stitchee_user']], edges_filtered[['stitcher', 'stitcher_user']].rename(columns={'stitcher': 'stitchee', 'stitcher_user': 'stitchee_user'}))).set_index('stitchee').stitchee_user.to_dict()"
   ]
  },
  {
   "cell_type": "code",
   "execution_count": 396,
   "metadata": {},
   "outputs": [],
   "source": [
    "vg = get_video_graph(edges_filtered)\n",
    "vg.vs['user'] = [vid_dict[vid] for vid in vg.vs['name']]\n",
    "ug = get_user_graph(edges_filtered)\n",
    "ug.vs['user'] = ug.vs['name']"
   ]
  },
  {
   "cell_type": "code",
   "execution_count": 567,
   "metadata": {},
   "outputs": [],
   "source": [
    "g = vg\n",
    "# layout = g.layout_graphopt(niter=2000, node_charge=0.01)\n",
    "# layout = g.layout_fruchterman_reingold()\n",
    "layout = g.layout_kamada_kawai()\n",
    "\n",
    "max_coord = max([x for coor in layout for x in coor])\n",
    "scaling = 1.75\n",
    "\n",
    "tikz_code = '\\\\begin{tikzpicture}\\n'\n",
    "for i, (x, y) in enumerate(layout):\n",
    "    label = alphabet_map[g.vs[i]['user']]\n",
    "    x = x * scaling / max_coord\n",
    "    y = y * scaling / max_coord\n",
    "    tikz_code += f'\\t\\\\Vertex[x={x:.2f}, y={y:.2f}, label=${label}$]{{{i}}}\\n'\n",
    "\n",
    "for i, j in g.get_edgelist():\n",
    "    tikz_code += f'\\t\\\\Edge[Direct]({i})({j})\\n'\n",
    "tikz_code += '\\\\end{tikzpicture}'"
   ]
  },
  {
   "cell_type": "code",
   "execution_count": 568,
   "metadata": {},
   "outputs": [
    {
     "data": {
      "image/svg+xml": [
       "<?xml version=\"1.0\" encoding=\"UTF-8\"?>\n",
       "<svg xmlns=\"http://www.w3.org/2000/svg\" xmlns:xlink=\"http://www.w3.org/1999/xlink\" width=\"600pt\" height=\"600pt\" viewBox=\"0 0 600 600\" version=\"1.1\">\n",
       "<g id=\"surface668\">\n",
       "<rect x=\"0\" y=\"0\" width=\"600\" height=\"600\" style=\"fill:rgb(100%,100%,100%);fill-opacity:1;stroke:none;\"/>\n",
       "<path style=\"fill:none;stroke-width:1;stroke-linecap:butt;stroke-linejoin:miter;stroke:rgb(26.666667%,26.666667%,26.666667%);stroke-opacity:1;stroke-miterlimit:10;\" d=\"M 387.613281 288.277344 L 281.84375 261.050781 \"/>\n",
       "<path style=\" stroke:none;fill-rule:nonzero;fill:rgb(26.666667%,26.666667%,26.666667%);fill-opacity:1;\" d=\"M 268.027344 257.492188 L 283 256.5625 L 280.6875 265.539062 L 268.027344 257.492188 \"/>\n",
       "<path style=\"fill:none;stroke-width:1;stroke-linecap:butt;stroke-linejoin:miter;stroke:rgb(26.666667%,26.666667%,26.666667%);stroke-opacity:1;stroke-miterlimit:10;\" d=\"M 508.4375 273.460938 L 517.542969 168.148438 \"/>\n",
       "<path style=\" stroke:none;fill-rule:nonzero;fill:rgb(26.666667%,26.666667%,26.666667%);fill-opacity:1;\" d=\"M 518.769531 153.933594 L 522.160156 168.546875 L 512.921875 167.75 L 518.769531 153.933594 \"/>\n",
       "<path style=\"fill:none;stroke-width:1;stroke-linecap:butt;stroke-linejoin:miter;stroke:rgb(26.666667%,26.666667%,26.666667%);stroke-opacity:1;stroke-miterlimit:10;\" d=\"M 305.34375 580 L 216.335938 562.886719 \"/>\n",
       "<path style=\" stroke:none;fill-rule:nonzero;fill:rgb(26.666667%,26.666667%,26.666667%);fill-opacity:1;\" d=\"M 202.328125 560.195312 L 217.210938 558.335938 L 215.460938 567.4375 L 202.328125 560.195312 \"/>\n",
       "<path style=\"fill:none;stroke-width:1;stroke-linecap:butt;stroke-linejoin:miter;stroke:rgb(26.666667%,26.666667%,26.666667%);stroke-opacity:1;stroke-miterlimit:10;\" d=\"M 96.707031 486.6875 L 173.074219 543.777344 \"/>\n",
       "<path style=\" stroke:none;fill-rule:nonzero;fill:rgb(26.666667%,26.666667%,26.666667%);fill-opacity:1;\" d=\"M 184.5 552.316406 L 170.296875 547.488281 L 175.847656 540.0625 L 184.5 552.316406 \"/>\n",
       "<path style=\"fill:none;stroke-width:1;stroke-linecap:butt;stroke-linejoin:miter;stroke:rgb(26.666667%,26.666667%,26.666667%);stroke-opacity:1;stroke-miterlimit:10;\" d=\"M 139.382812 367.023438 L 184.730469 454.976562 \"/>\n",
       "<path style=\" stroke:none;fill-rule:nonzero;fill:rgb(26.666667%,26.666667%,26.666667%);fill-opacity:1;\" d=\"M 191.269531 467.65625 L 180.613281 457.101562 L 188.851562 452.851562 L 191.269531 467.65625 \"/>\n",
       "<path style=\"fill:none;stroke-width:1;stroke-linecap:butt;stroke-linejoin:miter;stroke:rgb(26.666667%,26.666667%,26.666667%);stroke-opacity:1;stroke-miterlimit:10;\" d=\"M 20 305.890625 L 40.496094 389.082031 \"/>\n",
       "<path style=\" stroke:none;fill-rule:nonzero;fill:rgb(26.666667%,26.666667%,26.666667%);fill-opacity:1;\" d=\"M 43.90625 402.933594 L 35.992188 390.1875 L 44.996094 387.972656 L 43.90625 402.933594 \"/>\n",
       "<path style=\"fill:none;stroke-width:1;stroke-linecap:butt;stroke-linejoin:miter;stroke:rgb(26.666667%,26.666667%,26.666667%);stroke-opacity:1;stroke-miterlimit:10;\" d=\"M 110.648438 259.359375 L 161.960938 175.449219 \"/>\n",
       "<path style=\" stroke:none;fill-rule:nonzero;fill:rgb(26.666667%,26.666667%,26.666667%);fill-opacity:1;\" d=\"M 169.402344 163.28125 L 165.914062 177.867188 L 158.003906 173.03125 L 169.402344 163.28125 \"/>\n",
       "<path style=\"fill:none;stroke-width:1;stroke-linecap:butt;stroke-linejoin:miter;stroke:rgb(26.666667%,26.666667%,26.666667%);stroke-opacity:1;stroke-miterlimit:10;\" d=\"M 91.222656 111.226562 L 46.066406 187.125 \"/>\n",
       "<path style=\" stroke:none;fill-rule:nonzero;fill:rgb(26.666667%,26.666667%,26.666667%);fill-opacity:1;\" d=\"M 38.773438 199.386719 L 42.082031 184.757812 L 50.050781 189.496094 L 38.773438 199.386719 \"/>\n",
       "<path style=\"fill:none;stroke-width:1;stroke-linecap:butt;stroke-linejoin:miter;stroke:rgb(26.666667%,26.666667%,26.666667%);stroke-opacity:1;stroke-miterlimit:10;\" d=\"M 176.742188 54.03125 L 273.578125 93.871094 \"/>\n",
       "<path style=\" stroke:none;fill-rule:nonzero;fill:rgb(26.666667%,26.666667%,26.666667%);fill-opacity:1;\" d=\"M 286.773438 99.296875 L 271.816406 98.15625 L 275.34375 89.582031 L 286.773438 99.296875 \"/>\n",
       "<path style=\"fill:none;stroke-width:1;stroke-linecap:butt;stroke-linejoin:miter;stroke:rgb(26.666667%,26.666667%,26.666667%);stroke-opacity:1;stroke-miterlimit:10;\" d=\"M 465.363281 71.625 L 411.734375 145.902344 \"/>\n",
       "<path style=\" stroke:none;fill-rule:nonzero;fill:rgb(26.666667%,26.666667%,26.666667%);fill-opacity:1;\" d=\"M 403.382812 157.46875 L 407.976562 143.1875 L 415.492188 148.617188 L 403.382812 157.46875 \"/>\n",
       "<path style=\"fill:none;stroke-width:1;stroke-linecap:butt;stroke-linejoin:miter;stroke:rgb(26.666667%,26.666667%,26.666667%);stroke-opacity:1;stroke-miterlimit:10;\" d=\"M 381.996094 35.578125 L 290.726562 23.25 \"/>\n",
       "<path style=\" stroke:none;fill-rule:nonzero;fill:rgb(26.666667%,26.666667%,26.666667%);fill-opacity:1;\" d=\"M 276.589844 21.339844 L 291.347656 18.65625 L 290.105469 27.84375 L 276.589844 21.339844 \"/>\n",
       "<path style=\"fill:none;stroke-width:1;stroke-linecap:butt;stroke-linejoin:miter;stroke:rgb(26.666667%,26.666667%,26.666667%);stroke-opacity:1;stroke-miterlimit:10;\" d=\"M 298.714844 391.628906 L 409.984375 414.683594 \"/>\n",
       "<path style=\" stroke:none;fill-rule:nonzero;fill:rgb(26.666667%,26.666667%,26.666667%);fill-opacity:1;\" d=\"M 423.953125 417.578125 L 409.042969 419.222656 L 410.925781 410.144531 L 423.953125 417.578125 \"/>\n",
       "<path style=\"fill:none;stroke-width:1;stroke-linecap:butt;stroke-linejoin:miter;stroke:rgb(26.666667%,26.666667%,26.666667%);stroke-opacity:1;stroke-miterlimit:10;\" d=\"M 420.125 547.316406 L 431.171875 443.734375 \"/>\n",
       "<path style=\" stroke:none;fill-rule:nonzero;fill:rgb(26.666667%,26.666667%,26.666667%);fill-opacity:1;\" d=\"M 432.683594 429.550781 L 435.78125 444.226562 L 426.5625 443.242188 L 432.683594 429.550781 \"/>\n",
       "<path style=\"fill:none;stroke-width:1;stroke-linecap:butt;stroke-linejoin:miter;stroke:rgb(26.666667%,26.666667%,26.666667%);stroke-opacity:1;stroke-miterlimit:10;\" d=\"M 497.191406 499.28125 L 539.898438 428.214844 \"/>\n",
       "<path style=\" stroke:none;fill-rule:nonzero;fill:rgb(26.666667%,26.666667%,26.666667%);fill-opacity:1;\" d=\"M 547.246094 415.984375 L 543.871094 430.601562 L 535.925781 425.824219 L 547.246094 415.984375 \"/>\n",
       "<path style=\"fill:none;stroke-width:1;stroke-linecap:butt;stroke-linejoin:miter;stroke:rgb(26.666667%,26.666667%,26.666667%);stroke-opacity:1;stroke-miterlimit:10;\" d=\"M 334.609375 504.375 L 415.304688 435.375 \"/>\n",
       "<path style=\" stroke:none;fill-rule:nonzero;fill:rgb(26.666667%,26.666667%,26.666667%);fill-opacity:1;\" d=\"M 426.144531 426.105469 L 418.316406 438.898438 L 412.289062 431.851562 L 426.144531 426.105469 \"/>\n",
       "<path style=\"fill:none;stroke-width:1;stroke-linecap:butt;stroke-linejoin:miter;stroke:rgb(26.666667%,26.666667%,26.666667%);stroke-opacity:1;stroke-miterlimit:10;\" d=\"M 572.839844 213.59375 L 578.546875 308.625 \"/>\n",
       "<path style=\" stroke:none;fill-rule:nonzero;fill:rgb(26.666667%,26.666667%,26.666667%);fill-opacity:1;\" d=\"M 579.402344 322.863281 L 573.917969 308.902344 L 583.171875 308.347656 L 579.402344 322.863281 \"/>\n",
       "<path style=\"fill-rule:nonzero;fill:rgb(100%,0%,0%);fill-opacity:1;stroke-width:1;stroke-linecap:butt;stroke-linejoin:miter;stroke:rgb(0%,0%,0%);stroke-opacity:1;stroke-miterlimit:10;\" d=\"M 397.613281 288.277344 C 397.613281 293.800781 393.136719 298.277344 387.613281 298.277344 C 382.089844 298.277344 377.613281 293.800781 377.613281 288.277344 C 377.613281 282.753906 382.089844 278.277344 387.613281 278.277344 C 393.136719 278.277344 397.613281 282.753906 397.613281 288.277344 \"/>\n",
       "<path style=\"fill-rule:nonzero;fill:rgb(100%,0%,0%);fill-opacity:1;stroke-width:1;stroke-linecap:butt;stroke-linejoin:miter;stroke:rgb(0%,0%,0%);stroke-opacity:1;stroke-miterlimit:10;\" d=\"M 268.34375 255 C 268.34375 260.523438 263.867188 265 258.34375 265 C 252.820312 265 248.34375 260.523438 248.34375 255 C 248.34375 249.476562 252.820312 245 258.34375 245 C 263.867188 245 268.34375 249.476562 268.34375 255 \"/>\n",
       "<path style=\"fill-rule:nonzero;fill:rgb(100%,0%,0%);fill-opacity:1;stroke-width:1;stroke-linecap:butt;stroke-linejoin:miter;stroke:rgb(0%,0%,0%);stroke-opacity:1;stroke-miterlimit:10;\" d=\"M 518.4375 273.460938 C 518.4375 278.980469 513.960938 283.460938 508.4375 283.460938 C 502.914062 283.460938 498.4375 278.980469 498.4375 273.460938 C 498.4375 267.9375 502.914062 263.460938 508.4375 263.460938 C 513.960938 263.460938 518.4375 267.9375 518.4375 273.460938 \"/>\n",
       "<path style=\"fill-rule:nonzero;fill:rgb(100%,0%,0%);fill-opacity:1;stroke-width:1;stroke-linecap:butt;stroke-linejoin:miter;stroke:rgb(0%,0%,0%);stroke-opacity:1;stroke-miterlimit:10;\" d=\"M 529.628906 143.972656 C 529.628906 149.496094 525.152344 153.972656 519.628906 153.972656 C 514.109375 153.972656 509.628906 149.496094 509.628906 143.972656 C 509.628906 138.449219 514.109375 133.972656 519.628906 133.972656 C 525.152344 133.972656 529.628906 138.449219 529.628906 143.972656 \"/>\n",
       "<path style=\"fill-rule:nonzero;fill:rgb(100%,0%,0%);fill-opacity:1;stroke-width:1;stroke-linecap:butt;stroke-linejoin:miter;stroke:rgb(0%,0%,0%);stroke-opacity:1;stroke-miterlimit:10;\" d=\"M 315.34375 580 C 315.34375 585.523438 310.867188 590 305.34375 590 C 299.820312 590 295.34375 585.523438 295.34375 580 C 295.34375 574.476562 299.820312 570 305.34375 570 C 310.867188 570 315.34375 574.476562 315.34375 580 \"/>\n",
       "<path style=\"fill-rule:nonzero;fill:rgb(100%,0%,0%);fill-opacity:1;stroke-width:1;stroke-linecap:butt;stroke-linejoin:miter;stroke:rgb(0%,0%,0%);stroke-opacity:1;stroke-miterlimit:10;\" d=\"M 202.507812 558.304688 C 202.507812 563.828125 198.03125 568.304688 192.507812 568.304688 C 186.984375 568.304688 182.507812 563.828125 182.507812 558.304688 C 182.507812 552.78125 186.984375 548.304688 192.507812 548.304688 C 198.03125 548.304688 202.507812 552.78125 202.507812 558.304688 \"/>\n",
       "<path style=\"fill-rule:nonzero;fill:rgb(100%,0%,0%);fill-opacity:1;stroke-width:1;stroke-linecap:butt;stroke-linejoin:miter;stroke:rgb(0%,0%,0%);stroke-opacity:1;stroke-miterlimit:10;\" d=\"M 106.707031 486.6875 C 106.707031 492.207031 102.230469 496.6875 96.707031 496.6875 C 91.183594 496.6875 86.707031 492.207031 86.707031 486.6875 C 86.707031 481.164062 91.183594 476.6875 96.707031 476.6875 C 102.230469 476.6875 106.707031 481.164062 106.707031 486.6875 \"/>\n",
       "<path style=\"fill-rule:nonzero;fill:rgb(100%,0%,0%);fill-opacity:1;stroke-width:1;stroke-linecap:butt;stroke-linejoin:miter;stroke:rgb(0%,0%,0%);stroke-opacity:1;stroke-miterlimit:10;\" d=\"M 149.382812 367.023438 C 149.382812 372.542969 144.90625 377.023438 139.382812 377.023438 C 133.859375 377.023438 129.382812 372.542969 129.382812 367.023438 C 129.382812 361.5 133.859375 357.023438 139.382812 357.023438 C 144.90625 357.023438 149.382812 361.5 149.382812 367.023438 \"/>\n",
       "<path style=\"fill-rule:nonzero;fill:rgb(100%,0%,0%);fill-opacity:1;stroke-width:1;stroke-linecap:butt;stroke-linejoin:miter;stroke:rgb(0%,0%,0%);stroke-opacity:1;stroke-miterlimit:10;\" d=\"M 205.851562 476.542969 C 205.851562 482.066406 201.375 486.542969 195.851562 486.542969 C 190.328125 486.542969 185.851562 482.066406 185.851562 476.542969 C 185.851562 471.023438 190.328125 466.542969 195.851562 466.542969 C 201.375 466.542969 205.851562 471.023438 205.851562 476.542969 \"/>\n",
       "<path style=\"fill-rule:nonzero;fill:rgb(100%,0%,0%);fill-opacity:1;stroke-width:1;stroke-linecap:butt;stroke-linejoin:miter;stroke:rgb(0%,0%,0%);stroke-opacity:1;stroke-miterlimit:10;\" d=\"M 30 305.890625 C 30 311.414062 25.523438 315.890625 20 315.890625 C 14.476562 315.890625 10 311.414062 10 305.890625 C 10 300.367188 14.476562 295.890625 20 295.890625 C 25.523438 295.890625 30 300.367188 30 305.890625 \"/>\n",
       "<path style=\"fill-rule:nonzero;fill:rgb(100%,0%,0%);fill-opacity:1;stroke-width:1;stroke-linecap:butt;stroke-linejoin:miter;stroke:rgb(0%,0%,0%);stroke-opacity:1;stroke-miterlimit:10;\" d=\"M 56.300781 412.640625 C 56.300781 418.164062 51.824219 422.640625 46.300781 422.640625 C 40.777344 422.640625 36.300781 418.164062 36.300781 412.640625 C 36.300781 407.117188 40.777344 402.640625 46.300781 402.640625 C 51.824219 402.640625 56.300781 407.117188 56.300781 412.640625 \"/>\n",
       "<path style=\"fill-rule:nonzero;fill:rgb(100%,0%,0%);fill-opacity:1;stroke-width:1;stroke-linecap:butt;stroke-linejoin:miter;stroke:rgb(0%,0%,0%);stroke-opacity:1;stroke-miterlimit:10;\" d=\"M 120.648438 259.359375 C 120.648438 264.882812 116.171875 269.359375 110.648438 269.359375 C 105.125 269.359375 100.648438 264.882812 100.648438 259.359375 C 100.648438 253.839844 105.125 249.359375 110.648438 249.359375 C 116.171875 249.359375 120.648438 253.839844 120.648438 259.359375 \"/>\n",
       "<path style=\"fill-rule:nonzero;fill:rgb(100%,0%,0%);fill-opacity:1;stroke-width:1;stroke-linecap:butt;stroke-linejoin:miter;stroke:rgb(0%,0%,0%);stroke-opacity:1;stroke-miterlimit:10;\" d=\"M 184.617188 154.75 C 184.617188 160.269531 180.140625 164.75 174.617188 164.75 C 169.097656 164.75 164.617188 160.269531 164.617188 154.75 C 164.617188 149.226562 169.097656 144.75 174.617188 144.75 C 180.140625 144.75 184.617188 149.226562 184.617188 154.75 \"/>\n",
       "<path style=\"fill-rule:nonzero;fill:rgb(100%,0%,0%);fill-opacity:1;stroke-width:1;stroke-linecap:butt;stroke-linejoin:miter;stroke:rgb(0%,0%,0%);stroke-opacity:1;stroke-miterlimit:10;\" d=\"M 101.222656 111.226562 C 101.222656 116.75 96.746094 121.226562 91.222656 121.226562 C 85.699219 121.226562 81.222656 116.75 81.222656 111.226562 C 81.222656 105.703125 85.699219 101.226562 91.222656 101.226562 C 96.746094 101.226562 101.222656 105.703125 101.222656 111.226562 \"/>\n",
       "<path style=\"fill-rule:nonzero;fill:rgb(100%,0%,0%);fill-opacity:1;stroke-width:1;stroke-linecap:butt;stroke-linejoin:miter;stroke:rgb(0%,0%,0%);stroke-opacity:1;stroke-miterlimit:10;\" d=\"M 43.660156 207.980469 C 43.660156 213.503906 39.183594 217.980469 33.660156 217.980469 C 28.136719 217.980469 23.660156 213.503906 23.660156 207.980469 C 23.660156 202.457031 28.136719 197.980469 33.660156 197.980469 C 39.183594 197.980469 43.660156 202.457031 43.660156 207.980469 \"/>\n",
       "<path style=\"fill-rule:nonzero;fill:rgb(100%,0%,0%);fill-opacity:1;stroke-width:1;stroke-linecap:butt;stroke-linejoin:miter;stroke:rgb(0%,0%,0%);stroke-opacity:1;stroke-miterlimit:10;\" d=\"M 186.742188 54.03125 C 186.742188 59.550781 182.265625 64.03125 176.742188 64.03125 C 171.21875 64.03125 166.742188 59.550781 166.742188 54.03125 C 166.742188 48.507812 171.21875 44.03125 176.742188 44.03125 C 182.265625 44.03125 186.742188 48.507812 186.742188 54.03125 \"/>\n",
       "<path style=\"fill-rule:nonzero;fill:rgb(100%,0%,0%);fill-opacity:1;stroke-width:1;stroke-linecap:butt;stroke-linejoin:miter;stroke:rgb(0%,0%,0%);stroke-opacity:1;stroke-miterlimit:10;\" d=\"M 306.019531 103.101562 C 306.019531 108.625 301.542969 113.101562 296.019531 113.101562 C 290.496094 113.101562 286.019531 108.625 286.019531 103.101562 C 286.019531 97.578125 290.496094 93.101562 296.019531 93.101562 C 301.542969 93.101562 306.019531 97.578125 306.019531 103.101562 \"/>\n",
       "<path style=\"fill-rule:nonzero;fill:rgb(100%,0%,0%);fill-opacity:1;stroke-width:1;stroke-linecap:butt;stroke-linejoin:miter;stroke:rgb(0%,0%,0%);stroke-opacity:1;stroke-miterlimit:10;\" d=\"M 475.363281 71.625 C 475.363281 77.148438 470.886719 81.625 465.363281 81.625 C 459.839844 81.625 455.363281 77.148438 455.363281 71.625 C 455.363281 66.101562 459.839844 61.625 465.363281 61.625 C 470.886719 61.625 475.363281 66.101562 475.363281 71.625 \"/>\n",
       "<path style=\"fill-rule:nonzero;fill:rgb(100%,0%,0%);fill-opacity:1;stroke-width:1;stroke-linecap:butt;stroke-linejoin:miter;stroke:rgb(0%,0%,0%);stroke-opacity:1;stroke-miterlimit:10;\" d=\"M 407.53125 165.578125 C 407.53125 171.097656 403.054688 175.578125 397.53125 175.578125 C 392.007812 175.578125 387.53125 171.097656 387.53125 165.578125 C 387.53125 160.054688 392.007812 155.578125 397.53125 155.578125 C 403.054688 155.578125 407.53125 160.054688 407.53125 165.578125 \"/>\n",
       "<path style=\"fill-rule:nonzero;fill:rgb(100%,0%,0%);fill-opacity:1;stroke-width:1;stroke-linecap:butt;stroke-linejoin:miter;stroke:rgb(0%,0%,0%);stroke-opacity:1;stroke-miterlimit:10;\" d=\"M 391.996094 35.578125 C 391.996094 41.097656 387.519531 45.578125 381.996094 45.578125 C 376.472656 45.578125 371.996094 41.097656 371.996094 35.578125 C 371.996094 30.054688 376.472656 25.578125 381.996094 25.578125 C 387.519531 25.578125 391.996094 30.054688 391.996094 35.578125 \"/>\n",
       "<path style=\"fill-rule:nonzero;fill:rgb(100%,0%,0%);fill-opacity:1;stroke-width:1;stroke-linecap:butt;stroke-linejoin:miter;stroke:rgb(0%,0%,0%);stroke-opacity:1;stroke-miterlimit:10;\" d=\"M 276.679688 20 C 276.679688 25.523438 272.203125 30 266.679688 30 C 261.15625 30 256.679688 25.523438 256.679688 20 C 256.679688 14.476562 261.15625 10 266.679688 10 C 272.203125 10 276.679688 14.476562 276.679688 20 \"/>\n",
       "<path style=\"fill-rule:nonzero;fill:rgb(100%,0%,0%);fill-opacity:1;stroke-width:1;stroke-linecap:butt;stroke-linejoin:miter;stroke:rgb(0%,0%,0%);stroke-opacity:1;stroke-miterlimit:10;\" d=\"M 308.714844 391.628906 C 308.714844 397.152344 304.238281 401.628906 298.714844 401.628906 C 293.191406 401.628906 288.714844 397.152344 288.714844 391.628906 C 288.714844 386.105469 293.191406 381.628906 298.714844 381.628906 C 304.238281 381.628906 308.714844 386.105469 308.714844 391.628906 \"/>\n",
       "<path style=\"fill-rule:nonzero;fill:rgb(100%,0%,0%);fill-opacity:1;stroke-width:1;stroke-linecap:butt;stroke-linejoin:miter;stroke:rgb(0%,0%,0%);stroke-opacity:1;stroke-miterlimit:10;\" d=\"M 443.746094 419.605469 C 443.746094 425.128906 439.269531 429.605469 433.746094 429.605469 C 428.222656 429.605469 423.746094 425.128906 423.746094 419.605469 C 423.746094 414.082031 428.222656 409.605469 433.746094 409.605469 C 439.269531 409.605469 443.746094 414.082031 443.746094 419.605469 \"/>\n",
       "<path style=\"fill-rule:nonzero;fill:rgb(100%,0%,0%);fill-opacity:1;stroke-width:1;stroke-linecap:butt;stroke-linejoin:miter;stroke:rgb(0%,0%,0%);stroke-opacity:1;stroke-miterlimit:10;\" d=\"M 430.125 547.316406 C 430.125 552.835938 425.648438 557.316406 420.125 557.316406 C 414.605469 557.316406 410.125 552.835938 410.125 547.316406 C 410.125 541.792969 414.605469 537.316406 420.125 537.316406 C 425.648438 537.316406 430.125 541.792969 430.125 547.316406 \"/>\n",
       "<path style=\"fill-rule:nonzero;fill:rgb(100%,0%,0%);fill-opacity:1;stroke-width:1;stroke-linecap:butt;stroke-linejoin:miter;stroke:rgb(0%,0%,0%);stroke-opacity:1;stroke-miterlimit:10;\" d=\"M 507.191406 499.28125 C 507.191406 504.800781 502.714844 509.28125 497.191406 509.28125 C 491.667969 509.28125 487.191406 504.800781 487.191406 499.28125 C 487.191406 493.757812 491.667969 489.28125 497.191406 489.28125 C 502.714844 489.28125 507.191406 493.757812 507.191406 499.28125 \"/>\n",
       "<path style=\"fill-rule:nonzero;fill:rgb(100%,0%,0%);fill-opacity:1;stroke-width:1;stroke-linecap:butt;stroke-linejoin:miter;stroke:rgb(0%,0%,0%);stroke-opacity:1;stroke-miterlimit:10;\" d=\"M 562.398438 407.414062 C 562.398438 412.9375 557.921875 417.414062 552.398438 417.414062 C 546.875 417.414062 542.398438 412.9375 542.398438 407.414062 C 542.398438 401.890625 546.875 397.414062 552.398438 397.414062 C 557.921875 397.414062 562.398438 401.890625 562.398438 407.414062 \"/>\n",
       "<path style=\"fill-rule:nonzero;fill:rgb(100%,0%,0%);fill-opacity:1;stroke-width:1;stroke-linecap:butt;stroke-linejoin:miter;stroke:rgb(0%,0%,0%);stroke-opacity:1;stroke-miterlimit:10;\" d=\"M 344.609375 504.375 C 344.609375 509.898438 340.132812 514.375 334.609375 514.375 C 329.085938 514.375 324.609375 509.898438 324.609375 504.375 C 324.609375 498.855469 329.085938 494.375 334.609375 494.375 C 340.132812 494.375 344.609375 498.855469 344.609375 504.375 \"/>\n",
       "<path style=\"fill-rule:nonzero;fill:rgb(100%,0%,0%);fill-opacity:1;stroke-width:1;stroke-linecap:butt;stroke-linejoin:miter;stroke:rgb(0%,0%,0%);stroke-opacity:1;stroke-miterlimit:10;\" d=\"M 582.839844 213.59375 C 582.839844 219.113281 578.363281 223.59375 572.839844 223.59375 C 567.316406 223.59375 562.839844 219.113281 562.839844 213.59375 C 562.839844 208.070312 567.316406 203.59375 572.839844 203.59375 C 578.363281 203.59375 582.839844 208.070312 582.839844 213.59375 \"/>\n",
       "<path style=\"fill-rule:nonzero;fill:rgb(100%,0%,0%);fill-opacity:1;stroke-width:1;stroke-linecap:butt;stroke-linejoin:miter;stroke:rgb(0%,0%,0%);stroke-opacity:1;stroke-miterlimit:10;\" d=\"M 590 332.847656 C 590 338.367188 585.523438 342.847656 580 342.847656 C 574.476562 342.847656 570 338.367188 570 332.847656 C 570 327.324219 574.476562 322.847656 580 322.847656 C 585.523438 322.847656 590 327.324219 590 332.847656 \"/>\n",
       "</g>\n",
       "</svg>\n"
      ],
      "text/plain": [
       "<igraph.drawing.cairo.plot.CairoPlot at 0x758350e89420>"
      ]
     },
     "execution_count": 568,
     "metadata": {
      "image/svg+xml": {
       "isolated": true
      }
     },
     "output_type": "execute_result"
    }
   ],
   "source": [
    "ig.plot(g, layout=layout)"
   ]
  },
  {
   "cell_type": "code",
   "execution_count": 569,
   "metadata": {},
   "outputs": [
    {
     "name": "stdout",
     "output_type": "stream",
     "text": [
      "\\begin{tikzpicture}\n",
      "\t\\Vertex[x=-0.03, y=-0.91, label=$J$]{0}\n",
      "\t\\Vertex[x=-1.19, y=-1.21, label=$J$]{1}\n",
      "\t\\Vertex[x=1.06, y=-1.04, label=$J$]{2}\n",
      "\t\\Vertex[x=1.16, y=-2.22, label=$K$]{3}\n",
      "\t\\Vertex[x=-0.76, y=1.75, label=$M$]{4}\n",
      "\t\\Vertex[x=-1.78, y=1.55, label=$I$]{5}\n",
      "\t\\Vertex[x=-2.64, y=0.90, label=$M$]{6}\n",
      "\t\\Vertex[x=-2.25, y=-0.19, label=$L$]{7}\n",
      "\t\\Vertex[x=-1.75, y=0.81, label=$B$]{8}\n",
      "\t\\Vertex[x=-3.32, y=-0.75, label=$J$]{9}\n",
      "\t\\Vertex[x=-3.09, y=0.23, label=$B$]{10}\n",
      "\t\\Vertex[x=-2.51, y=-1.17, label=$A$]{11}\n",
      "\t\\Vertex[x=-1.94, y=-2.12, label=$B$]{12}\n",
      "\t\\Vertex[x=-2.69, y=-2.52, label=$F$]{13}\n",
      "\t\\Vertex[x=-3.20, y=-1.64, label=$B$]{14}\n",
      "\t\\Vertex[x=-1.92, y=-3.04, label=$C$]{15}\n",
      "\t\\Vertex[x=-0.85, y=-2.59, label=$D$]{16}\n",
      "\t\\Vertex[x=0.67, y=-2.88, label=$G$]{17}\n",
      "\t\\Vertex[x=0.06, y=-2.02, label=$H$]{18}\n",
      "\t\\Vertex[x=-0.08, y=-3.21, label=$G$]{19}\n",
      "\t\\Vertex[x=-1.11, y=-3.35, label=$B$]{20}\n",
      "\t\\Vertex[x=-0.82, y=0.03, label=$G$]{21}\n",
      "\t\\Vertex[x=0.39, y=0.29, label=$B$]{22}\n",
      "\t\\Vertex[x=0.27, y=1.45, label=$G$]{23}\n",
      "\t\\Vertex[x=0.96, y=1.01, label=$G$]{24}\n",
      "\t\\Vertex[x=1.45, y=0.18, label=$I$]{25}\n",
      "\t\\Vertex[x=-0.50, y=1.06, label=$C$]{26}\n",
      "\t\\Vertex[x=1.64, y=-1.59, label=$C$]{27}\n",
      "\t\\Vertex[x=1.70, y=-0.50, label=$E$]{28}\n",
      "\t\\Edge[Direct](0)(1)\n",
      "\t\\Edge[Direct](2)(3)\n",
      "\t\\Edge[Direct](4)(5)\n",
      "\t\\Edge[Direct](6)(5)\n",
      "\t\\Edge[Direct](7)(8)\n",
      "\t\\Edge[Direct](9)(10)\n",
      "\t\\Edge[Direct](11)(12)\n",
      "\t\\Edge[Direct](13)(14)\n",
      "\t\\Edge[Direct](15)(16)\n",
      "\t\\Edge[Direct](17)(18)\n",
      "\t\\Edge[Direct](19)(20)\n",
      "\t\\Edge[Direct](21)(22)\n",
      "\t\\Edge[Direct](23)(22)\n",
      "\t\\Edge[Direct](24)(25)\n",
      "\t\\Edge[Direct](26)(22)\n",
      "\t\\Edge[Direct](27)(28)\n",
      "\\end{tikzpicture}\n"
     ]
    }
   ],
   "source": [
    "print(tikz_code)"
   ]
  }
 ],
 "metadata": {
  "kernelspec": {
   "display_name": "Python 3",
   "language": "python",
   "name": "python3"
  },
  "language_info": {
   "codemirror_mode": {
    "name": "ipython",
    "version": 3
   },
   "file_extension": ".py",
   "mimetype": "text/x-python",
   "name": "python",
   "nbconvert_exporter": "python",
   "pygments_lexer": "ipython3",
   "version": "3.10.12"
  }
 },
 "nbformat": 4,
 "nbformat_minor": 2
}
