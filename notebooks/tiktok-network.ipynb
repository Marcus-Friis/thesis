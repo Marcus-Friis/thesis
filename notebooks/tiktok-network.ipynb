{
 "cells": [
  {
   "cell_type": "code",
   "execution_count": 7,
   "metadata": {},
   "outputs": [],
   "source": [
    "import requests\n",
    "import json\n",
    "from selenium import webdriver\n",
    "from time import sleep\n",
    "from tqdm import tqdm"
   ]
  },
  {
   "cell_type": "code",
   "execution_count": 2,
   "metadata": {},
   "outputs": [],
   "source": [
    "# setup api secrets\n",
    "with open('../secrets/tiktok.json') as f:\n",
    "    secrets = json.load(f)\n",
    "    \n",
    "client_key = secrets['client_key']\n",
    "client_secret = secrets['client_secret']\n",
    "\n",
    "# get access token\n",
    "url = \"https://open.tiktokapis.com/v2/oauth/token/\"\n",
    "headers = {\n",
    "    \"Content-Type\": \"application/x-www-form-urlencoded\",\n",
    "    \"Cache-Control\": \"no-cache\"\n",
    "}\n",
    "data = {\n",
    "    \"client_key\": client_key,\n",
    "    \"client_secret\": client_secret,\n",
    "    \"grant_type\": \"client_credentials\"\n",
    "}\n",
    "response = requests.post(url, headers=headers, data=data)\n",
    "response_json = response.json()\n",
    "access_token = response_json['access_token']"
   ]
  },
  {
   "cell_type": "code",
   "execution_count": 3,
   "metadata": {},
   "outputs": [],
   "source": [
    "def scrape_page(start_date, end_date, hashtag=None, max_count=100, search_id=None, cursor=None, \n",
    "                create_date=None, username=None, region_code=None, video_id=None, keyword=None, \n",
    "                music_id=None, effect_id=None, video_length=None):\n",
    "    fields = \"id,username,create_time,video_description,hashtag_names,view_count,is_stem_verified,voice_to_text\"\n",
    "    url = f\"https://open.tiktokapis.com/v2/research/video/query/?fields={fields}\"\n",
    "    headers = {\n",
    "        \"authorization\": f\"bearer {access_token}\"\n",
    "    }\n",
    "    query_conditions = []\n",
    "\n",
    "    if keyword:\n",
    "        query_conditions.append({ \"operation\": \"EQ\", \"field_name\": \"keyword\", \"field_values\": [keyword] })\n",
    "    if hashtag:\n",
    "        query_conditions.append({ \"operation\": \"EQ\", \"field_name\": \"hashtag_name\", \"field_values\": [hashtag] })\n",
    "    if create_date:\n",
    "        query_conditions.append({ \"operation\": \"EQ\", \"field_name\": \"create_date\", \"field_values\": [create_date] })\n",
    "    if username:\n",
    "        query_conditions.append({ \"operation\": \"EQ\", \"field_name\": \"username\", \"field_values\": [username] })\n",
    "    if region_code:\n",
    "        query_conditions.append({ \"operation\": \"EQ\", \"field_name\": \"region_code\", \"field_values\": [region_code] })\n",
    "    if video_id:\n",
    "        query_conditions.append({ \"operation\": \"EQ\", \"field_name\": \"video_id\", \"field_values\": [video_id] })\n",
    "    if music_id:\n",
    "        query_conditions.append({ \"operation\": \"EQ\", \"field_name\": \"music_id\", \"field_values\": [music_id] })\n",
    "    if effect_id:\n",
    "        query_conditions.append({ \"operation\": \"EQ\", \"field_name\": \"effect_id\", \"field_values\": [effect_id] })\n",
    "    if video_length:\n",
    "        query_conditions.append({ \"operation\": \"EQ\", \"field_name\": \"video_length\", \"field_values\": [video_length] })\n",
    "\n",
    "    data = { \n",
    "        \"query\": {\n",
    "            \"and\": query_conditions\n",
    "        }, \n",
    "        \"start_date\": start_date,\n",
    "        \"end_date\": end_date,\n",
    "        \"max_count\": max_count\n",
    "    }\n",
    "\n",
    "    if search_id:\n",
    "        data['search_id'] = search_id\n",
    "    if cursor:\n",
    "        data['cursor'] = cursor\n",
    "\n",
    "    response = requests.post(url, headers=headers, json=data)\n",
    "    \n",
    "    if response.status_code != 200:\n",
    "        raise Exception(f\"Error: {response.status_code} - {response.text}\")\n",
    "\n",
    "    return response.json()"
   ]
  },
  {
   "cell_type": "code",
   "execution_count": null,
   "metadata": {},
   "outputs": [],
   "source": [
    "start_date = '20240501'\n",
    "end_date = '20240531'\n",
    "\n",
    "scrape_kwargs = {\n",
    "    'start_date': start_date,\n",
    "    'end_date': end_date,\n",
    "    'hashtag': 'booktok',\n",
    "    'keyword': 'stitch with'\n",
    "}\n",
    "response = scrape_page(**scrape_kwargs)\n",
    "videos = response['data']['videos']\n",
    "\n",
    "while response['data']['has_more']:\n",
    "    sleep(10)\n",
    "\n",
    "    search_id = response['data']['search_id']\n",
    "    cursor = response['data']['cursor']\n",
    "    response = scrape_page(search_id=search_id, cursor=cursor, **scrape_kwargs)\n",
    "    videos += response['data']['videos']"
   ]
  },
  {
   "cell_type": "code",
   "execution_count": 5,
   "metadata": {},
   "outputs": [],
   "source": [
    "# with open('booktok.json', 'r') as f:\n",
    "#     videos = json.load(f)"
   ]
  },
  {
   "cell_type": "code",
   "execution_count": 17,
   "metadata": {},
   "outputs": [
    {
     "name": "stderr",
     "output_type": "stream",
     "text": []
    },
    {
     "name": "stdout",
     "output_type": "stream",
     "text": [
      "0 https://www.tiktok.com/@alexandrealechelle/video/7375309720908827946\thttps://www.tiktok.com/@a.aliiiyha/video/7370388924633599274\n",
      "\n"
     ]
    },
    {
     "name": "stderr",
     "output_type": "stream",
     "text": []
    },
    {
     "name": "stdout",
     "output_type": "stream",
     "text": [
      "1 https://www.tiktok.com/@breezingthroughbooks/video/7375302277772381483\thttps://www.tiktok.com/@kaceybarnes/video/7374563222675819819\n",
      "\n"
     ]
    },
    {
     "name": "stderr",
     "output_type": "stream",
     "text": []
    },
    {
     "name": "stdout",
     "output_type": "stream",
     "text": [
      "2 https://www.tiktok.com/@leahs.library8/video/7375300736453758241\thttps://www.tiktok.com/@thatguyjae/video/7367479745308527915\n",
      "\n"
     ]
    },
    {
     "name": "stderr",
     "output_type": "stream",
     "text": []
    },
    {
     "name": "stdout",
     "output_type": "stream",
     "text": [
      "3 https://www.tiktok.com/@bookbroke/video/7375298449333390638\thttps://www.tiktok.com/@honestteachervibes/video/7374942271126506795\n",
      "\n"
     ]
    },
    {
     "name": "stderr",
     "output_type": "stream",
     "text": []
    },
    {
     "name": "stdout",
     "output_type": "stream",
     "text": [
      "4 https://www.tiktok.com/@jcarrwrites/video/7375298215614205226\thttps://www.tiktok.com/@authormkmorris/video/7374775496187317550\n",
      "\n"
     ]
    },
    {
     "name": "stderr",
     "output_type": "stream",
     "text": []
    },
    {
     "name": "stdout",
     "output_type": "stream",
     "text": [
      "5 https://www.tiktok.com/@oo_ducky_oo/video/7375296366408371499\thttps://www.tiktok.com/@jondretto/video/7330364048875392302\n",
      "\n"
     ]
    },
    {
     "name": "stderr",
     "output_type": "stream",
     "text": []
    },
    {
     "name": "stdout",
     "output_type": "stream",
     "text": [
      "6 https://www.tiktok.com/@ladikreyol/video/7375292057247599915\thttps://www.tiktok.com/@ladikreyol/video/7357097691253427487\n",
      "\n"
     ]
    },
    {
     "name": "stderr",
     "output_type": "stream",
     "text": []
    },
    {
     "name": "stdout",
     "output_type": "stream",
     "text": [
      "7 https://www.tiktok.com/@mommasandersreads/video/7375290460836875566\thttps://www.tiktok.com/@ana_mahilaj/video/7370050010504793376\n",
      "\n"
     ]
    },
    {
     "name": "stderr",
     "output_type": "stream",
     "text": []
    },
    {
     "name": "stdout",
     "output_type": "stream",
     "text": [
      "8 https://www.tiktok.com/@itsnotaphasemomistg/video/7375289056101518634\thttps://www.tiktok.com/@taylormade2read/video/7374883899417152799\n",
      "\n"
     ]
    },
    {
     "name": "stderr",
     "output_type": "stream",
     "text": []
    },
    {
     "name": "stdout",
     "output_type": "stream",
     "text": [
      "9 https://www.tiktok.com/@kissatmidnight/video/7375288497147759918\thttps://www.tiktok.com/@bobabookbitch/video/7372759491453947166\n",
      "\n"
     ]
    },
    {
     "name": "stderr",
     "output_type": "stream",
     "text": []
    },
    {
     "name": "stdout",
     "output_type": "stream",
     "text": [
      "10 https://www.tiktok.com/@laoislibrariesstaff/video/7375285849623219489\thttps://www.tiktok.com/@britbox/video/7369690682383928619\n",
      "\n"
     ]
    },
    {
     "name": "stderr",
     "output_type": "stream",
     "text": []
    },
    {
     "name": "stdout",
     "output_type": "stream",
     "text": [
      "11 https://www.tiktok.com/@drjessicabarker/video/7375285769239317793\thttps://www.tiktok.com/@_foxhound__/video/7373011391566908715\n",
      "\n"
     ]
    },
    {
     "name": "stderr",
     "output_type": "stream",
     "text": []
    },
    {
     "name": "stdout",
     "output_type": "stream",
     "text": [
      "12 https://www.tiktok.com/@toriofthetrees/video/7375276889906105643\thttps://www.tiktok.com/@daynawrites/video/7375183935430462753\n",
      "\n"
     ]
    },
    {
     "name": "stderr",
     "output_type": "stream",
     "text": []
    },
    {
     "name": "stdout",
     "output_type": "stream",
     "text": [
      "13 https://www.tiktok.com/@puckerpoutprose.p/video/7375276131525594410\thttps://www.tiktok.com/@dean_author/video/7375237459937987873\n",
      "\n"
     ]
    },
    {
     "name": "stderr",
     "output_type": "stream",
     "text": []
    },
    {
     "name": "stdout",
     "output_type": "stream",
     "text": [
      "14 https://www.tiktok.com/@snugbookshop/video/7375275621280238880\thttps://www.tiktok.com/@rebecca.thorne/video/7375239589721607466\n",
      "\n"
     ]
    },
    {
     "name": "stderr",
     "output_type": "stream",
     "text": []
    },
    {
     "name": "stdout",
     "output_type": "stream",
     "text": [
      "15 https://www.tiktok.com/@educatedcloud11/video/7375268121768348974\thttps://www.tiktok.com/@ken.and.jaeeuniverse/video/7375152907013983530\n",
      "\n"
     ]
    },
    {
     "name": "stderr",
     "output_type": "stream",
     "text": []
    },
    {
     "name": "stdout",
     "output_type": "stream",
     "text": [
      "16 https://www.tiktok.com/@orlandoreads/video/7375267125755252010\thttps://www.tiktok.com/@sammy_fos/video/7351996703848942864\n",
      "\n"
     ]
    },
    {
     "name": "stderr",
     "output_type": "stream",
     "text": []
    },
    {
     "name": "stdout",
     "output_type": "stream",
     "text": [
      "17 https://www.tiktok.com/@brandonfero.usa/video/7375265442669088042\thttps://www.tiktok.com/@sultrycontessa/video/7374456937704082734\n",
      "\n"
     ]
    },
    {
     "name": "stderr",
     "output_type": "stream",
     "text": []
    },
    {
     "name": "stdout",
     "output_type": "stream",
     "text": [
      "18 https://www.tiktok.com/@studmuffinsupreme/video/7375263440815967534\thttps://www.tiktok.com/@actuallyamiracle222/video/7374849164204592427\n",
      "\n"
     ]
    },
    {
     "name": "stderr",
     "output_type": "stream",
     "text": []
    },
    {
     "name": "stdout",
     "output_type": "stream",
     "text": [
      "19 https://www.tiktok.com/@the.jaded.katy.katt.0416/video/7375261139938118954\thttps://www.tiktok.com/@the.jaded.katy.katt.0416/video/7373411389467266350\n",
      "\n"
     ]
    },
    {
     "name": "stderr",
     "output_type": "stream",
     "text": []
    },
    {
     "name": "stdout",
     "output_type": "stream",
     "text": [
      "20 https://www.tiktok.com/@damestassireadsalot/video/7375255179366501674\thttps://www.tiktok.com/@ana_mahilaj/video/7370050010504793376\n",
      "\n"
     ]
    },
    {
     "name": "stderr",
     "output_type": "stream",
     "text": []
    },
    {
     "name": "stdout",
     "output_type": "stream",
     "text": [
      "21 https://www.tiktok.com/@claytures/video/7375254823471713582\thttps://www.tiktok.com/@mikel.melwasul/video/7375223457497238827\n",
      "\n"
     ]
    },
    {
     "name": "stderr",
     "output_type": "stream",
     "text": []
    },
    {
     "name": "stdout",
     "output_type": "stream",
     "text": [
      "22 https://www.tiktok.com/@adrierising/video/7375253022232038702\thttps://www.tiktok.com/@nerdymixedpan/video/7375193392449473834\n",
      "\n"
     ]
    },
    {
     "name": "stderr",
     "output_type": "stream",
     "text": []
    },
    {
     "name": "stdout",
     "output_type": "stream",
     "text": [
      "23 https://www.tiktok.com/@rebeccarosereads/video/7375251771385580833\thttps://www.tiktok.com/@thatguyjae/video/7367479745308527915\n",
      "\n"
     ]
    },
    {
     "name": "stderr",
     "output_type": "stream",
     "text": []
    },
    {
     "name": "stdout",
     "output_type": "stream",
     "text": [
      "24 https://www.tiktok.com/@claremackwrites/video/7375251359890689313\thttps://www.tiktok.com/@kiahwrites/video/7355914284125228331\n",
      "\n"
     ]
    },
    {
     "name": "stderr",
     "output_type": "stream",
     "text": []
    },
    {
     "name": "stdout",
     "output_type": "stream",
     "text": [
      "25 https://www.tiktok.com/@tressiereads/video/7375249873983048990\thttps://www.tiktok.com/@tressiereads/video/7370044711614270766\n",
      "\n"
     ]
    },
    {
     "name": "stderr",
     "output_type": "stream",
     "text": []
    },
    {
     "name": "stdout",
     "output_type": "stream",
     "text": [
      "26 https://www.tiktok.com/@steviebooks_/video/7375248543025581318\thttps://www.tiktok.com/@steviebooks_/video/7336258934199569670\n",
      "\n"
     ]
    },
    {
     "name": "stderr",
     "output_type": "stream",
     "text": []
    },
    {
     "name": "stdout",
     "output_type": "stream",
     "text": [
      "27 https://www.tiktok.com/@thatbipolarmom/video/7375246734777240874\thttps://www.tiktok.com/@ravenbreads/video/7375186658704084267\n",
      "\n"
     ]
    },
    {
     "name": "stderr",
     "output_type": "stream",
     "text": []
    },
    {
     "name": "stdout",
     "output_type": "stream",
     "text": [
      "28 https://www.tiktok.com/@thecosmereacademy/video/7375245996944657707\thttps://www.tiktok.com/@avycatte/video/7375039602991697185\n",
      "\n"
     ]
    },
    {
     "name": "stderr",
     "output_type": "stream",
     "text": []
    },
    {
     "name": "stdout",
     "output_type": "stream",
     "text": [
      "29 https://www.tiktok.com/@sustainablybookish/video/7375245358303104298\thttps://www.tiktok.com/@thedancindentist/video/7325613426032594218\n",
      "\n"
     ]
    },
    {
     "name": "stderr",
     "output_type": "stream",
     "text": []
    },
    {
     "name": "stdout",
     "output_type": "stream",
     "text": [
      "30 https://www.tiktok.com/@elsiemckenney_author/video/7375245228611095854\thttps://www.tiktok.com/@mrs__moa/video/7371713192461978896\n",
      "\n"
     ]
    },
    {
     "name": "stderr",
     "output_type": "stream",
     "text": []
    },
    {
     "name": "stdout",
     "output_type": "stream",
     "text": [
      "31 https://www.tiktok.com/@angezze/video/7375245003733454123\thttps://www.tiktok.com/@queeniehulu/video/7363721679031373098\n",
      "\n"
     ]
    },
    {
     "name": "stderr",
     "output_type": "stream",
     "text": []
    },
    {
     "name": "stdout",
     "output_type": "stream",
     "text": [
      "32 https://www.tiktok.com/@gabewilliamsmusic/video/7375243653230365995\thttps://www.tiktok.com/tag/booktok\n",
      "\n"
     ]
    },
    {
     "name": "stderr",
     "output_type": "stream",
     "text": []
    },
    {
     "name": "stdout",
     "output_type": "stream",
     "text": [
      "33 https://www.tiktok.com/@msjenniferdrewett/video/7375240282327108897\thttps://www.tiktok.com/@izalialynn/video/7374835239677365550\n",
      "\n"
     ]
    },
    {
     "name": "stderr",
     "output_type": "stream",
     "text": []
    },
    {
     "name": "stdout",
     "output_type": "stream",
     "text": [
      "34 https://www.tiktok.com/@clown.ri0t66/video/7375238829466193195\thttps://www.tiktok.com/@engineering_addiction/video/7374221754417417515\n",
      "\n"
     ]
    },
    {
     "name": "stderr",
     "output_type": "stream",
     "text": []
    },
    {
     "name": "stdout",
     "output_type": "stream",
     "text": [
      "35 https://www.tiktok.com/@mycozydream1/video/7375238282235497770\thttps://www.tiktok.com/@rachelredd/video/7375186655831166254\n",
      "\n"
     ]
    },
    {
     "name": "stderr",
     "output_type": "stream",
     "text": []
    },
    {
     "name": "stdout",
     "output_type": "stream",
     "text": [
      "36 https://www.tiktok.com/@aliyahsreadingrn/video/7375237070194773280\thttps://www.tiktok.com/@millionsofworlds/video/7350715323286342945\n",
      "\n"
     ]
    },
    {
     "name": "stderr",
     "output_type": "stream",
     "text": []
    },
    {
     "name": "stdout",
     "output_type": "stream",
     "text": [
      "37 https://www.tiktok.com/@sienna.hong/video/7375235366296620289\thttps://www.tiktok.com/tag/booktok\n",
      "\n"
     ]
    },
    {
     "name": "stderr",
     "output_type": "stream",
     "text": []
    },
    {
     "name": "stdout",
     "output_type": "stream",
     "text": [
      "38 https://www.tiktok.com/@the.stayathome.librarian/video/7375226138618039595\thttps://www.tiktok.com/@michellecoreads\n",
      "\n"
     ]
    },
    {
     "name": "stderr",
     "output_type": "stream",
     "text": []
    },
    {
     "name": "stdout",
     "output_type": "stream",
     "text": [
      "39 https://www.tiktok.com/@ggreads.booktok/video/7375223370272558368\thttps://www.tiktok.com/@karabut_alina/video/7362858439908822304\n",
      "\n"
     ]
    },
    {
     "name": "stderr",
     "output_type": "stream",
     "text": []
    },
    {
     "name": "stdout",
     "output_type": "stream",
     "text": [
      "40 https://www.tiktok.com/@bjornwildepress/video/7375221076629949738\thttps://www.tiktok.com/@cheapsmut/video/7375155407490125099\n",
      "\n"
     ]
    },
    {
     "name": "stderr",
     "output_type": "stream",
     "text": []
    },
    {
     "name": "stdout",
     "output_type": "stream",
     "text": [
      "41 https://www.tiktok.com/@tatted_bookaddict/video/7375220650652290346\thttps://www.tiktok.com/@kandace_bookaholic_/video/7375137344145575214\n",
      "\n"
     ]
    },
    {
     "name": "stderr",
     "output_type": "stream",
     "text": []
    },
    {
     "name": "stdout",
     "output_type": "stream",
     "text": [
      "42 https://www.tiktok.com/@tattooedbibliophile0/video/7375219479141272862\thttps://www.tiktok.com/@andr3wsky/video/7374468480009030954\n",
      "\n"
     ]
    },
    {
     "name": "stderr",
     "output_type": "stream",
     "text": []
    },
    {
     "name": "stdout",
     "output_type": "stream",
     "text": [
      "43 https://www.tiktok.com/@herliteraryrefuge/video/7375218621309521194\thttps://www.tiktok.com/@herliteraryrefuge/video/7369036355877293354\n",
      "\n"
     ]
    },
    {
     "name": "stderr",
     "output_type": "stream",
     "text": []
    },
    {
     "name": "stdout",
     "output_type": "stream",
     "text": [
      "44 https://www.tiktok.com/@grimsweetnessapothecary/video/7375218586270584110\thttps://www.tiktok.com/@nicoleyorkcreates/video/7375180101413113130\n",
      "\n"
     ]
    },
    {
     "name": "stderr",
     "output_type": "stream",
     "text": []
    },
    {
     "name": "stdout",
     "output_type": "stream",
     "text": [
      "45 https://www.tiktok.com/@thoughtsontomes_/video/7375211294439394591\thttps://www.tiktok.com/@miareads0/video/7370643904451857697\n",
      "\n"
     ]
    },
    {
     "name": "stderr",
     "output_type": "stream",
     "text": []
    },
    {
     "name": "stdout",
     "output_type": "stream",
     "text": [
      "46 https://www.tiktok.com/@jerseybookguy/video/7375208173210193198\thttps://www.tiktok.com/@moviesaretherapy/video/7374156788901432618\n",
      "\n"
     ]
    },
    {
     "name": "stderr",
     "output_type": "stream",
     "text": []
    },
    {
     "name": "stdout",
     "output_type": "stream",
     "text": [
      "47 https://www.tiktok.com/@heatherwhitedriscoll/video/7375204509116648746\thttps://www.tiktok.com/@_kendall.booktok_/video/7374487112176962859\n",
      "\n"
     ]
    },
    {
     "name": "stderr",
     "output_type": "stream",
     "text": []
    },
    {
     "name": "stdout",
     "output_type": "stream",
     "text": [
      "48 https://www.tiktok.com/@pixie_dee_2024/video/7375204319508876577\thttps://www.tiktok.com/@ezeekat/video/7375193212975205674\n",
      "\n"
     ]
    },
    {
     "name": "stderr",
     "output_type": "stream",
     "text": []
    },
    {
     "name": "stdout",
     "output_type": "stream",
     "text": [
      "49 https://www.tiktok.com/@chrysalis.of.devilry/video/7375203491851095339\thttps://www.tiktok.com/@agirlnamedthom/video/7374905937087270174\n",
      "\n"
     ]
    },
    {
     "name": "stderr",
     "output_type": "stream",
     "text": []
    },
    {
     "name": "stdout",
     "output_type": "stream",
     "text": [
      "50 https://www.tiktok.com/@eloramorgan/video/7375201693786541355\thttps://www.tiktok.com/@3cfilms/video/7374893142656666926\n",
      "\n"
     ]
    },
    {
     "name": "stderr",
     "output_type": "stream",
     "text": []
    },
    {
     "name": "stdout",
     "output_type": "stream",
     "text": [
      "51 https://www.tiktok.com/@clolikewhoa/video/7375201678867336490\thttps://www.tiktok.com/@read.or.listen/video/7375155432781876526\n",
      "\n"
     ]
    },
    {
     "name": "stderr",
     "output_type": "stream",
     "text": []
    },
    {
     "name": "stdout",
     "output_type": "stream",
     "text": [
      "52 https://www.tiktok.com/@lalaspace.7.7.7/video/7375199943423839534\thttps://www.tiktok.com/tag/booktok\n",
      "\n"
     ]
    },
    {
     "name": "stderr",
     "output_type": "stream",
     "text": []
    },
    {
     "name": "stdout",
     "output_type": "stream",
     "text": [
      "53 https://www.tiktok.com/@cy.harold/video/7375199465721924907\thttps://www.tiktok.com/@authormkmorris/video/7374775496187317550\n",
      "\n"
     ]
    },
    {
     "name": "stderr",
     "output_type": "stream",
     "text": []
    },
    {
     "name": "stdout",
     "output_type": "stream",
     "text": [
      "54 https://www.tiktok.com/@0380need/video/7375195424338070827\thttps://www.tiktok.com/@repairman67/video/7348601053413166382\n",
      "\n"
     ]
    },
    {
     "name": "stderr",
     "output_type": "stream",
     "text": []
    },
    {
     "name": "stdout",
     "output_type": "stream",
     "text": [
      "55 https://www.tiktok.com/@mallory_is_booked/video/7375195028223806762\thttps://www.tiktok.com/@mallory_is_booked/video/7372711299408612650\n",
      "\n"
     ]
    },
    {
     "name": "stderr",
     "output_type": "stream",
     "text": []
    },
    {
     "name": "stdout",
     "output_type": "stream",
     "text": [
      "56 https://www.tiktok.com/@darth_entreri/video/7375193038164970798\thttps://www.tiktok.com/@genericcleric/video/7374860730283166981\n",
      "\n"
     ]
    },
    {
     "name": "stderr",
     "output_type": "stream",
     "text": []
    },
    {
     "name": "stdout",
     "output_type": "stream",
     "text": [
      "57 https://www.tiktok.com/@alwynhamilton/video/7375192664678894880\thttps://www.tiktok.com/@andydarcytheo/video/7374441471656742177\n",
      "\n"
     ]
    },
    {
     "name": "stderr",
     "output_type": "stream",
     "text": []
    },
    {
     "name": "stdout",
     "output_type": "stream",
     "text": [
      "58 https://www.tiktok.com/@jim93850/video/7375192550866488619\thttps://www.tiktok.com/@blitzphd/video/7375191304310951210\n",
      "\n"
     ]
    },
    {
     "name": "stderr",
     "output_type": "stream",
     "text": []
    },
    {
     "name": "stdout",
     "output_type": "stream",
     "text": [
      "59 https://www.tiktok.com/@where4.art.thou/video/7375192064209767722\thttps://www.tiktok.com/@jodipicoult/video/7374792241115598126\n",
      "\n"
     ]
    },
    {
     "name": "stderr",
     "output_type": "stream",
     "text": []
    },
    {
     "name": "stdout",
     "output_type": "stream",
     "text": [
      "60 https://www.tiktok.com/@courtneysbookshelf/video/7375189249580207402\thttps://www.tiktok.com/@carriebeckort/video/7362703328117148971\n",
      "\n"
     ]
    },
    {
     "name": "stderr",
     "output_type": "stream",
     "text": []
    },
    {
     "name": "stdout",
     "output_type": "stream",
     "text": [
      "61 https://www.tiktok.com/@darth_entreri/video/7375187404505779499\thttps://www.tiktok.com/@wylde.hearts/video/7374961063202442542\n",
      "\n"
     ]
    },
    {
     "name": "stderr",
     "output_type": "stream",
     "text": []
    },
    {
     "name": "stdout",
     "output_type": "stream",
     "text": [
      "62 https://www.tiktok.com/@fromthemixedupdesk/video/7375187027433868590\thttps://www.tiktok.com/@movie.review_man.man.man/video/7347063781496753450\n",
      "\n"
     ]
    },
    {
     "name": "stderr",
     "output_type": "stream",
     "text": []
    },
    {
     "name": "stdout",
     "output_type": "stream",
     "text": [
      "63 https://www.tiktok.com/@carbonatedbattsmanga/video/7375186319514914081\thttps://www.tiktok.com/@ink.body1/video/7359242167992208672\n",
      "\n"
     ]
    },
    {
     "name": "stderr",
     "output_type": "stream",
     "text": []
    },
    {
     "name": "stdout",
     "output_type": "stream",
     "text": [
      "64 https://www.tiktok.com/@neighborhoodbeanreads/video/7375184457726168366\thttps://www.tiktok.com/@neighborhoodbeanreads/video/7350748644758408494\n",
      "\n"
     ]
    },
    {
     "name": "stderr",
     "output_type": "stream",
     "text": []
    },
    {
     "name": "stdout",
     "output_type": "stream",
     "text": [
      "65 https://www.tiktok.com/@aarondizon_/video/7375181268134235434\thttps://www.tiktok.com/@janetsplanettt/video/7360822873021304107\n",
      "\n"
     ]
    },
    {
     "name": "stderr",
     "output_type": "stream",
     "text": []
    },
    {
     "name": "stdout",
     "output_type": "stream",
     "text": [
      "66 https://www.tiktok.com/@sheebyreading/video/7375178475587554590\thttps://www.tiktok.com/@carlysgrowingtbr/video/7375170846345776414\n",
      "\n"
     ]
    },
    {
     "name": "stderr",
     "output_type": "stream",
     "text": []
    },
    {
     "name": "stdout",
     "output_type": "stream",
     "text": [
      "67 https://www.tiktok.com/@sassafrass_reads1219/video/7375177538445872426\thttps://www.tiktok.com/@read.or.listen/video/7373295537388358955\n",
      "\n"
     ]
    },
    {
     "name": "stderr",
     "output_type": "stream",
     "text": []
    },
    {
     "name": "stdout",
     "output_type": "stream",
     "text": [
      "68 https://www.tiktok.com/@feistybookblog/video/7375170426370002208\thttps://www.tiktok.com/@read.or.listen/video/7373295537388358955\n",
      "\n"
     ]
    },
    {
     "name": "stderr",
     "output_type": "stream",
     "text": []
    },
    {
     "name": "stdout",
     "output_type": "stream",
     "text": [
      "69 https://www.tiktok.com/@quelle_reads/video/7375169328443903274\thttps://www.tiktok.com/@lauralovesreading/video/7374848367488191777\n",
      "\n"
     ]
    },
    {
     "name": "stderr",
     "output_type": "stream",
     "text": []
    },
    {
     "name": "stdout",
     "output_type": "stream",
     "text": [
      "70 https://www.tiktok.com/@arayofmk/video/7375168742013193518\thttps://www.tiktok.com/@notwildlin/video/7374901220349168942\n",
      "\n"
     ]
    },
    {
     "name": "stderr",
     "output_type": "stream",
     "text": []
    },
    {
     "name": "stdout",
     "output_type": "stream",
     "text": [
      "71 https://www.tiktok.com/@shaycole8701/video/7375166778890210606\thttps://www.tiktok.com/tag/booktok\n",
      "\n"
     ]
    },
    {
     "name": "stderr",
     "output_type": "stream",
     "text": []
    },
    {
     "name": "stdout",
     "output_type": "stream",
     "text": [
      "72 https://www.tiktok.com/@foxyblocks1/video/7375166379390979361\thttps://www.tiktok.com/@aimeeericksen/video/7375032183821520171\n",
      "\n"
     ]
    },
    {
     "name": "stderr",
     "output_type": "stream",
     "text": []
    },
    {
     "name": "stdout",
     "output_type": "stream",
     "text": [
      "73 https://www.tiktok.com/@markroddyvo/video/7375164401957063982\thttps://www.tiktok.com/@ajwildernarrator/video/7358612507973504298\n",
      "\n"
     ]
    },
    {
     "name": "stderr",
     "output_type": "stream",
     "text": []
    },
    {
     "name": "stdout",
     "output_type": "stream",
     "text": [
      "74 https://www.tiktok.com/@jacciturnerauthor/video/7375163593165212974\thttps://www.tiktok.com/@kathrothschild/video/7372974527237590314\n",
      "\n"
     ]
    },
    {
     "name": "stderr",
     "output_type": "stream",
     "text": []
    },
    {
     "name": "stdout",
     "output_type": "stream",
     "text": [
      "75 https://www.tiktok.com/@taccarathecreator/video/7375163065043569950\thttps://www.tiktok.com/@a.aliiiyha/video/7370388924633599274\n",
      "\n"
     ]
    },
    {
     "name": "stderr",
     "output_type": "stream",
     "text": []
    },
    {
     "name": "stdout",
     "output_type": "stream",
     "text": [
      "76 https://www.tiktok.com/@laura_hankin/video/7375162812395539758\thttps://www.tiktok.com/@laura_hankin/video/6951093262119619845\n",
      "\n"
     ]
    },
    {
     "name": "stderr",
     "output_type": "stream",
     "text": []
    },
    {
     "name": "stdout",
     "output_type": "stream",
     "text": [
      "77 https://www.tiktok.com/@marissacraftsandreads/video/7375161677324504363\thttps://www.tiktok.com/@j.c.fullerauthor/video/7375137382149917982\n",
      "\n"
     ]
    },
    {
     "name": "stderr",
     "output_type": "stream",
     "text": []
    },
    {
     "name": "stdout",
     "output_type": "stream",
     "text": [
      "78 https://www.tiktok.com/@nishawrites/video/7375159568583691562\thttps://www.tiktok.com/@mackinstyle/video/7355155030988573995\n",
      "\n"
     ]
    },
    {
     "name": "stderr",
     "output_type": "stream",
     "text": []
    },
    {
     "name": "stdout",
     "output_type": "stream",
     "text": [
      "79 https://www.tiktok.com/@kerri_reads/video/7375156265472806187\thttps://www.tiktok.com/@kerri_reads/video/7374432125262613802\n",
      "\n"
     ]
    },
    {
     "name": "stderr",
     "output_type": "stream",
     "text": []
    },
    {
     "name": "stdout",
     "output_type": "stream",
     "text": [
      "80 https://www.tiktok.com/@creativesmurphette/video/7375149605337435410\thttps://www.tiktok.com/@millionsofworlds/video/7350715323286342945\n",
      "\n"
     ]
    },
    {
     "name": "stderr",
     "output_type": "stream",
     "text": []
    },
    {
     "name": "stdout",
     "output_type": "stream",
     "text": [
      "81 https://www.tiktok.com/@patchespapercut/video/7375144463343029550\thttps://www.tiktok.com/@moviesaretherapy/video/7374156788901432618\n",
      "\n"
     ]
    },
    {
     "name": "stderr",
     "output_type": "stream",
     "text": []
    },
    {
     "name": "stdout",
     "output_type": "stream",
     "text": [
      "82 https://www.tiktok.com/@rianadarabooks/video/7375141675758259498\thttps://www.tiktok.com/@ana_mahilaj/video/7370050010504793376\n",
      "\n"
     ]
    },
    {
     "name": "stderr",
     "output_type": "stream",
     "text": []
    },
    {
     "name": "stdout",
     "output_type": "stream",
     "text": [
      "83 https://www.tiktok.com/@clairefoyant/video/7375137232912502058\thttps://www.tiktok.com/@chaosinthecarolinas/video/7373654390458060078\n",
      "\n"
     ]
    },
    {
     "name": "stderr",
     "output_type": "stream",
     "text": []
    },
    {
     "name": "stdout",
     "output_type": "stream",
     "text": [
      "84 https://www.tiktok.com/@rachreadsromance/video/7375135880404634910\thttps://www.tiktok.com/@amylgurley/video/7374943155298274603\n",
      "\n"
     ]
    },
    {
     "name": "stderr",
     "output_type": "stream",
     "text": []
    },
    {
     "name": "stdout",
     "output_type": "stream",
     "text": [
      "85 https://www.tiktok.com/@amyirby5/video/7375134798370704682\thttps://www.tiktok.com/@thatguyjae/video/7367479745308527915\n",
      "\n"
     ]
    },
    {
     "name": "stderr",
     "output_type": "stream",
     "text": []
    },
    {
     "name": "stdout",
     "output_type": "stream",
     "text": [
      "86 https://www.tiktok.com/@kimberley_loves_books/video/7375120806247927072\thttps://www.tiktok.com/@alyssareads3/video/7374773527175499051\n",
      "\n"
     ]
    },
    {
     "name": "stderr",
     "output_type": "stream",
     "text": []
    },
    {
     "name": "stdout",
     "output_type": "stream",
     "text": [
      "87 https://www.tiktok.com/@marketingyourbook/video/7375117804682431777\thttps://www.tiktok.com/@justmarvewrites/video/7374914221395430689\n",
      "\n"
     ]
    },
    {
     "name": "stderr",
     "output_type": "stream",
     "text": []
    },
    {
     "name": "stdout",
     "output_type": "stream",
     "text": [
      "88 https://www.tiktok.com/@leekasbookishbehavior/video/7375113588819725611\thttps://www.tiktok.com/@tareesebereading/video/7374860172000283935\n",
      "\n"
     ]
    },
    {
     "name": "stderr",
     "output_type": "stream",
     "text": []
    },
    {
     "name": "stdout",
     "output_type": "stream",
     "text": [
      "89 https://www.tiktok.com/@mimihtj_reads/video/7375091148995579169\thttps://www.tiktok.com/@alonso_garca/video/7368270827097197830\n",
      "\n"
     ]
    },
    {
     "name": "stderr",
     "output_type": "stream",
     "text": []
    },
    {
     "name": "stdout",
     "output_type": "stream",
     "text": [
      "90 https://www.tiktok.com/@alaskanforrestva/video/7375087522944257326\thttps://www.tiktok.com/@brandonfoodle/video/7373230423436037394\n",
      "\n"
     ]
    },
    {
     "name": "stderr",
     "output_type": "stream",
     "text": []
    },
    {
     "name": "stdout",
     "output_type": "stream",
     "text": [
      "91 https://www.tiktok.com/@sojourner_76/video/7375076535402892586\thttps://www.tiktok.com/@aimeeericksen/video/7375032183821520171\n",
      "\n"
     ]
    },
    {
     "name": "stderr",
     "output_type": "stream",
     "text": []
    },
    {
     "name": "stdout",
     "output_type": "stream",
     "text": [
      "92 https://www.tiktok.com/@maddie.heaslip/video/7375067892229917984\thttps://www.tiktok.com/@tigbittysam/video/7368223094579940654\n",
      "\n"
     ]
    },
    {
     "name": "stderr",
     "output_type": "stream",
     "text": []
    },
    {
     "name": "stdout",
     "output_type": "stream",
     "text": [
      "93 https://www.tiktok.com/@daddy.erwin.lover/video/7375050516256066858\thttps://www.tiktok.com/@gallxvichk/video/7348806427978255648\n",
      "\n"
     ]
    },
    {
     "name": "stderr",
     "output_type": "stream",
     "text": []
    },
    {
     "name": "stdout",
     "output_type": "stream",
     "text": [
      "94 https://www.tiktok.com/@misterbrucewayne/video/7375019184046116142\thttps://www.tiktok.com/@lexieaxon/video/7369732545686162731\n",
      "\n"
     ]
    },
    {
     "name": "stderr",
     "output_type": "stream",
     "text": []
    },
    {
     "name": "stdout",
     "output_type": "stream",
     "text": [
      "95 https://www.tiktok.com/@nagrommm/video/7375014435418672426\thttps://www.tiktok.com/@kinghippo23/video/7374490664748322091\n",
      "\n"
     ]
    },
    {
     "name": "stderr",
     "output_type": "stream",
     "text": []
    },
    {
     "name": "stdout",
     "output_type": "stream",
     "text": [
      "96 https://www.tiktok.com/@littlemissleopard/video/7375008547106721070\thttps://www.tiktok.com/@readwithsacha/video/7363898298505186593\n",
      "\n"
     ]
    },
    {
     "name": "stderr",
     "output_type": "stream",
     "text": []
    },
    {
     "name": "stdout",
     "output_type": "stream",
     "text": [
      "97 https://www.tiktok.com/@juliettebanksauthor/video/7375008325378805000\thttps://www.tiktok.com/@probablyoffreading/video/7374971029808090414\n",
      "\n"
     ]
    },
    {
     "name": "stderr",
     "output_type": "stream",
     "text": []
    },
    {
     "name": "stdout",
     "output_type": "stream",
     "text": [
      "98 https://www.tiktok.com/@felicareads/video/7375001493851639086\thttps://www.tiktok.com/@felicareads/video/7374891103662656810\n",
      "\n"
     ]
    },
    {
     "name": "stderr",
     "output_type": "stream",
     "text": []
    },
    {
     "name": "stdout",
     "output_type": "stream",
     "text": [
      "99 https://www.tiktok.com/@sustainablybookish/video/7374997560357817643\thttps://www.tiktok.com/@gabbyherman05/video/7359201609752071466\n",
      "\n"
     ]
    },
    {
     "name": "stderr",
     "output_type": "stream",
     "text": []
    },
    {
     "name": "stdout",
     "output_type": "stream",
     "text": [
      "100 https://www.tiktok.com/@liabnyc/video/7374993244029029662\thttps://www.tiktok.com/@katone/video/7374290357514685738\n",
      "\n"
     ]
    },
    {
     "name": "stderr",
     "output_type": "stream",
     "text": []
    },
    {
     "name": "stdout",
     "output_type": "stream",
     "text": [
      "101 https://www.tiktok.com/@lynnies.library/video/7374977814115732779\thttps://www.tiktok.com/@lynnies.library/video/7285139810342194475\n",
      "\n"
     ]
    },
    {
     "name": "stderr",
     "output_type": "stream",
     "text": []
    },
    {
     "name": "stdout",
     "output_type": "stream",
     "text": [
      "102 https://www.tiktok.com/@c_mart/video/7374968194177584426\thttps://www.tiktok.com/tag/booktok\n",
      "\n"
     ]
    },
    {
     "name": "stderr",
     "output_type": "stream",
     "text": []
    },
    {
     "name": "stdout",
     "output_type": "stream",
     "text": [
      "103 https://www.tiktok.com/@felicareads/video/7374966355067522347\thttps://www.tiktok.com/@booksandbeaches1/video/7364051818177056046\n",
      "\n"
     ]
    },
    {
     "name": "stderr",
     "output_type": "stream",
     "text": []
    },
    {
     "name": "stdout",
     "output_type": "stream",
     "text": [
      "104 https://www.tiktok.com/@cassieanderson60/video/7374963405427461418\thttps://www.tiktok.com/@cassieanderson60/video/7363477226521775390\n",
      "\n"
     ]
    },
    {
     "name": "stderr",
     "output_type": "stream",
     "text": []
    },
    {
     "name": "stdout",
     "output_type": "stream",
     "text": [
      "105 https://www.tiktok.com/@christieashleyhen/video/7374960763477183775\thttps://www.tiktok.com/@chase_keller/video/7367966854666718510\n",
      "\n"
     ]
    },
    {
     "name": "stderr",
     "output_type": "stream",
     "text": []
    },
    {
     "name": "stdout",
     "output_type": "stream",
     "text": [
      "106 https://www.tiktok.com/@ourhiveandhome/video/7374959195633880362\thttps://www.tiktok.com/@kaitlinsbooktok/video/7357038721952156971\n",
      "\n"
     ]
    },
    {
     "name": "stderr",
     "output_type": "stream",
     "text": []
    },
    {
     "name": "stdout",
     "output_type": "stream",
     "text": [
      "107 https://www.tiktok.com/@nashvillebookgirl/video/7374957254316985643\thttps://www.tiktok.com/@nashvillebookgirl/video/7372014735673412907\n",
      "\n"
     ]
    },
    {
     "name": "stderr",
     "output_type": "stream",
     "text": []
    },
    {
     "name": "stdout",
     "output_type": "stream",
     "text": [
      "108 https://www.tiktok.com/@felicareads/video/7374956088350838062\thttps://www.tiktok.com/@thatguyjae/video/7374916775273647403\n",
      "\n"
     ]
    },
    {
     "name": "stderr",
     "output_type": "stream",
     "text": []
    },
    {
     "name": "stdout",
     "output_type": "stream",
     "text": [
      "109 https://www.tiktok.com/@epm_art_1111/video/7374955000889429290\thttps://www.tiktok.com/@jesken12/video/7374945907764153642\n",
      "\n"
     ]
    },
    {
     "name": "stderr",
     "output_type": "stream",
     "text": []
    },
    {
     "name": "stdout",
     "output_type": "stream",
     "text": [
      "110 https://www.tiktok.com/@_nissab123_/video/7374954068462144774\thttps://www.tiktok.com/@gallxvichk/video/7348806427978255648\n",
      "\n"
     ]
    },
    {
     "name": "stderr",
     "output_type": "stream",
     "text": []
    },
    {
     "name": "stdout",
     "output_type": "stream",
     "text": [
      "111 https://www.tiktok.com/@nerdymixedpan/video/7374954012027768107\thttps://www.tiktok.com/@hempfathur/video/7374617448802274603\n",
      "\n"
     ]
    },
    {
     "name": "stderr",
     "output_type": "stream",
     "text": []
    },
    {
     "name": "stdout",
     "output_type": "stream",
     "text": [
      "112 https://www.tiktok.com/@kars_bookshelf/video/7374952469379517726\thttps://www.tiktok.com/@robert.reads/video/7373524686048677121\n",
      "\n"
     ]
    },
    {
     "name": "stderr",
     "output_type": "stream",
     "text": []
    },
    {
     "name": "stdout",
     "output_type": "stream",
     "text": [
      "113 https://www.tiktok.com/@writefastertheo/video/7374950474522397995\thttps://www.tiktok.com/@marypascual71/video/7374863265039404330\n",
      "\n"
     ]
    },
    {
     "name": "stderr",
     "output_type": "stream",
     "text": []
    },
    {
     "name": "stdout",
     "output_type": "stream",
     "text": [
      "114 https://www.tiktok.com/@themoonlitgrimoire/video/7374947356912930090\thttps://www.tiktok.com/@kayleighs_corner/video/7374060449718979882\n",
      "\n"
     ]
    },
    {
     "name": "stderr",
     "output_type": "stream",
     "text": []
    },
    {
     "name": "stdout",
     "output_type": "stream",
     "text": [
      "115 https://www.tiktok.com/@adaeze.please/video/7374945604771859758\thttps://www.tiktok.com/@christinac.reads/video/7374160139202350378\n",
      "\n"
     ]
    },
    {
     "name": "stderr",
     "output_type": "stream",
     "text": []
    },
    {
     "name": "stdout",
     "output_type": "stream",
     "text": [
      "116 https://www.tiktok.com/@thebookcases/video/7374944824056630574\thttps://www.tiktok.com/@fromthemixedupdesk/video/7374168566670576938\n",
      "\n"
     ]
    },
    {
     "name": "stderr",
     "output_type": "stream",
     "text": []
    },
    {
     "name": "stdout",
     "output_type": "stream",
     "text": [
      "117 https://www.tiktok.com/@words.for.foxes/video/7374944116171361578\thttps://www.tiktok.com/@words.for.foxes/video/7372389650876386606\n",
      "\n"
     ]
    },
    {
     "name": "stderr",
     "output_type": "stream",
     "text": []
    },
    {
     "name": "stdout",
     "output_type": "stream",
     "text": [
      "118 https://www.tiktok.com/@ldvalencia.author/video/7374940522735209774\thttps://www.tiktok.com/@bookishmrsw/video/7374745556955958571\n",
      "\n"
     ]
    },
    {
     "name": "stderr",
     "output_type": "stream",
     "text": []
    },
    {
     "name": "stdout",
     "output_type": "stream",
     "text": [
      "119 https://www.tiktok.com/@lorraine.bradner/video/7374936841331445035\thttps://www.tiktok.com/@__bexbeauty__/video/7238652737523600666\n",
      "\n"
     ]
    },
    {
     "name": "stderr",
     "output_type": "stream",
     "text": []
    },
    {
     "name": "stdout",
     "output_type": "stream",
     "text": [
      "120 https://www.tiktok.com/@jaclyn.parks.auth/video/7374936581758766382\thttps://www.tiktok.com/@booktoklexii/video/7374913003386342699\n",
      "\n"
     ]
    },
    {
     "name": "stderr",
     "output_type": "stream",
     "text": []
    },
    {
     "name": "stdout",
     "output_type": "stream",
     "text": [
      "121 https://www.tiktok.com/@amberpendant/video/7374936490138193194\thttps://www.tiktok.com/@hannahleelinden/video/7374137742302678314\n",
      "\n"
     ]
    },
    {
     "name": "stderr",
     "output_type": "stream",
     "text": []
    },
    {
     "name": "stdout",
     "output_type": "stream",
     "text": [
      "122 https://www.tiktok.com/@bscalaauthor/video/7374934054136712490\thttps://www.tiktok.com/@author.wolfgangs/video/7374881136872312107\n",
      "\n"
     ]
    },
    {
     "name": "stderr",
     "output_type": "stream",
     "text": []
    },
    {
     "name": "stdout",
     "output_type": "stream",
     "text": [
      "123 https://www.tiktok.com/@marnbooks/video/7374931466200878341\thttps://www.tiktok.com/@henevia/video/7370917926137761029\n",
      "\n"
     ]
    },
    {
     "name": "stderr",
     "output_type": "stream",
     "text": []
    },
    {
     "name": "stdout",
     "output_type": "stream",
     "text": [
      "124 https://www.tiktok.com/@jrlhx/video/7374929480181239082\thttps://www.tiktok.com/@ummm_dj/video/7363478193593994539\n",
      "\n"
     ]
    },
    {
     "name": "stderr",
     "output_type": "stream",
     "text": []
    },
    {
     "name": "stdout",
     "output_type": "stream",
     "text": [
      "125 https://www.tiktok.com/@moses_777/video/7374927094993751339\thttps://www.tiktok.com/@jacqueslaurentcote/video/7374870898983144746\n",
      "\n"
     ]
    },
    {
     "name": "stderr",
     "output_type": "stream",
     "text": []
    },
    {
     "name": "stdout",
     "output_type": "stream",
     "text": [
      "126 https://www.tiktok.com/@jessy_beckettauthor/video/7374924191876910367\thttps://www.tiktok.com/@bridget.hale.author/video/7374920321415122222\n",
      "\n"
     ]
    },
    {
     "name": "stderr",
     "output_type": "stream",
     "text": []
    },
    {
     "name": "stdout",
     "output_type": "stream",
     "text": [
      "127 https://www.tiktok.com/@olivialindenauthor/video/7374916039420759339\thttps://www.tiktok.com/@a.aliiiyha/video/7370388924633599274\n",
      "\n"
     ]
    },
    {
     "name": "stderr",
     "output_type": "stream",
     "text": []
    },
    {
     "name": "stdout",
     "output_type": "stream",
     "text": [
      "128 https://www.tiktok.com/@chibilani/video/7374909841522887982\thttps://www.tiktok.com/@heydudeshoes\n",
      "\n"
     ]
    },
    {
     "name": "stderr",
     "output_type": "stream",
     "text": []
    },
    {
     "name": "stdout",
     "output_type": "stream",
     "text": [
      "129 https://www.tiktok.com/@leeadamauthor/video/7374905224965655841\thttps://www.tiktok.com/@alexa.shays/video/7374854085310287147\n",
      "\n"
     ]
    },
    {
     "name": "stderr",
     "output_type": "stream",
     "text": []
    },
    {
     "name": "stdout",
     "output_type": "stream",
     "text": [
      "130 https://www.tiktok.com/@bookswithsamantha/video/7374904374063058222\thttps://www.tiktok.com/@thebellairs/video/7363725090246184234\n",
      "\n"
     ]
    },
    {
     "name": "stderr",
     "output_type": "stream",
     "text": []
    },
    {
     "name": "stdout",
     "output_type": "stream",
     "text": [
      "131 https://www.tiktok.com/@dkrzeminski/video/7374902374936120622\thttps://www.tiktok.com/@sladjana.svendsen/video/7363170565642898721\n",
      "\n"
     ]
    },
    {
     "name": "stderr",
     "output_type": "stream",
     "text": []
    },
    {
     "name": "stdout",
     "output_type": "stream",
     "text": [
      "132 https://www.tiktok.com/@lordloopy0/video/7374901020964457771\thttps://www.tiktok.com/@avendesoras/video/7366753919491476741\n",
      "\n"
     ]
    },
    {
     "name": "stderr",
     "output_type": "stream",
     "text": []
    },
    {
     "name": "stdout",
     "output_type": "stream",
     "text": [
      "133 https://www.tiktok.com/@sethcampbellwrites/video/7374892297902673194\thttps://www.tiktok.com/@cgamwell/video/7374240890623216938\n",
      "\n"
     ]
    },
    {
     "name": "stderr",
     "output_type": "stream",
     "text": []
    },
    {
     "name": "stdout",
     "output_type": "stream",
     "text": [
      "134 https://www.tiktok.com/@oneshotwatt/video/7374890378094464302\thttps://www.tiktok.com/@mr.mysteries_/video/7363432742400298282\n",
      "\n"
     ]
    },
    {
     "name": "stderr",
     "output_type": "stream",
     "text": []
    },
    {
     "name": "stdout",
     "output_type": "stream",
     "text": [
      "135 https://www.tiktok.com/@wsgreer/video/7374885314327743786\thttps://www.tiktok.com/@mariannasreads/video/7374468694874901806\n",
      "\n"
     ]
    },
    {
     "name": "stderr",
     "output_type": "stream",
     "text": []
    },
    {
     "name": "stdout",
     "output_type": "stream",
     "text": [
      "136 https://www.tiktok.com/@ciarrakat/video/7374884317882830123\thttps://www.tiktok.com/@pagesagainstreality_/video/7373818393071226154\n",
      "\n"
     ]
    },
    {
     "name": "stderr",
     "output_type": "stream",
     "text": []
    },
    {
     "name": "stdout",
     "output_type": "stream",
     "text": [
      "137 https://www.tiktok.com/@darkgoddessreads/video/7374878333147958570\thttps://www.tiktok.com/@wordsbycece/video/7351230362250530049\n",
      "\n"
     ]
    },
    {
     "name": "stderr",
     "output_type": "stream",
     "text": []
    },
    {
     "name": "stdout",
     "output_type": "stream",
     "text": [
      "138 https://www.tiktok.com/@l_walks_alone/video/7374876817594895658\thttps://www.tiktok.com/@cgamwell/video/7374240890623216938\n",
      "\n"
     ]
    },
    {
     "name": "stderr",
     "output_type": "stream",
     "text": []
    },
    {
     "name": "stdout",
     "output_type": "stream",
     "text": [
      "139 https://www.tiktok.com/@kendrascozycorner/video/7374874881466322219\thttps://www.tiktok.com/@booksaremythirdplace/video/6917323122647502085\n",
      "\n"
     ]
    },
    {
     "name": "stderr",
     "output_type": "stream",
     "text": []
    },
    {
     "name": "stdout",
     "output_type": "stream",
     "text": [
      "140 https://www.tiktok.com/@sulkieeee/video/7374874094979861806\thttps://www.tiktok.com/@abbie.marshmallow/video/7373802224306146603\n",
      "\n"
     ]
    },
    {
     "name": "stderr",
     "output_type": "stream",
     "text": []
    },
    {
     "name": "stdout",
     "output_type": "stream",
     "text": [
      "141 https://www.tiktok.com/@thekaykaymarie/video/7374870818620296478\thttps://www.tiktok.com/@thekaykaymarie/video/7373394969354112287\n",
      "\n"
     ]
    },
    {
     "name": "stderr",
     "output_type": "stream",
     "text": []
    },
    {
     "name": "stdout",
     "output_type": "stream",
     "text": [
      "142 https://www.tiktok.com/@tripp_smokepit/video/7374870347138616619\thttps://www.tiktok.com/@m.k.dockery/video/7374663044103851310\n",
      "\n"
     ]
    },
    {
     "name": "stderr",
     "output_type": "stream",
     "text": []
    },
    {
     "name": "stdout",
     "output_type": "stream",
     "text": [
      "143 https://www.tiktok.com/@ladyravnos316/video/7374870208177016106\thttps://www.tiktok.com/@brandonfoodle/video/7373230423436037394\n",
      "\n"
     ]
    },
    {
     "name": "stderr",
     "output_type": "stream",
     "text": []
    },
    {
     "name": "stdout",
     "output_type": "stream",
     "text": [
      "144 https://www.tiktok.com/@hoarderreader/video/7374869801958772000\thttps://www.tiktok.com/@jessereadsbookss/video/7373866231738273066\n",
      "\n"
     ]
    },
    {
     "name": "stderr",
     "output_type": "stream",
     "text": []
    },
    {
     "name": "stdout",
     "output_type": "stream",
     "text": [
      "145 https://www.tiktok.com/@bridgette.anne.writes/video/7374869574077992235\thttps://www.tiktok.com/@andr3wsky/video/7374468480009030954\n",
      "\n"
     ]
    },
    {
     "name": "stderr",
     "output_type": "stream",
     "text": []
    },
    {
     "name": "stdout",
     "output_type": "stream",
     "text": [
      "146 https://www.tiktok.com/@lorireeds/video/7374868134643174699\thttps://www.tiktok.com/@overcoming_overspending/video/7344769618176658731\n",
      "\n"
     ]
    },
    {
     "name": "stderr",
     "output_type": "stream",
     "text": []
    },
    {
     "name": "stdout",
     "output_type": "stream",
     "text": [
      "147 https://www.tiktok.com/@_chokedbybooks_/video/7374867769050795310\thttps://www.tiktok.com/@chloekentfromkent/video/7347434236170816801\n",
      "\n"
     ]
    },
    {
     "name": "stderr",
     "output_type": "stream",
     "text": []
    },
    {
     "name": "stdout",
     "output_type": "stream",
     "text": [
      "148 https://www.tiktok.com/@bah_rob/video/7374867660846271776\thttps://www.tiktok.com/@amauryguichon/video/7373696620304780590\n",
      "\n"
     ]
    },
    {
     "name": "stderr",
     "output_type": "stream",
     "text": []
    },
    {
     "name": "stdout",
     "output_type": "stream",
     "text": [
      "149 https://www.tiktok.com/@callsignauguste/video/7374865169110912302\thttps://www.tiktok.com/@christi.mich/video/7373385143769140522\n",
      "\n"
     ]
    },
    {
     "name": "stderr",
     "output_type": "stream",
     "text": []
    },
    {
     "name": "stdout",
     "output_type": "stream",
     "text": [
      "150 https://www.tiktok.com/@ralucagrigore30/video/7374864870245797152\thttps://www.tiktok.com/@read.or.listen/video/7373295537388358955\n",
      "\n"
     ]
    },
    {
     "name": "stderr",
     "output_type": "stream",
     "text": []
    },
    {
     "name": "stdout",
     "output_type": "stream",
     "text": [
      "151 https://www.tiktok.com/@philip.ellis/video/7374859460906405152\thttps://www.tiktok.com/@scribnerbooks/video/7367787901167537454\n",
      "\n"
     ]
    },
    {
     "name": "stderr",
     "output_type": "stream",
     "text": []
    },
    {
     "name": "stdout",
     "output_type": "stream",
     "text": [
      "152 https://www.tiktok.com/@sofiesbooked/video/7374854606385433898\thttps://www.tiktok.com/@thatguyjae/video/7367479745308527915\n",
      "\n"
     ]
    },
    {
     "name": "stderr",
     "output_type": "stream",
     "text": []
    },
    {
     "name": "stdout",
     "output_type": "stream",
     "text": [
      "153 https://www.tiktok.com/@ruthiewrites91/video/7374854306106772779\thttps://www.tiktok.com/@ksshaywrites/video/7374852080072396078\n",
      "\n"
     ]
    },
    {
     "name": "stderr",
     "output_type": "stream",
     "text": []
    },
    {
     "name": "stdout",
     "output_type": "stream",
     "text": [
      "154 https://www.tiktok.com/@bookmagic.3/video/7374852296615808299\thttps://www.tiktok.com/@ana_mahilaj/video/7370050010504793376\n",
      "\n"
     ]
    },
    {
     "name": "stderr",
     "output_type": "stream",
     "text": []
    },
    {
     "name": "stdout",
     "output_type": "stream",
     "text": [
      "155 https://www.tiktok.com/@bourbontrailbookfairy/video/7374852248255335722\thttps://www.tiktok.com/@nics_readinglife/video/7374826536181976363\n",
      "\n"
     ]
    },
    {
     "name": "stderr",
     "output_type": "stream",
     "text": []
    },
    {
     "name": "stdout",
     "output_type": "stream",
     "text": [
      "156 https://www.tiktok.com/@beyondthenakedeyes/video/7374845989351443754\thttps://www.tiktok.com/@adamfreediver/video/7356174748952366344\n",
      "\n"
     ]
    },
    {
     "name": "stderr",
     "output_type": "stream",
     "text": []
    },
    {
     "name": "stdout",
     "output_type": "stream",
     "text": [
      "157 https://www.tiktok.com/@brigittewhoas/video/7374842736471510315\thttps://www.tiktok.com/@jenni_maharidge/video/7374820911821638955\n",
      "\n"
     ]
    },
    {
     "name": "stderr",
     "output_type": "stream",
     "text": []
    },
    {
     "name": "stdout",
     "output_type": "stream",
     "text": [
      "158 https://www.tiktok.com/@wishuwerehereinmybook/video/7374841480923434271\thttps://www.tiktok.com/@andr3wsky\n",
      "\n"
     ]
    },
    {
     "name": "stderr",
     "output_type": "stream",
     "text": []
    },
    {
     "name": "stdout",
     "output_type": "stream",
     "text": [
      "159 https://www.tiktok.com/@allnighter863/video/7374841242737184043\thttps://www.tiktok.com/@spampire/video/7371893890846068010\n",
      "\n"
     ]
    },
    {
     "name": "stderr",
     "output_type": "stream",
     "text": []
    },
    {
     "name": "stdout",
     "output_type": "stream",
     "text": [
      "160 https://www.tiktok.com/@bookish.daydreaming/video/7374839689351613728\thttps://www.tiktok.com/@bookish.daydreaming/video/7371795994662505761\n",
      "\n"
     ]
    },
    {
     "name": "stderr",
     "output_type": "stream",
     "text": []
    },
    {
     "name": "stdout",
     "output_type": "stream",
     "text": [
      "161 https://www.tiktok.com/@sarahjuliareads/video/7374838186314386720\thttps://www.tiktok.com/@sarahjuliareads/video/7364102060830166304\n",
      "\n"
     ]
    },
    {
     "name": "stderr",
     "output_type": "stream",
     "text": []
    },
    {
     "name": "stdout",
     "output_type": "stream",
     "text": [
      "162 https://www.tiktok.com/@babbel/video/7374838028474387754\thttps://www.tiktok.com/@courtneyhenningnovak/video/7370016629893238058\n",
      "\n"
     ]
    },
    {
     "name": "stderr",
     "output_type": "stream",
     "text": []
    },
    {
     "name": "stdout",
     "output_type": "stream",
     "text": [
      "163 https://www.tiktok.com/@rebecca.thorne/video/7374836995975056686\thttps://www.tiktok.com/@disastroushistory/video/7373866622316023086\n",
      "\n"
     ]
    },
    {
     "name": "stderr",
     "output_type": "stream",
     "text": []
    },
    {
     "name": "stdout",
     "output_type": "stream",
     "text": [
      "164 https://www.tiktok.com/@pintsizemama/video/7374834644799212842\thttps://www.tiktok.com/@huntsmanandbooks/video/7372681687832071454\n",
      "\n"
     ]
    },
    {
     "name": "stderr",
     "output_type": "stream",
     "text": []
    },
    {
     "name": "stdout",
     "output_type": "stream",
     "text": [
      "165 https://www.tiktok.com/@sloanspencerauthor/video/7374822709806648619\thttps://www.tiktok.com/@unviajede2/video/7374437837183290656\n",
      "\n"
     ]
    },
    {
     "name": "stderr",
     "output_type": "stream",
     "text": []
    },
    {
     "name": "stdout",
     "output_type": "stream",
     "text": [
      "166 https://www.tiktok.com/@mckenzielynnbooks/video/7374821354559802667\thttps://www.tiktok.com/@i.d.marie/video/7374075312411331883\n",
      "\n"
     ]
    },
    {
     "name": "stderr",
     "output_type": "stream",
     "text": []
    },
    {
     "name": "stdout",
     "output_type": "stream",
     "text": [
      "167 https://www.tiktok.com/@anni.moto_/video/7374818731135864106\thttps://www.tiktok.com/@phil.speaks.facts\n",
      "\n"
     ]
    },
    {
     "name": "stderr",
     "output_type": "stream",
     "text": []
    },
    {
     "name": "stdout",
     "output_type": "stream",
     "text": [
      "168 https://www.tiktok.com/@hager_moharram/video/7374812554733931782\thttps://www.tiktok.com/@hager_moharram/video/7374756724353371398\n",
      "\n"
     ]
    },
    {
     "name": "stderr",
     "output_type": "stream",
     "text": []
    },
    {
     "name": "stdout",
     "output_type": "stream",
     "text": [
      "169 https://www.tiktok.com/@bykalijean/video/7374810639216299306\thttps://www.tiktok.com/@mychiayher/video/7374795063995501866\n",
      "\n"
     ]
    },
    {
     "name": "stderr",
     "output_type": "stream",
     "text": []
    },
    {
     "name": "stdout",
     "output_type": "stream",
     "text": [
      "170 https://www.tiktok.com/@alex.the.dyslexic.writer/video/7374809101945097515\thttps://www.tiktok.com/@allobility/video/7374424611166981408\n",
      "\n"
     ]
    },
    {
     "name": "stderr",
     "output_type": "stream",
     "text": []
    },
    {
     "name": "stdout",
     "output_type": "stream",
     "text": [
      "171 https://www.tiktok.com/@tywi_org/video/7374806222484016427\thttps://www.tiktok.com/@bridgertonnetflix/video/7361861943113682209\n",
      "\n"
     ]
    },
    {
     "name": "stderr",
     "output_type": "stream",
     "text": []
    },
    {
     "name": "stdout",
     "output_type": "stream",
     "text": [
      "172 https://www.tiktok.com/@zbookishgirl/video/7374802859369647406\thttps://www.tiktok.com/@emhahee/video/7374484844992089390\n",
      "\n"
     ]
    },
    {
     "name": "stderr",
     "output_type": "stream",
     "text": []
    },
    {
     "name": "stdout",
     "output_type": "stream",
     "text": [
      "173 https://www.tiktok.com/@bookieheart_jaime/video/7374801988921347359\thttps://www.tiktok.com/@britandherbooks/video/7373142117864017194\n",
      "\n"
     ]
    },
    {
     "name": "stderr",
     "output_type": "stream",
     "text": []
    },
    {
     "name": "stdout",
     "output_type": "stream",
     "text": [
      "174 https://www.tiktok.com/@mkloa_author/video/7374801736415972651\thttps://www.tiktok.com/@exclusivepalmbeachliving/video/7328606222213549355\n",
      "\n"
     ]
    },
    {
     "name": "stderr",
     "output_type": "stream",
     "text": []
    },
    {
     "name": "stdout",
     "output_type": "stream",
     "text": [
      "175 https://www.tiktok.com/@head_in_the_crowns/video/7374801232214461739\thttps://www.tiktok.com/@head_in_the_crowns/video/7366721655370140974\n",
      "\n"
     ]
    },
    {
     "name": "stderr",
     "output_type": "stream",
     "text": []
    },
    {
     "name": "stdout",
     "output_type": "stream",
     "text": [
      "176 https://www.tiktok.com/@michaelinereadsalot/video/7374797537192037674\thttps://www.tiktok.com/@michaelinereadsalot/video/7238404262466964782\n",
      "\n"
     ]
    },
    {
     "name": "stderr",
     "output_type": "stream",
     "text": []
    },
    {
     "name": "stdout",
     "output_type": "stream",
     "text": [
      "177 https://www.tiktok.com/@jwallace_author/video/7374794111003462945\thttps://www.tiktok.com/@gayafhbu/video/7374168320435637547\n",
      "\n"
     ]
    },
    {
     "name": "stderr",
     "output_type": "stream",
     "text": []
    },
    {
     "name": "stdout",
     "output_type": "stream",
     "text": [
      "178 https://www.tiktok.com/@marypetrushko/video/7374793418238676267\thttps://www.tiktok.com/@marypetrushko/video/7364387039615339822\n",
      "\n"
     ]
    },
    {
     "name": "stderr",
     "output_type": "stream",
     "text": []
    },
    {
     "name": "stdout",
     "output_type": "stream",
     "text": [
      "179 https://www.tiktok.com/@m_eagan/video/7374788181931265326\thttps://www.tiktok.com/@m_eagan/video/7371143678481714478\n",
      "\n"
     ]
    },
    {
     "name": "stderr",
     "output_type": "stream",
     "text": []
    },
    {
     "name": "stdout",
     "output_type": "stream",
     "text": [
      "180 https://www.tiktok.com/@cherylcampbellbooks/video/7374788079103511850\thttps://www.tiktok.com/@nbcsphilly/video/7374533008935636267\n",
      "\n"
     ]
    },
    {
     "name": "stderr",
     "output_type": "stream",
     "text": []
    },
    {
     "name": "stdout",
     "output_type": "stream",
     "text": [
      "181 https://www.tiktok.com/@allysonm.deese/video/7374787952649571626\thttps://www.tiktok.com/tag/summerreads\n",
      "\n"
     ]
    },
    {
     "name": "stderr",
     "output_type": "stream",
     "text": []
    },
    {
     "name": "stdout",
     "output_type": "stream",
     "text": [
      "182 https://www.tiktok.com/@theindoorswoman/video/7374787247368981803\thttps://www.tiktok.com/@royaltelevisionsociety/video/7369595262693690657\n",
      "\n"
     ]
    },
    {
     "name": "stderr",
     "output_type": "stream",
     "text": []
    },
    {
     "name": "stdout",
     "output_type": "stream",
     "text": [
      "183 https://www.tiktok.com/@kayla.lainexo/video/7374784211972246830\thttps://www.tiktok.com/@bustle/video/7194955089100950827\n",
      "\n"
     ]
    },
    {
     "name": "stderr",
     "output_type": "stream",
     "text": []
    },
    {
     "name": "stdout",
     "output_type": "stream",
     "text": [
      "184 https://www.tiktok.com/@anna_shiffler/video/7374782801863888174\thttps://www.tiktok.com/@jolenefine/video/7374395341950569771\n",
      "\n"
     ]
    },
    {
     "name": "stderr",
     "output_type": "stream",
     "text": []
    },
    {
     "name": "stdout",
     "output_type": "stream",
     "text": [
      "185 https://www.tiktok.com/@callsign_grace1/video/7374782204066483489\thttps://www.tiktok.com/@brodiemxnn/video/7372370613824015633\n",
      "\n"
     ]
    },
    {
     "name": "stderr",
     "output_type": "stream",
     "text": []
    },
    {
     "name": "stdout",
     "output_type": "stream",
     "text": [
      "186 https://www.tiktok.com/@lady_casper/video/7374778833498623278\thttps://www.tiktok.com/@book.drunk/video/7374657665424739592\n",
      "\n"
     ]
    },
    {
     "name": "stderr",
     "output_type": "stream",
     "text": []
    },
    {
     "name": "stdout",
     "output_type": "stream",
     "text": [
      "187 https://www.tiktok.com/@theirishfangirl/video/7374756205043993889\thttps://www.tiktok.com/@kindagayash/video/7361869946327944480\n",
      "\n"
     ]
    },
    {
     "name": "stderr",
     "output_type": "stream",
     "text": []
    },
    {
     "name": "stdout",
     "output_type": "stream",
     "text": [
      "188 https://www.tiktok.com/@jacksbookcorner/video/7374743608974396704\thttps://www.tiktok.com/@waterstones/video/7374730344756514080\n",
      "\n"
     ]
    },
    {
     "name": "stderr",
     "output_type": "stream",
     "text": []
    },
    {
     "name": "stdout",
     "output_type": "stream",
     "text": [
      "189 https://www.tiktok.com/@broomehead/video/7374741185505840417\thttps://www.tiktok.com/@waterstones/video/7374730344756514080\n",
      "\n"
     ]
    },
    {
     "name": "stderr",
     "output_type": "stream",
     "text": []
    },
    {
     "name": "stdout",
     "output_type": "stream",
     "text": [
      "190 https://www.tiktok.com/@rdmopun/video/7374736685696879915\thttps://www.tiktok.com/@sagerayadawson/video/7374494747940932869\n",
      "\n"
     ]
    },
    {
     "name": "stderr",
     "output_type": "stream",
     "text": []
    },
    {
     "name": "stdout",
     "output_type": "stream",
     "text": [
      "191 https://www.tiktok.com/@a.rigbeard/video/7374731338848439585\thttps://www.tiktok.com/@blepardvo/video/7329685962584280366\n",
      "\n"
     ]
    },
    {
     "name": "stderr",
     "output_type": "stream",
     "text": []
    },
    {
     "name": "stdout",
     "output_type": "stream",
     "text": [
      "192 https://www.tiktok.com/@the.sleepy.psychic/video/7374727901415050542\thttps://www.tiktok.com/@psychickirsten/video/7374523287407168810\n",
      "\n"
     ]
    },
    {
     "name": "stderr",
     "output_type": "stream",
     "text": []
    },
    {
     "name": "stdout",
     "output_type": "stream",
     "text": [
      "193 https://www.tiktok.com/@biblioellegraphy/video/7374709753705991442\thttps://www.tiktok.com/@bookfairaus/video/7374707624295533829\n",
      "\n"
     ]
    },
    {
     "name": "stderr",
     "output_type": "stream",
     "text": []
    },
    {
     "name": "stdout",
     "output_type": "stream",
     "text": [
      "194 https://www.tiktok.com/@yngrckles/video/7374703582383328558\thttps://www.tiktok.com/tag/nyc\n",
      "\n"
     ]
    },
    {
     "name": "stderr",
     "output_type": "stream",
     "text": []
    },
    {
     "name": "stdout",
     "output_type": "stream",
     "text": [
      "195 https://www.tiktok.com/@theheart3van/video/7374700215300803883\thttps://www.tiktok.com/@theheart3van/video/7374543702733114666\n",
      "\n"
     ]
    },
    {
     "name": "stderr",
     "output_type": "stream",
     "text": []
    },
    {
     "name": "stdout",
     "output_type": "stream",
     "text": [
      "196 https://www.tiktok.com/@alsestier/video/7374679048624327982\thttps://www.tiktok.com/@eastcoasttags/video/7374079187092606251\n",
      "\n"
     ]
    },
    {
     "name": "stderr",
     "output_type": "stream",
     "text": []
    },
    {
     "name": "stdout",
     "output_type": "stream",
     "text": [
      "197 https://www.tiktok.com/@geedubbs18/video/7374673799561776430\thttps://www.tiktok.com/tag/booktok\n",
      "\n"
     ]
    },
    {
     "name": "stderr",
     "output_type": "stream",
     "text": []
    },
    {
     "name": "stdout",
     "output_type": "stream",
     "text": [
      "198 https://www.tiktok.com/@normasnookediting/video/7374657741417188639\thttps://www.tiktok.com/@simplysimone/video/7374655010581269803\n",
      "\n"
     ]
    },
    {
     "name": "stderr",
     "output_type": "stream",
     "text": []
    },
    {
     "name": "stdout",
     "output_type": "stream",
     "text": [
      "199 https://www.tiktok.com/@educatedcloud11/video/7374654317200166190\thttps://www.tiktok.com/@mahoganybookworm/video/7373771669829061931\n",
      "\n"
     ]
    },
    {
     "name": "stderr",
     "output_type": "stream",
     "text": []
    },
    {
     "name": "stdout",
     "output_type": "stream",
     "text": [
      "200 https://www.tiktok.com/@toriofthetrees/video/7374645610101837102\thttps://www.tiktok.com/@daynawrites/video/7369687697264315680\n",
      "\n"
     ]
    },
    {
     "name": "stderr",
     "output_type": "stream",
     "text": []
    },
    {
     "name": "stdout",
     "output_type": "stream",
     "text": [
      "201 https://www.tiktok.com/@toriofthetrees/video/7374643129393204522\thttps://www.tiktok.com/@daynawrites/video/7373995872239045921\n",
      "\n"
     ]
    },
    {
     "name": "stderr",
     "output_type": "stream",
     "text": []
    },
    {
     "name": "stdout",
     "output_type": "stream",
     "text": [
      "202 https://www.tiktok.com/@professor_mugiwara/video/7374639004198898990\thttps://www.tiktok.com/@ginad129/video/7374414605583502634\n",
      "\n"
     ]
    },
    {
     "name": "stderr",
     "output_type": "stream",
     "text": []
    },
    {
     "name": "stdout",
     "output_type": "stream",
     "text": [
      "203 https://www.tiktok.com/@tfauthor/video/7374633200192146731\thttps://www.tiktok.com/@cgamwell/video/7374240890623216938\n",
      "\n"
     ]
    },
    {
     "name": "stderr",
     "output_type": "stream",
     "text": []
    },
    {
     "name": "stdout",
     "output_type": "stream",
     "text": [
      "204 https://www.tiktok.com/@marissam777/video/7374629369802657067\thttps://www.tiktok.com/@ajintheafternoon/video/7368546778699812139\n",
      "\n"
     ]
    },
    {
     "name": "stderr",
     "output_type": "stream",
     "text": []
    },
    {
     "name": "stdout",
     "output_type": "stream",
     "text": [
      "205 https://www.tiktok.com/@iwritesmutnotrealities/video/7374628173562006826\thttps://www.tiktok.com/@andr3wsky/video/7374468480009030954\n",
      "\n"
     ]
    },
    {
     "name": "stderr",
     "output_type": "stream",
     "text": []
    },
    {
     "name": "stdout",
     "output_type": "stream",
     "text": [
      "206 https://www.tiktok.com/@sreyavt/video/7374626197105429776\thttps://www.tiktok.com/@sreyavt/video/7374294236901969169\n",
      "\n"
     ]
    },
    {
     "name": "stderr",
     "output_type": "stream",
     "text": [
      "  7%|▋         | 207/2986 [20:23<4:33:50,  5.91s/it]\n"
     ]
    },
    {
     "ename": "KeyboardInterrupt",
     "evalue": "",
     "output_type": "error",
     "traceback": [
      "\u001b[0;31m---------------------------------------------------------------------------\u001b[0m",
      "\u001b[0;31mKeyboardInterrupt\u001b[0m                         Traceback (most recent call last)",
      "Cell \u001b[0;32mIn[17], line 10\u001b[0m\n\u001b[1;32m      7\u001b[0m video \u001b[38;5;241m=\u001b[39m videos[idx]\n\u001b[1;32m      8\u001b[0m url \u001b[38;5;241m=\u001b[39m \u001b[38;5;124mf\u001b[39m\u001b[38;5;124m'\u001b[39m\u001b[38;5;124mhttps://www.tiktok.com/@\u001b[39m\u001b[38;5;132;01m{\u001b[39;00mvideo[\u001b[38;5;124m\"\u001b[39m\u001b[38;5;124musername\u001b[39m\u001b[38;5;124m\"\u001b[39m]\u001b[38;5;132;01m}\u001b[39;00m\u001b[38;5;124m/video/\u001b[39m\u001b[38;5;132;01m{\u001b[39;00mvideo[\u001b[38;5;124m\"\u001b[39m\u001b[38;5;124mid\u001b[39m\u001b[38;5;124m\"\u001b[39m]\u001b[38;5;132;01m}\u001b[39;00m\u001b[38;5;124m'\u001b[39m\n\u001b[0;32m---> 10\u001b[0m \u001b[43mdriver\u001b[49m\u001b[38;5;241;43m.\u001b[39;49m\u001b[43mget\u001b[49m\u001b[43m(\u001b[49m\u001b[43murl\u001b[49m\u001b[43m)\u001b[49m\n\u001b[1;32m     11\u001b[0m sleep(\u001b[38;5;241m2\u001b[39m)\n\u001b[1;32m     13\u001b[0m xpath \u001b[38;5;241m=\u001b[39m \u001b[38;5;124m'\u001b[39m\u001b[38;5;124m/html/body/div[1]/div[2]/div[2]/div/div[2]/div[1]/div[1]/div[2]/div[2]/div[1]/div/h1/a[2]\u001b[39m\u001b[38;5;124m'\u001b[39m\n",
      "File \u001b[0;32m~/.local/lib/python3.10/site-packages/selenium/webdriver/remote/webdriver.py:363\u001b[0m, in \u001b[0;36mWebDriver.get\u001b[0;34m(self, url)\u001b[0m\n\u001b[1;32m    361\u001b[0m \u001b[38;5;28;01mdef\u001b[39;00m \u001b[38;5;21mget\u001b[39m(\u001b[38;5;28mself\u001b[39m, url: \u001b[38;5;28mstr\u001b[39m) \u001b[38;5;241m-\u001b[39m\u001b[38;5;241m>\u001b[39m \u001b[38;5;28;01mNone\u001b[39;00m:\n\u001b[1;32m    362\u001b[0m \u001b[38;5;250m    \u001b[39m\u001b[38;5;124;03m\"\"\"Loads a web page in the current browser session.\"\"\"\u001b[39;00m\n\u001b[0;32m--> 363\u001b[0m     \u001b[38;5;28;43mself\u001b[39;49m\u001b[38;5;241;43m.\u001b[39;49m\u001b[43mexecute\u001b[49m\u001b[43m(\u001b[49m\u001b[43mCommand\u001b[49m\u001b[38;5;241;43m.\u001b[39;49m\u001b[43mGET\u001b[49m\u001b[43m,\u001b[49m\u001b[43m \u001b[49m\u001b[43m{\u001b[49m\u001b[38;5;124;43m\"\u001b[39;49m\u001b[38;5;124;43murl\u001b[39;49m\u001b[38;5;124;43m\"\u001b[39;49m\u001b[43m:\u001b[49m\u001b[43m \u001b[49m\u001b[43murl\u001b[49m\u001b[43m}\u001b[49m\u001b[43m)\u001b[49m\n",
      "File \u001b[0;32m~/.local/lib/python3.10/site-packages/selenium/webdriver/remote/webdriver.py:352\u001b[0m, in \u001b[0;36mWebDriver.execute\u001b[0;34m(self, driver_command, params)\u001b[0m\n\u001b[1;32m    349\u001b[0m     \u001b[38;5;28;01melif\u001b[39;00m \u001b[38;5;124m\"\u001b[39m\u001b[38;5;124msessionId\u001b[39m\u001b[38;5;124m\"\u001b[39m \u001b[38;5;129;01mnot\u001b[39;00m \u001b[38;5;129;01min\u001b[39;00m params:\n\u001b[1;32m    350\u001b[0m         params[\u001b[38;5;124m\"\u001b[39m\u001b[38;5;124msessionId\u001b[39m\u001b[38;5;124m\"\u001b[39m] \u001b[38;5;241m=\u001b[39m \u001b[38;5;28mself\u001b[39m\u001b[38;5;241m.\u001b[39msession_id\n\u001b[0;32m--> 352\u001b[0m response \u001b[38;5;241m=\u001b[39m \u001b[38;5;28;43mself\u001b[39;49m\u001b[38;5;241;43m.\u001b[39;49m\u001b[43mcommand_executor\u001b[49m\u001b[38;5;241;43m.\u001b[39;49m\u001b[43mexecute\u001b[49m\u001b[43m(\u001b[49m\u001b[43mdriver_command\u001b[49m\u001b[43m,\u001b[49m\u001b[43m \u001b[49m\u001b[43mparams\u001b[49m\u001b[43m)\u001b[49m\n\u001b[1;32m    353\u001b[0m \u001b[38;5;28;01mif\u001b[39;00m response:\n\u001b[1;32m    354\u001b[0m     \u001b[38;5;28mself\u001b[39m\u001b[38;5;241m.\u001b[39merror_handler\u001b[38;5;241m.\u001b[39mcheck_response(response)\n",
      "File \u001b[0;32m~/.local/lib/python3.10/site-packages/selenium/webdriver/remote/remote_connection.py:302\u001b[0m, in \u001b[0;36mRemoteConnection.execute\u001b[0;34m(self, command, params)\u001b[0m\n\u001b[1;32m    300\u001b[0m trimmed \u001b[38;5;241m=\u001b[39m \u001b[38;5;28mself\u001b[39m\u001b[38;5;241m.\u001b[39m_trim_large_entries(params)\n\u001b[1;32m    301\u001b[0m LOGGER\u001b[38;5;241m.\u001b[39mdebug(\u001b[38;5;124m\"\u001b[39m\u001b[38;5;132;01m%s\u001b[39;00m\u001b[38;5;124m \u001b[39m\u001b[38;5;132;01m%s\u001b[39;00m\u001b[38;5;124m \u001b[39m\u001b[38;5;132;01m%s\u001b[39;00m\u001b[38;5;124m\"\u001b[39m, command_info[\u001b[38;5;241m0\u001b[39m], url, \u001b[38;5;28mstr\u001b[39m(trimmed))\n\u001b[0;32m--> 302\u001b[0m \u001b[38;5;28;01mreturn\u001b[39;00m \u001b[38;5;28;43mself\u001b[39;49m\u001b[38;5;241;43m.\u001b[39;49m\u001b[43m_request\u001b[49m\u001b[43m(\u001b[49m\u001b[43mcommand_info\u001b[49m\u001b[43m[\u001b[49m\u001b[38;5;241;43m0\u001b[39;49m\u001b[43m]\u001b[49m\u001b[43m,\u001b[49m\u001b[43m \u001b[49m\u001b[43murl\u001b[49m\u001b[43m,\u001b[49m\u001b[43m \u001b[49m\u001b[43mbody\u001b[49m\u001b[38;5;241;43m=\u001b[39;49m\u001b[43mdata\u001b[49m\u001b[43m)\u001b[49m\n",
      "File \u001b[0;32m~/.local/lib/python3.10/site-packages/selenium/webdriver/remote/remote_connection.py:322\u001b[0m, in \u001b[0;36mRemoteConnection._request\u001b[0;34m(self, method, url, body)\u001b[0m\n\u001b[1;32m    319\u001b[0m     body \u001b[38;5;241m=\u001b[39m \u001b[38;5;28;01mNone\u001b[39;00m\n\u001b[1;32m    321\u001b[0m \u001b[38;5;28;01mif\u001b[39;00m \u001b[38;5;28mself\u001b[39m\u001b[38;5;241m.\u001b[39mkeep_alive:\n\u001b[0;32m--> 322\u001b[0m     response \u001b[38;5;241m=\u001b[39m \u001b[38;5;28;43mself\u001b[39;49m\u001b[38;5;241;43m.\u001b[39;49m\u001b[43m_conn\u001b[49m\u001b[38;5;241;43m.\u001b[39;49m\u001b[43mrequest\u001b[49m\u001b[43m(\u001b[49m\u001b[43mmethod\u001b[49m\u001b[43m,\u001b[49m\u001b[43m \u001b[49m\u001b[43murl\u001b[49m\u001b[43m,\u001b[49m\u001b[43m \u001b[49m\u001b[43mbody\u001b[49m\u001b[38;5;241;43m=\u001b[39;49m\u001b[43mbody\u001b[49m\u001b[43m,\u001b[49m\u001b[43m \u001b[49m\u001b[43mheaders\u001b[49m\u001b[38;5;241;43m=\u001b[39;49m\u001b[43mheaders\u001b[49m\u001b[43m)\u001b[49m\n\u001b[1;32m    323\u001b[0m     statuscode \u001b[38;5;241m=\u001b[39m response\u001b[38;5;241m.\u001b[39mstatus\n\u001b[1;32m    324\u001b[0m \u001b[38;5;28;01melse\u001b[39;00m:\n",
      "File \u001b[0;32m/usr/lib/python3/dist-packages/urllib3/request.py:78\u001b[0m, in \u001b[0;36mRequestMethods.request\u001b[0;34m(self, method, url, fields, headers, **urlopen_kw)\u001b[0m\n\u001b[1;32m     74\u001b[0m     \u001b[38;5;28;01mreturn\u001b[39;00m \u001b[38;5;28mself\u001b[39m\u001b[38;5;241m.\u001b[39mrequest_encode_url(\n\u001b[1;32m     75\u001b[0m         method, url, fields\u001b[38;5;241m=\u001b[39mfields, headers\u001b[38;5;241m=\u001b[39mheaders, \u001b[38;5;241m*\u001b[39m\u001b[38;5;241m*\u001b[39murlopen_kw\n\u001b[1;32m     76\u001b[0m     )\n\u001b[1;32m     77\u001b[0m \u001b[38;5;28;01melse\u001b[39;00m:\n\u001b[0;32m---> 78\u001b[0m     \u001b[38;5;28;01mreturn\u001b[39;00m \u001b[38;5;28;43mself\u001b[39;49m\u001b[38;5;241;43m.\u001b[39;49m\u001b[43mrequest_encode_body\u001b[49m\u001b[43m(\u001b[49m\n\u001b[1;32m     79\u001b[0m \u001b[43m        \u001b[49m\u001b[43mmethod\u001b[49m\u001b[43m,\u001b[49m\u001b[43m \u001b[49m\u001b[43murl\u001b[49m\u001b[43m,\u001b[49m\u001b[43m \u001b[49m\u001b[43mfields\u001b[49m\u001b[38;5;241;43m=\u001b[39;49m\u001b[43mfields\u001b[49m\u001b[43m,\u001b[49m\u001b[43m \u001b[49m\u001b[43mheaders\u001b[49m\u001b[38;5;241;43m=\u001b[39;49m\u001b[43mheaders\u001b[49m\u001b[43m,\u001b[49m\u001b[43m \u001b[49m\u001b[38;5;241;43m*\u001b[39;49m\u001b[38;5;241;43m*\u001b[39;49m\u001b[43murlopen_kw\u001b[49m\n\u001b[1;32m     80\u001b[0m \u001b[43m    \u001b[49m\u001b[43m)\u001b[49m\n",
      "File \u001b[0;32m/usr/lib/python3/dist-packages/urllib3/request.py:170\u001b[0m, in \u001b[0;36mRequestMethods.request_encode_body\u001b[0;34m(self, method, url, fields, headers, encode_multipart, multipart_boundary, **urlopen_kw)\u001b[0m\n\u001b[1;32m    167\u001b[0m extra_kw[\u001b[38;5;124m\"\u001b[39m\u001b[38;5;124mheaders\u001b[39m\u001b[38;5;124m\"\u001b[39m]\u001b[38;5;241m.\u001b[39mupdate(headers)\n\u001b[1;32m    168\u001b[0m extra_kw\u001b[38;5;241m.\u001b[39mupdate(urlopen_kw)\n\u001b[0;32m--> 170\u001b[0m \u001b[38;5;28;01mreturn\u001b[39;00m \u001b[38;5;28;43mself\u001b[39;49m\u001b[38;5;241;43m.\u001b[39;49m\u001b[43murlopen\u001b[49m\u001b[43m(\u001b[49m\u001b[43mmethod\u001b[49m\u001b[43m,\u001b[49m\u001b[43m \u001b[49m\u001b[43murl\u001b[49m\u001b[43m,\u001b[49m\u001b[43m \u001b[49m\u001b[38;5;241;43m*\u001b[39;49m\u001b[38;5;241;43m*\u001b[39;49m\u001b[43mextra_kw\u001b[49m\u001b[43m)\u001b[49m\n",
      "File \u001b[0;32m/usr/lib/python3/dist-packages/urllib3/poolmanager.py:375\u001b[0m, in \u001b[0;36mPoolManager.urlopen\u001b[0;34m(self, method, url, redirect, **kw)\u001b[0m\n\u001b[1;32m    373\u001b[0m     response \u001b[38;5;241m=\u001b[39m conn\u001b[38;5;241m.\u001b[39murlopen(method, url, \u001b[38;5;241m*\u001b[39m\u001b[38;5;241m*\u001b[39mkw)\n\u001b[1;32m    374\u001b[0m \u001b[38;5;28;01melse\u001b[39;00m:\n\u001b[0;32m--> 375\u001b[0m     response \u001b[38;5;241m=\u001b[39m \u001b[43mconn\u001b[49m\u001b[38;5;241;43m.\u001b[39;49m\u001b[43murlopen\u001b[49m\u001b[43m(\u001b[49m\u001b[43mmethod\u001b[49m\u001b[43m,\u001b[49m\u001b[43m \u001b[49m\u001b[43mu\u001b[49m\u001b[38;5;241;43m.\u001b[39;49m\u001b[43mrequest_uri\u001b[49m\u001b[43m,\u001b[49m\u001b[43m \u001b[49m\u001b[38;5;241;43m*\u001b[39;49m\u001b[38;5;241;43m*\u001b[39;49m\u001b[43mkw\u001b[49m\u001b[43m)\u001b[49m\n\u001b[1;32m    377\u001b[0m redirect_location \u001b[38;5;241m=\u001b[39m redirect \u001b[38;5;129;01mand\u001b[39;00m response\u001b[38;5;241m.\u001b[39mget_redirect_location()\n\u001b[1;32m    378\u001b[0m \u001b[38;5;28;01mif\u001b[39;00m \u001b[38;5;129;01mnot\u001b[39;00m redirect_location:\n",
      "File \u001b[0;32m/usr/lib/python3/dist-packages/urllib3/connectionpool.py:700\u001b[0m, in \u001b[0;36mHTTPConnectionPool.urlopen\u001b[0;34m(self, method, url, body, headers, retries, redirect, assert_same_host, timeout, pool_timeout, release_conn, chunked, body_pos, **response_kw)\u001b[0m\n\u001b[1;32m    697\u001b[0m     \u001b[38;5;28mself\u001b[39m\u001b[38;5;241m.\u001b[39m_prepare_proxy(conn)\n\u001b[1;32m    699\u001b[0m \u001b[38;5;66;03m# Make the request on the httplib connection object.\u001b[39;00m\n\u001b[0;32m--> 700\u001b[0m httplib_response \u001b[38;5;241m=\u001b[39m \u001b[38;5;28;43mself\u001b[39;49m\u001b[38;5;241;43m.\u001b[39;49m\u001b[43m_make_request\u001b[49m\u001b[43m(\u001b[49m\n\u001b[1;32m    701\u001b[0m \u001b[43m    \u001b[49m\u001b[43mconn\u001b[49m\u001b[43m,\u001b[49m\n\u001b[1;32m    702\u001b[0m \u001b[43m    \u001b[49m\u001b[43mmethod\u001b[49m\u001b[43m,\u001b[49m\n\u001b[1;32m    703\u001b[0m \u001b[43m    \u001b[49m\u001b[43murl\u001b[49m\u001b[43m,\u001b[49m\n\u001b[1;32m    704\u001b[0m \u001b[43m    \u001b[49m\u001b[43mtimeout\u001b[49m\u001b[38;5;241;43m=\u001b[39;49m\u001b[43mtimeout_obj\u001b[49m\u001b[43m,\u001b[49m\n\u001b[1;32m    705\u001b[0m \u001b[43m    \u001b[49m\u001b[43mbody\u001b[49m\u001b[38;5;241;43m=\u001b[39;49m\u001b[43mbody\u001b[49m\u001b[43m,\u001b[49m\n\u001b[1;32m    706\u001b[0m \u001b[43m    \u001b[49m\u001b[43mheaders\u001b[49m\u001b[38;5;241;43m=\u001b[39;49m\u001b[43mheaders\u001b[49m\u001b[43m,\u001b[49m\n\u001b[1;32m    707\u001b[0m \u001b[43m    \u001b[49m\u001b[43mchunked\u001b[49m\u001b[38;5;241;43m=\u001b[39;49m\u001b[43mchunked\u001b[49m\u001b[43m,\u001b[49m\n\u001b[1;32m    708\u001b[0m \u001b[43m\u001b[49m\u001b[43m)\u001b[49m\n\u001b[1;32m    710\u001b[0m \u001b[38;5;66;03m# If we're going to release the connection in ``finally:``, then\u001b[39;00m\n\u001b[1;32m    711\u001b[0m \u001b[38;5;66;03m# the response doesn't need to know about the connection. Otherwise\u001b[39;00m\n\u001b[1;32m    712\u001b[0m \u001b[38;5;66;03m# it will also try to release it and we'll have a double-release\u001b[39;00m\n\u001b[1;32m    713\u001b[0m \u001b[38;5;66;03m# mess.\u001b[39;00m\n\u001b[1;32m    714\u001b[0m response_conn \u001b[38;5;241m=\u001b[39m conn \u001b[38;5;28;01mif\u001b[39;00m \u001b[38;5;129;01mnot\u001b[39;00m release_conn \u001b[38;5;28;01melse\u001b[39;00m \u001b[38;5;28;01mNone\u001b[39;00m\n",
      "File \u001b[0;32m/usr/lib/python3/dist-packages/urllib3/connectionpool.py:446\u001b[0m, in \u001b[0;36mHTTPConnectionPool._make_request\u001b[0;34m(self, conn, method, url, timeout, chunked, **httplib_request_kw)\u001b[0m\n\u001b[1;32m    441\u001b[0m             httplib_response \u001b[38;5;241m=\u001b[39m conn\u001b[38;5;241m.\u001b[39mgetresponse()\n\u001b[1;32m    442\u001b[0m         \u001b[38;5;28;01mexcept\u001b[39;00m \u001b[38;5;167;01mBaseException\u001b[39;00m \u001b[38;5;28;01mas\u001b[39;00m e:\n\u001b[1;32m    443\u001b[0m             \u001b[38;5;66;03m# Remove the TypeError from the exception chain in\u001b[39;00m\n\u001b[1;32m    444\u001b[0m             \u001b[38;5;66;03m# Python 3 (including for exceptions like SystemExit).\u001b[39;00m\n\u001b[1;32m    445\u001b[0m             \u001b[38;5;66;03m# Otherwise it looks like a bug in the code.\u001b[39;00m\n\u001b[0;32m--> 446\u001b[0m             \u001b[43msix\u001b[49m\u001b[38;5;241;43m.\u001b[39;49m\u001b[43mraise_from\u001b[49m\u001b[43m(\u001b[49m\u001b[43me\u001b[49m\u001b[43m,\u001b[49m\u001b[43m \u001b[49m\u001b[38;5;28;43;01mNone\u001b[39;49;00m\u001b[43m)\u001b[49m\n\u001b[1;32m    447\u001b[0m \u001b[38;5;28;01mexcept\u001b[39;00m (SocketTimeout, BaseSSLError, SocketError) \u001b[38;5;28;01mas\u001b[39;00m e:\n\u001b[1;32m    448\u001b[0m     \u001b[38;5;28mself\u001b[39m\u001b[38;5;241m.\u001b[39m_raise_timeout(err\u001b[38;5;241m=\u001b[39me, url\u001b[38;5;241m=\u001b[39murl, timeout_value\u001b[38;5;241m=\u001b[39mread_timeout)\n",
      "File \u001b[0;32m<string>:3\u001b[0m, in \u001b[0;36mraise_from\u001b[0;34m(value, from_value)\u001b[0m\n",
      "File \u001b[0;32m/usr/lib/python3/dist-packages/urllib3/connectionpool.py:441\u001b[0m, in \u001b[0;36mHTTPConnectionPool._make_request\u001b[0;34m(self, conn, method, url, timeout, chunked, **httplib_request_kw)\u001b[0m\n\u001b[1;32m    438\u001b[0m \u001b[38;5;28;01mexcept\u001b[39;00m \u001b[38;5;167;01mTypeError\u001b[39;00m:\n\u001b[1;32m    439\u001b[0m     \u001b[38;5;66;03m# Python 3\u001b[39;00m\n\u001b[1;32m    440\u001b[0m     \u001b[38;5;28;01mtry\u001b[39;00m:\n\u001b[0;32m--> 441\u001b[0m         httplib_response \u001b[38;5;241m=\u001b[39m \u001b[43mconn\u001b[49m\u001b[38;5;241;43m.\u001b[39;49m\u001b[43mgetresponse\u001b[49m\u001b[43m(\u001b[49m\u001b[43m)\u001b[49m\n\u001b[1;32m    442\u001b[0m     \u001b[38;5;28;01mexcept\u001b[39;00m \u001b[38;5;167;01mBaseException\u001b[39;00m \u001b[38;5;28;01mas\u001b[39;00m e:\n\u001b[1;32m    443\u001b[0m         \u001b[38;5;66;03m# Remove the TypeError from the exception chain in\u001b[39;00m\n\u001b[1;32m    444\u001b[0m         \u001b[38;5;66;03m# Python 3 (including for exceptions like SystemExit).\u001b[39;00m\n\u001b[1;32m    445\u001b[0m         \u001b[38;5;66;03m# Otherwise it looks like a bug in the code.\u001b[39;00m\n\u001b[1;32m    446\u001b[0m         six\u001b[38;5;241m.\u001b[39mraise_from(e, \u001b[38;5;28;01mNone\u001b[39;00m)\n",
      "File \u001b[0;32m/usr/lib/python3.10/http/client.py:1375\u001b[0m, in \u001b[0;36mHTTPConnection.getresponse\u001b[0;34m(self)\u001b[0m\n\u001b[1;32m   1373\u001b[0m \u001b[38;5;28;01mtry\u001b[39;00m:\n\u001b[1;32m   1374\u001b[0m     \u001b[38;5;28;01mtry\u001b[39;00m:\n\u001b[0;32m-> 1375\u001b[0m         \u001b[43mresponse\u001b[49m\u001b[38;5;241;43m.\u001b[39;49m\u001b[43mbegin\u001b[49m\u001b[43m(\u001b[49m\u001b[43m)\u001b[49m\n\u001b[1;32m   1376\u001b[0m     \u001b[38;5;28;01mexcept\u001b[39;00m \u001b[38;5;167;01mConnectionError\u001b[39;00m:\n\u001b[1;32m   1377\u001b[0m         \u001b[38;5;28mself\u001b[39m\u001b[38;5;241m.\u001b[39mclose()\n",
      "File \u001b[0;32m/usr/lib/python3.10/http/client.py:318\u001b[0m, in \u001b[0;36mHTTPResponse.begin\u001b[0;34m(self)\u001b[0m\n\u001b[1;32m    316\u001b[0m \u001b[38;5;66;03m# read until we get a non-100 response\u001b[39;00m\n\u001b[1;32m    317\u001b[0m \u001b[38;5;28;01mwhile\u001b[39;00m \u001b[38;5;28;01mTrue\u001b[39;00m:\n\u001b[0;32m--> 318\u001b[0m     version, status, reason \u001b[38;5;241m=\u001b[39m \u001b[38;5;28;43mself\u001b[39;49m\u001b[38;5;241;43m.\u001b[39;49m\u001b[43m_read_status\u001b[49m\u001b[43m(\u001b[49m\u001b[43m)\u001b[49m\n\u001b[1;32m    319\u001b[0m     \u001b[38;5;28;01mif\u001b[39;00m status \u001b[38;5;241m!=\u001b[39m CONTINUE:\n\u001b[1;32m    320\u001b[0m         \u001b[38;5;28;01mbreak\u001b[39;00m\n",
      "File \u001b[0;32m/usr/lib/python3.10/http/client.py:279\u001b[0m, in \u001b[0;36mHTTPResponse._read_status\u001b[0;34m(self)\u001b[0m\n\u001b[1;32m    278\u001b[0m \u001b[38;5;28;01mdef\u001b[39;00m \u001b[38;5;21m_read_status\u001b[39m(\u001b[38;5;28mself\u001b[39m):\n\u001b[0;32m--> 279\u001b[0m     line \u001b[38;5;241m=\u001b[39m \u001b[38;5;28mstr\u001b[39m(\u001b[38;5;28;43mself\u001b[39;49m\u001b[38;5;241;43m.\u001b[39;49m\u001b[43mfp\u001b[49m\u001b[38;5;241;43m.\u001b[39;49m\u001b[43mreadline\u001b[49m\u001b[43m(\u001b[49m\u001b[43m_MAXLINE\u001b[49m\u001b[43m \u001b[49m\u001b[38;5;241;43m+\u001b[39;49m\u001b[43m \u001b[49m\u001b[38;5;241;43m1\u001b[39;49m\u001b[43m)\u001b[49m, \u001b[38;5;124m\"\u001b[39m\u001b[38;5;124miso-8859-1\u001b[39m\u001b[38;5;124m\"\u001b[39m)\n\u001b[1;32m    280\u001b[0m     \u001b[38;5;28;01mif\u001b[39;00m \u001b[38;5;28mlen\u001b[39m(line) \u001b[38;5;241m>\u001b[39m _MAXLINE:\n\u001b[1;32m    281\u001b[0m         \u001b[38;5;28;01mraise\u001b[39;00m LineTooLong(\u001b[38;5;124m\"\u001b[39m\u001b[38;5;124mstatus line\u001b[39m\u001b[38;5;124m\"\u001b[39m)\n",
      "File \u001b[0;32m/usr/lib/python3.10/socket.py:705\u001b[0m, in \u001b[0;36mSocketIO.readinto\u001b[0;34m(self, b)\u001b[0m\n\u001b[1;32m    703\u001b[0m \u001b[38;5;28;01mwhile\u001b[39;00m \u001b[38;5;28;01mTrue\u001b[39;00m:\n\u001b[1;32m    704\u001b[0m     \u001b[38;5;28;01mtry\u001b[39;00m:\n\u001b[0;32m--> 705\u001b[0m         \u001b[38;5;28;01mreturn\u001b[39;00m \u001b[38;5;28;43mself\u001b[39;49m\u001b[38;5;241;43m.\u001b[39;49m\u001b[43m_sock\u001b[49m\u001b[38;5;241;43m.\u001b[39;49m\u001b[43mrecv_into\u001b[49m\u001b[43m(\u001b[49m\u001b[43mb\u001b[49m\u001b[43m)\u001b[49m\n\u001b[1;32m    706\u001b[0m     \u001b[38;5;28;01mexcept\u001b[39;00m timeout:\n\u001b[1;32m    707\u001b[0m         \u001b[38;5;28mself\u001b[39m\u001b[38;5;241m.\u001b[39m_timeout_occurred \u001b[38;5;241m=\u001b[39m \u001b[38;5;28;01mTrue\u001b[39;00m\n",
      "\u001b[0;31mKeyboardInterrupt\u001b[0m: "
     ]
    }
   ],
   "source": [
    "driver = webdriver.Firefox()\n",
    "\n",
    "stitchers = []\n",
    "stitchees = []\n",
    "with open('booktok_edgelist.txt', 'w') as f:\n",
    "    for idx in tqdm(range(len(videos))):\n",
    "        video = videos[idx]\n",
    "        url = f'https://www.tiktok.com/@{video[\"username\"]}/video/{video[\"id\"]}'\n",
    "\n",
    "        driver.get(url)\n",
    "        sleep(2)\n",
    "\n",
    "        xpath = '/html/body/div[1]/div[2]/div[2]/div/div[2]/div[1]/div[1]/div[2]/div[2]/div[1]/div/h1/a[2]'\n",
    "        links = driver.find_elements('xpath', xpath)\n",
    "        hrefs = [link.get_attribute('href') for link in links]\n",
    "\n",
    "        if len(hrefs) == 0:\n",
    "            continue\n",
    "\n",
    "        if len(hrefs) > 1:\n",
    "            print(f'Multiple stitches found for {url}')\n",
    "            print(hrefs)\n",
    "\n",
    "        stitchers.append(url)\n",
    "        stitchees.append(hrefs)\n",
    "        f.write(f'{url}\\t{hrefs[0]}\\n')\n",
    "        print(idx, f'{url}\\t{hrefs[0]}\\n')\n",
    "        sleep(2)\n",
    "\n",
    "driver.close()\n"
   ]
  }
 ],
 "metadata": {
  "kernelspec": {
   "display_name": "Python 3",
   "language": "python",
   "name": "python3"
  },
  "language_info": {
   "codemirror_mode": {
    "name": "ipython",
    "version": 3
   },
   "file_extension": ".py",
   "mimetype": "text/x-python",
   "name": "python",
   "nbconvert_exporter": "python",
   "pygments_lexer": "ipython3",
   "version": "3.10.12"
  }
 },
 "nbformat": 4,
 "nbformat_minor": 2
}
