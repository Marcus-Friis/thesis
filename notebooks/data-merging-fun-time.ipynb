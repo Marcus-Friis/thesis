{
 "cells": [
  {
   "cell_type": "code",
   "execution_count": 101,
   "metadata": {},
   "outputs": [],
   "source": [
    "import json\n",
    "from collections import Counter"
   ]
  },
  {
   "cell_type": "code",
   "execution_count": 102,
   "metadata": {},
   "outputs": [],
   "source": [
    "with open('../data/hashtags/stitch/vertices/sources/maga.json') as f:\n",
    "    sources = json.load(f)\n",
    "\n",
    "with open('../data/hashtags/stitch/vertices/targets/maga.json') as f:\n",
    "    targets = json.load(f)\n",
    "\n",
    "with open('../data/hashtags/stitch/edges/maga_edges.txt') as f:\n",
    "    edges = f.readlines()"
   ]
  },
  {
   "cell_type": "code",
   "execution_count": 103,
   "metadata": {},
   "outputs": [],
   "source": [
    "stitcher, stitchee = zip(*[edge.strip().split(',') for edge in edges])\n",
    "stitcher = [s.split('/')[-1] for s in stitcher]\n",
    "stitchee = [s.split('/')[-1] for s in stitchee]\n",
    "\n",
    "# convert stitchers and stitchees to integers if not 'None'\n",
    "stitcher = [int(s) if s != 'None' else None for s in stitcher]\n",
    "stitchee = [int(s) if s != 'None' else None for s in stitchee]"
   ]
  },
  {
   "cell_type": "code",
   "execution_count": 104,
   "metadata": {},
   "outputs": [],
   "source": [
    "data = {}\n",
    "\n",
    "for video in sources + targets:\n",
    "    data[video['id']] = video\n",
    "\n",
    "    if video['id'] in stitcher:\n",
    "        data[video['id']]['is_stitcher'] = True\n",
    "        for i in range(len(stitcher)):\n",
    "            if stitcher[i] == video['id']:\n",
    "                data[video['id']]['stitches'] = stitchee[i]\n",
    "    else:\n",
    "        data[video['id']]['is_stitcher'] = False\n",
    "    \n",
    "    if video['id'] in stitchee:\n",
    "        data[video['id']]['is_stitchee'] = True\n",
    "        for i in range(len(stitchee)):\n",
    "            if stitchee[i] == video['id']:\n",
    "                if 'stitchers' in data[video['id']]:\n",
    "                    data[video['id']]['stitchers'].append(stitcher[i])\n",
    "                else:\n",
    "                    data[video['id']]['stitchers'] = [stitcher[i]]\n",
    "    else:\n",
    "        data[video['id']]['is_stitchee'] = False"
   ]
  },
  {
   "cell_type": "code",
   "execution_count": 109,
   "metadata": {},
   "outputs": [
    {
     "data": {
      "text/plain": [
       "{'username': 'biggenhaulen',\n",
       " 'video_description': '#stitch with @MAGA 👑 KING 👑 🇺🇸#fypシ゚viral #maga #Trump #trump2024 #draintheswamp ',\n",
       " 'view_count': 329,\n",
       " 'create_time': 1717195830,\n",
       " 'hashtag_names': ['stitch',\n",
       "  'trump',\n",
       "  'maga',\n",
       "  'draintheswamp',\n",
       "  'trump2024',\n",
       "  'fypシ゚viral'],\n",
       " 'id': 7375299912499612974,\n",
       " 'is_stem_verified': False,\n",
       " 'region_code': 'US',\n",
       " 'is_stitcher': True,\n",
       " 'stitches': 7370132597608828206,\n",
       " 'is_stitchee': False}"
      ]
     },
     "execution_count": 109,
     "metadata": {},
     "output_type": "execute_result"
    }
   ],
   "source": [
    "list(data.values())[2]"
   ]
  },
  {
   "cell_type": "code",
   "execution_count": 113,
   "metadata": {},
   "outputs": [
    {
     "data": {
      "text/plain": [
       "{'is_stem_verified': False,\n",
       " 'region_code': 'us',\n",
       " 'username': 'drewcifers',\n",
       " 'video_description': '#daddydrewcifers ',\n",
       " 'view_count': 559,\n",
       " 'create_time': 1716040604,\n",
       " 'hashtag_names': ['daddydrewcifers'],\n",
       " 'id': 7370338195956944170,\n",
       " 'is_stitcher': False,\n",
       " 'is_stitchee': True,\n",
       " 'stitchers': [7370344417837813038]}"
      ]
     },
     "execution_count": 113,
     "metadata": {},
     "output_type": "execute_result"
    }
   ],
   "source": [
    "data[7370338195956944170]"
   ]
  }
 ],
 "metadata": {
  "kernelspec": {
   "display_name": "Python 3",
   "language": "python",
   "name": "python3"
  },
  "language_info": {
   "codemirror_mode": {
    "name": "ipython",
    "version": 3
   },
   "file_extension": ".py",
   "mimetype": "text/x-python",
   "name": "python",
   "nbconvert_exporter": "python",
   "pygments_lexer": "ipython3",
   "version": "3.10.12"
  }
 },
 "nbformat": 4,
 "nbformat_minor": 2
}
